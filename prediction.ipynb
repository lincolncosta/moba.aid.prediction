{
 "cells": [
  {
   "cell_type": "code",
   "execution_count": 6,
   "metadata": {},
   "outputs": [],
   "source": [
    "import pandas as pd\n",
    "import numpy as np\n",
    "from datetime import datetime\n",
    "\n",
    "from sklearn.model_selection import train_test_split, GridSearchCV, StratifiedKFold\n",
    "from sklearn.preprocessing import StandardScaler\n",
    "from sklearn.feature_selection import SelectKBest,f_classif\n",
    "from sklearn.metrics import accuracy_score, precision_score,recall_score,f1_score"
   ]
  },
  {
   "cell_type": "code",
   "execution_count": 7,
   "metadata": {},
   "outputs": [
    {
     "output_type": "execute_result",
     "data": {
      "text/plain": [
       "                       game  blueTopGP  blueTopWR  blueTopKDA  blueJungleGP  \\\n",
       "0     ESPORTSTMNT03/1632489          0       0.00        0.00            14   \n",
       "1     ESPORTSTMNT03/1632500          2       0.50        2.50             4   \n",
       "2     ESPORTSTMNT03/1632502          3       0.33        2.33             5   \n",
       "3                 6909-9183          0       0.00        0.00             3   \n",
       "4                 6909-9184          0       0.00        0.00             2   \n",
       "...                     ...        ...        ...         ...           ...   \n",
       "7724  ESPORTSTMNT01/2138172          0       0.00        0.00             1   \n",
       "7725  ESPORTSTMNT01/2148437          4       0.75        4.29             5   \n",
       "7726  ESPORTSTMNT01/2138187          0       0.00        0.00             0   \n",
       "7727  ESPORTSTMNT01/2148443          6       0.67        3.92             5   \n",
       "7728  ESPORTSTMNT01/2138199          0       0.00        0.00             3   \n",
       "\n",
       "      blueJungleWR  blueJungleKDA  blueMidGP  blueMidWR  blueMidKDA  ...  \\\n",
       "0             0.57           7.45          0       0.00        0.00  ...   \n",
       "1             0.75           6.40          0       0.00        0.00  ...   \n",
       "2             0.60           4.50          1       0.00        8.00  ...   \n",
       "3             0.33           5.00          4       0.50       12.25  ...   \n",
       "4             0.50           3.00          6       0.33        4.17  ...   \n",
       "...            ...            ...        ...        ...         ...  ...   \n",
       "7724          0.00          14.00          0       0.00        0.00  ...   \n",
       "7725          0.60           3.92          4       0.75        5.78  ...   \n",
       "7726          0.00           0.00          1       0.00        0.50  ...   \n",
       "7727          0.60           2.83          3       0.67        2.33  ...   \n",
       "7728          1.00           1.29          0       0.00        0.00  ...   \n",
       "\n",
       "      redMidGP  redMidWR  redMidKDA  redAdcGP  redAdcWR  redAdcKDA  \\\n",
       "0            3      0.33      10.67         1      0.00      13.00   \n",
       "1           12      0.75       5.21         3      0.67      11.67   \n",
       "2            0      0.00       0.00         4      0.50       9.80   \n",
       "3            0      0.00       0.00         0      0.00       0.00   \n",
       "4            1      0.00       7.00         1      0.00       8.00   \n",
       "...        ...       ...        ...       ...       ...        ...   \n",
       "7724         0      0.00       0.00         0      0.00       0.00   \n",
       "7725         1      0.00      12.00         4      0.25      10.80   \n",
       "7726         1      1.00       8.50         1      1.00      21.00   \n",
       "7727         0      0.00       0.00         2      0.50       6.50   \n",
       "7728         0      0.00       0.00         6      0.67       7.12   \n",
       "\n",
       "      redSupportGP  redSupportWR  redSupportKDA  result  \n",
       "0                4          0.25           4.45       0  \n",
       "1                2          0.50           9.67       1  \n",
       "2                3          0.33           8.40       1  \n",
       "3                0          0.00           0.00       1  \n",
       "4                0          0.00           0.00       1  \n",
       "...            ...           ...            ...     ...  \n",
       "7724             0          0.00           0.00       1  \n",
       "7725             1          0.00           1.71       1  \n",
       "7726             1          1.00           7.67       1  \n",
       "7727             6          0.50           2.04       0  \n",
       "7728             1          0.00           8.00       1  \n",
       "\n",
       "[7729 rows x 32 columns]"
      ],
      "text/html": "<div>\n<style scoped>\n    .dataframe tbody tr th:only-of-type {\n        vertical-align: middle;\n    }\n\n    .dataframe tbody tr th {\n        vertical-align: top;\n    }\n\n    .dataframe thead th {\n        text-align: right;\n    }\n</style>\n<table border=\"1\" class=\"dataframe\">\n  <thead>\n    <tr style=\"text-align: right;\">\n      <th></th>\n      <th>game</th>\n      <th>blueTopGP</th>\n      <th>blueTopWR</th>\n      <th>blueTopKDA</th>\n      <th>blueJungleGP</th>\n      <th>blueJungleWR</th>\n      <th>blueJungleKDA</th>\n      <th>blueMidGP</th>\n      <th>blueMidWR</th>\n      <th>blueMidKDA</th>\n      <th>...</th>\n      <th>redMidGP</th>\n      <th>redMidWR</th>\n      <th>redMidKDA</th>\n      <th>redAdcGP</th>\n      <th>redAdcWR</th>\n      <th>redAdcKDA</th>\n      <th>redSupportGP</th>\n      <th>redSupportWR</th>\n      <th>redSupportKDA</th>\n      <th>result</th>\n    </tr>\n  </thead>\n  <tbody>\n    <tr>\n      <th>0</th>\n      <td>ESPORTSTMNT03/1632489</td>\n      <td>0</td>\n      <td>0.00</td>\n      <td>0.00</td>\n      <td>14</td>\n      <td>0.57</td>\n      <td>7.45</td>\n      <td>0</td>\n      <td>0.00</td>\n      <td>0.00</td>\n      <td>...</td>\n      <td>3</td>\n      <td>0.33</td>\n      <td>10.67</td>\n      <td>1</td>\n      <td>0.00</td>\n      <td>13.00</td>\n      <td>4</td>\n      <td>0.25</td>\n      <td>4.45</td>\n      <td>0</td>\n    </tr>\n    <tr>\n      <th>1</th>\n      <td>ESPORTSTMNT03/1632500</td>\n      <td>2</td>\n      <td>0.50</td>\n      <td>2.50</td>\n      <td>4</td>\n      <td>0.75</td>\n      <td>6.40</td>\n      <td>0</td>\n      <td>0.00</td>\n      <td>0.00</td>\n      <td>...</td>\n      <td>12</td>\n      <td>0.75</td>\n      <td>5.21</td>\n      <td>3</td>\n      <td>0.67</td>\n      <td>11.67</td>\n      <td>2</td>\n      <td>0.50</td>\n      <td>9.67</td>\n      <td>1</td>\n    </tr>\n    <tr>\n      <th>2</th>\n      <td>ESPORTSTMNT03/1632502</td>\n      <td>3</td>\n      <td>0.33</td>\n      <td>2.33</td>\n      <td>5</td>\n      <td>0.60</td>\n      <td>4.50</td>\n      <td>1</td>\n      <td>0.00</td>\n      <td>8.00</td>\n      <td>...</td>\n      <td>0</td>\n      <td>0.00</td>\n      <td>0.00</td>\n      <td>4</td>\n      <td>0.50</td>\n      <td>9.80</td>\n      <td>3</td>\n      <td>0.33</td>\n      <td>8.40</td>\n      <td>1</td>\n    </tr>\n    <tr>\n      <th>3</th>\n      <td>6909-9183</td>\n      <td>0</td>\n      <td>0.00</td>\n      <td>0.00</td>\n      <td>3</td>\n      <td>0.33</td>\n      <td>5.00</td>\n      <td>4</td>\n      <td>0.50</td>\n      <td>12.25</td>\n      <td>...</td>\n      <td>0</td>\n      <td>0.00</td>\n      <td>0.00</td>\n      <td>0</td>\n      <td>0.00</td>\n      <td>0.00</td>\n      <td>0</td>\n      <td>0.00</td>\n      <td>0.00</td>\n      <td>1</td>\n    </tr>\n    <tr>\n      <th>4</th>\n      <td>6909-9184</td>\n      <td>0</td>\n      <td>0.00</td>\n      <td>0.00</td>\n      <td>2</td>\n      <td>0.50</td>\n      <td>3.00</td>\n      <td>6</td>\n      <td>0.33</td>\n      <td>4.17</td>\n      <td>...</td>\n      <td>1</td>\n      <td>0.00</td>\n      <td>7.00</td>\n      <td>1</td>\n      <td>0.00</td>\n      <td>8.00</td>\n      <td>0</td>\n      <td>0.00</td>\n      <td>0.00</td>\n      <td>1</td>\n    </tr>\n    <tr>\n      <th>...</th>\n      <td>...</td>\n      <td>...</td>\n      <td>...</td>\n      <td>...</td>\n      <td>...</td>\n      <td>...</td>\n      <td>...</td>\n      <td>...</td>\n      <td>...</td>\n      <td>...</td>\n      <td>...</td>\n      <td>...</td>\n      <td>...</td>\n      <td>...</td>\n      <td>...</td>\n      <td>...</td>\n      <td>...</td>\n      <td>...</td>\n      <td>...</td>\n      <td>...</td>\n      <td>...</td>\n    </tr>\n    <tr>\n      <th>7724</th>\n      <td>ESPORTSTMNT01/2138172</td>\n      <td>0</td>\n      <td>0.00</td>\n      <td>0.00</td>\n      <td>1</td>\n      <td>0.00</td>\n      <td>14.00</td>\n      <td>0</td>\n      <td>0.00</td>\n      <td>0.00</td>\n      <td>...</td>\n      <td>0</td>\n      <td>0.00</td>\n      <td>0.00</td>\n      <td>0</td>\n      <td>0.00</td>\n      <td>0.00</td>\n      <td>0</td>\n      <td>0.00</td>\n      <td>0.00</td>\n      <td>1</td>\n    </tr>\n    <tr>\n      <th>7725</th>\n      <td>ESPORTSTMNT01/2148437</td>\n      <td>4</td>\n      <td>0.75</td>\n      <td>4.29</td>\n      <td>5</td>\n      <td>0.60</td>\n      <td>3.92</td>\n      <td>4</td>\n      <td>0.75</td>\n      <td>5.78</td>\n      <td>...</td>\n      <td>1</td>\n      <td>0.00</td>\n      <td>12.00</td>\n      <td>4</td>\n      <td>0.25</td>\n      <td>10.80</td>\n      <td>1</td>\n      <td>0.00</td>\n      <td>1.71</td>\n      <td>1</td>\n    </tr>\n    <tr>\n      <th>7726</th>\n      <td>ESPORTSTMNT01/2138187</td>\n      <td>0</td>\n      <td>0.00</td>\n      <td>0.00</td>\n      <td>0</td>\n      <td>0.00</td>\n      <td>0.00</td>\n      <td>1</td>\n      <td>0.00</td>\n      <td>0.50</td>\n      <td>...</td>\n      <td>1</td>\n      <td>1.00</td>\n      <td>8.50</td>\n      <td>1</td>\n      <td>1.00</td>\n      <td>21.00</td>\n      <td>1</td>\n      <td>1.00</td>\n      <td>7.67</td>\n      <td>1</td>\n    </tr>\n    <tr>\n      <th>7727</th>\n      <td>ESPORTSTMNT01/2148443</td>\n      <td>6</td>\n      <td>0.67</td>\n      <td>3.92</td>\n      <td>5</td>\n      <td>0.60</td>\n      <td>2.83</td>\n      <td>3</td>\n      <td>0.67</td>\n      <td>2.33</td>\n      <td>...</td>\n      <td>0</td>\n      <td>0.00</td>\n      <td>0.00</td>\n      <td>2</td>\n      <td>0.50</td>\n      <td>6.50</td>\n      <td>6</td>\n      <td>0.50</td>\n      <td>2.04</td>\n      <td>0</td>\n    </tr>\n    <tr>\n      <th>7728</th>\n      <td>ESPORTSTMNT01/2138199</td>\n      <td>0</td>\n      <td>0.00</td>\n      <td>0.00</td>\n      <td>3</td>\n      <td>1.00</td>\n      <td>1.29</td>\n      <td>0</td>\n      <td>0.00</td>\n      <td>0.00</td>\n      <td>...</td>\n      <td>0</td>\n      <td>0.00</td>\n      <td>0.00</td>\n      <td>6</td>\n      <td>0.67</td>\n      <td>7.12</td>\n      <td>1</td>\n      <td>0.00</td>\n      <td>8.00</td>\n      <td>1</td>\n    </tr>\n  </tbody>\n</table>\n<p>7729 rows × 32 columns</p>\n</div>"
     },
     "metadata": {},
     "execution_count": 7
    }
   ],
   "source": [
    "df = pd.read_csv('outputs/dataset_players_statistics.csv')\n",
    "df"
   ]
  },
  {
   "cell_type": "code",
   "execution_count": 8,
   "metadata": {},
   "outputs": [
    {
     "output_type": "execute_result",
     "data": {
      "text/plain": [
       "      blueTopGP  blueTopWR  blueTopKDA  blueJungleGP  blueJungleWR  \\\n",
       "0             0       0.00        0.00            14          0.57   \n",
       "1             2       0.50        2.50             4          0.75   \n",
       "2             3       0.33        2.33             5          0.60   \n",
       "3             0       0.00        0.00             3          0.33   \n",
       "4             0       0.00        0.00             2          0.50   \n",
       "...         ...        ...         ...           ...           ...   \n",
       "7724          0       0.00        0.00             1          0.00   \n",
       "7725          4       0.75        4.29             5          0.60   \n",
       "7726          0       0.00        0.00             0          0.00   \n",
       "7727          6       0.67        3.92             5          0.60   \n",
       "7728          0       0.00        0.00             3          1.00   \n",
       "\n",
       "      blueJungleKDA  blueMidGP  blueMidWR  blueMidKDA  blueADCGP  ...  \\\n",
       "0              7.45          0       0.00        0.00          2  ...   \n",
       "1              6.40          0       0.00        0.00          4  ...   \n",
       "2              4.50          1       0.00        8.00          0  ...   \n",
       "3              5.00          4       0.50       12.25          0  ...   \n",
       "4              3.00          6       0.33        4.17          1  ...   \n",
       "...             ...        ...        ...         ...        ...  ...   \n",
       "7724          14.00          0       0.00        0.00          0  ...   \n",
       "7725           3.92          4       0.75        5.78          3  ...   \n",
       "7726           0.00          1       0.00        0.50          1  ...   \n",
       "7727           2.83          3       0.67        2.33          8  ...   \n",
       "7728           1.29          0       0.00        0.00          0  ...   \n",
       "\n",
       "      redJungleKDA  redMidGP  redMidWR  redMidKDA  redAdcGP  redAdcWR  \\\n",
       "0             3.11         3      0.33      10.67         1      0.00   \n",
       "1             3.43        12      0.75       5.21         3      0.67   \n",
       "2             6.67         0      0.00       0.00         4      0.50   \n",
       "3             1.50         0      0.00       0.00         0      0.00   \n",
       "4             0.00         1      0.00       7.00         1      0.00   \n",
       "...            ...       ...       ...        ...       ...       ...   \n",
       "7724          0.00         0      0.00       0.00         0      0.00   \n",
       "7725          7.00         1      0.00      12.00         4      0.25   \n",
       "7726          0.00         1      1.00       8.50         1      1.00   \n",
       "7727          0.00         0      0.00       0.00         2      0.50   \n",
       "7728          0.00         0      0.00       0.00         6      0.67   \n",
       "\n",
       "      redAdcKDA  redSupportGP  redSupportWR  redSupportKDA  \n",
       "0         13.00             4          0.25           4.45  \n",
       "1         11.67             2          0.50           9.67  \n",
       "2          9.80             3          0.33           8.40  \n",
       "3          0.00             0          0.00           0.00  \n",
       "4          8.00             0          0.00           0.00  \n",
       "...         ...           ...           ...            ...  \n",
       "7724       0.00             0          0.00           0.00  \n",
       "7725      10.80             1          0.00           1.71  \n",
       "7726      21.00             1          1.00           7.67  \n",
       "7727       6.50             6          0.50           2.04  \n",
       "7728       7.12             1          0.00           8.00  \n",
       "\n",
       "[7729 rows x 30 columns]"
      ],
      "text/html": "<div>\n<style scoped>\n    .dataframe tbody tr th:only-of-type {\n        vertical-align: middle;\n    }\n\n    .dataframe tbody tr th {\n        vertical-align: top;\n    }\n\n    .dataframe thead th {\n        text-align: right;\n    }\n</style>\n<table border=\"1\" class=\"dataframe\">\n  <thead>\n    <tr style=\"text-align: right;\">\n      <th></th>\n      <th>blueTopGP</th>\n      <th>blueTopWR</th>\n      <th>blueTopKDA</th>\n      <th>blueJungleGP</th>\n      <th>blueJungleWR</th>\n      <th>blueJungleKDA</th>\n      <th>blueMidGP</th>\n      <th>blueMidWR</th>\n      <th>blueMidKDA</th>\n      <th>blueADCGP</th>\n      <th>...</th>\n      <th>redJungleKDA</th>\n      <th>redMidGP</th>\n      <th>redMidWR</th>\n      <th>redMidKDA</th>\n      <th>redAdcGP</th>\n      <th>redAdcWR</th>\n      <th>redAdcKDA</th>\n      <th>redSupportGP</th>\n      <th>redSupportWR</th>\n      <th>redSupportKDA</th>\n    </tr>\n  </thead>\n  <tbody>\n    <tr>\n      <th>0</th>\n      <td>0</td>\n      <td>0.00</td>\n      <td>0.00</td>\n      <td>14</td>\n      <td>0.57</td>\n      <td>7.45</td>\n      <td>0</td>\n      <td>0.00</td>\n      <td>0.00</td>\n      <td>2</td>\n      <td>...</td>\n      <td>3.11</td>\n      <td>3</td>\n      <td>0.33</td>\n      <td>10.67</td>\n      <td>1</td>\n      <td>0.00</td>\n      <td>13.00</td>\n      <td>4</td>\n      <td>0.25</td>\n      <td>4.45</td>\n    </tr>\n    <tr>\n      <th>1</th>\n      <td>2</td>\n      <td>0.50</td>\n      <td>2.50</td>\n      <td>4</td>\n      <td>0.75</td>\n      <td>6.40</td>\n      <td>0</td>\n      <td>0.00</td>\n      <td>0.00</td>\n      <td>4</td>\n      <td>...</td>\n      <td>3.43</td>\n      <td>12</td>\n      <td>0.75</td>\n      <td>5.21</td>\n      <td>3</td>\n      <td>0.67</td>\n      <td>11.67</td>\n      <td>2</td>\n      <td>0.50</td>\n      <td>9.67</td>\n    </tr>\n    <tr>\n      <th>2</th>\n      <td>3</td>\n      <td>0.33</td>\n      <td>2.33</td>\n      <td>5</td>\n      <td>0.60</td>\n      <td>4.50</td>\n      <td>1</td>\n      <td>0.00</td>\n      <td>8.00</td>\n      <td>0</td>\n      <td>...</td>\n      <td>6.67</td>\n      <td>0</td>\n      <td>0.00</td>\n      <td>0.00</td>\n      <td>4</td>\n      <td>0.50</td>\n      <td>9.80</td>\n      <td>3</td>\n      <td>0.33</td>\n      <td>8.40</td>\n    </tr>\n    <tr>\n      <th>3</th>\n      <td>0</td>\n      <td>0.00</td>\n      <td>0.00</td>\n      <td>3</td>\n      <td>0.33</td>\n      <td>5.00</td>\n      <td>4</td>\n      <td>0.50</td>\n      <td>12.25</td>\n      <td>0</td>\n      <td>...</td>\n      <td>1.50</td>\n      <td>0</td>\n      <td>0.00</td>\n      <td>0.00</td>\n      <td>0</td>\n      <td>0.00</td>\n      <td>0.00</td>\n      <td>0</td>\n      <td>0.00</td>\n      <td>0.00</td>\n    </tr>\n    <tr>\n      <th>4</th>\n      <td>0</td>\n      <td>0.00</td>\n      <td>0.00</td>\n      <td>2</td>\n      <td>0.50</td>\n      <td>3.00</td>\n      <td>6</td>\n      <td>0.33</td>\n      <td>4.17</td>\n      <td>1</td>\n      <td>...</td>\n      <td>0.00</td>\n      <td>1</td>\n      <td>0.00</td>\n      <td>7.00</td>\n      <td>1</td>\n      <td>0.00</td>\n      <td>8.00</td>\n      <td>0</td>\n      <td>0.00</td>\n      <td>0.00</td>\n    </tr>\n    <tr>\n      <th>...</th>\n      <td>...</td>\n      <td>...</td>\n      <td>...</td>\n      <td>...</td>\n      <td>...</td>\n      <td>...</td>\n      <td>...</td>\n      <td>...</td>\n      <td>...</td>\n      <td>...</td>\n      <td>...</td>\n      <td>...</td>\n      <td>...</td>\n      <td>...</td>\n      <td>...</td>\n      <td>...</td>\n      <td>...</td>\n      <td>...</td>\n      <td>...</td>\n      <td>...</td>\n      <td>...</td>\n    </tr>\n    <tr>\n      <th>7724</th>\n      <td>0</td>\n      <td>0.00</td>\n      <td>0.00</td>\n      <td>1</td>\n      <td>0.00</td>\n      <td>14.00</td>\n      <td>0</td>\n      <td>0.00</td>\n      <td>0.00</td>\n      <td>0</td>\n      <td>...</td>\n      <td>0.00</td>\n      <td>0</td>\n      <td>0.00</td>\n      <td>0.00</td>\n      <td>0</td>\n      <td>0.00</td>\n      <td>0.00</td>\n      <td>0</td>\n      <td>0.00</td>\n      <td>0.00</td>\n    </tr>\n    <tr>\n      <th>7725</th>\n      <td>4</td>\n      <td>0.75</td>\n      <td>4.29</td>\n      <td>5</td>\n      <td>0.60</td>\n      <td>3.92</td>\n      <td>4</td>\n      <td>0.75</td>\n      <td>5.78</td>\n      <td>3</td>\n      <td>...</td>\n      <td>7.00</td>\n      <td>1</td>\n      <td>0.00</td>\n      <td>12.00</td>\n      <td>4</td>\n      <td>0.25</td>\n      <td>10.80</td>\n      <td>1</td>\n      <td>0.00</td>\n      <td>1.71</td>\n    </tr>\n    <tr>\n      <th>7726</th>\n      <td>0</td>\n      <td>0.00</td>\n      <td>0.00</td>\n      <td>0</td>\n      <td>0.00</td>\n      <td>0.00</td>\n      <td>1</td>\n      <td>0.00</td>\n      <td>0.50</td>\n      <td>1</td>\n      <td>...</td>\n      <td>0.00</td>\n      <td>1</td>\n      <td>1.00</td>\n      <td>8.50</td>\n      <td>1</td>\n      <td>1.00</td>\n      <td>21.00</td>\n      <td>1</td>\n      <td>1.00</td>\n      <td>7.67</td>\n    </tr>\n    <tr>\n      <th>7727</th>\n      <td>6</td>\n      <td>0.67</td>\n      <td>3.92</td>\n      <td>5</td>\n      <td>0.60</td>\n      <td>2.83</td>\n      <td>3</td>\n      <td>0.67</td>\n      <td>2.33</td>\n      <td>8</td>\n      <td>...</td>\n      <td>0.00</td>\n      <td>0</td>\n      <td>0.00</td>\n      <td>0.00</td>\n      <td>2</td>\n      <td>0.50</td>\n      <td>6.50</td>\n      <td>6</td>\n      <td>0.50</td>\n      <td>2.04</td>\n    </tr>\n    <tr>\n      <th>7728</th>\n      <td>0</td>\n      <td>0.00</td>\n      <td>0.00</td>\n      <td>3</td>\n      <td>1.00</td>\n      <td>1.29</td>\n      <td>0</td>\n      <td>0.00</td>\n      <td>0.00</td>\n      <td>0</td>\n      <td>...</td>\n      <td>0.00</td>\n      <td>0</td>\n      <td>0.00</td>\n      <td>0.00</td>\n      <td>6</td>\n      <td>0.67</td>\n      <td>7.12</td>\n      <td>1</td>\n      <td>0.00</td>\n      <td>8.00</td>\n    </tr>\n  </tbody>\n</table>\n<p>7729 rows × 30 columns</p>\n</div>"
     },
     "metadata": {},
     "execution_count": 8
    }
   ],
   "source": [
    "y = df['result'].copy()\n",
    "X = df.drop(['result', 'game'],axis=1)\n",
    "X"
   ]
  },
  {
   "cell_type": "code",
   "execution_count": 9,
   "metadata": {},
   "outputs": [
    {
     "output_type": "stream",
     "name": "stdout",
     "text": [
      "      blueTopGP  blueTopWR  blueTopKDA  blueJungleGP  blueJungleWR  \\\n1861          1       0.00        2.00             1           0.0   \n4117          1       1.00       14.00             0           0.0   \n1901          3       0.33       19.00             2           0.5   \n2064          1       1.00       15.00             0           0.0   \n5304          8       0.38        4.48             2           1.0   \n...         ...        ...         ...           ...           ...   \n229           1       1.00        1.00             0           0.0   \n5092          2       0.50        2.57             1           1.0   \n2905          1       1.00       12.00             1           0.0   \n1562          0       0.00        0.00             2           0.0   \n1341          1       1.00        8.00             0           0.0   \n\n      blueJungleKDA  blueMidGP  blueMidWR  blueMidKDA  blueADCGP  ...  \\\n1861           0.00          2        0.5        3.25          1  ...   \n4117           0.00          0        0.0        0.00          1  ...   \n1901           3.43          2        0.5       23.00          0  ...   \n2064           0.00          0        0.0        0.00          0  ...   \n5304          35.00          2        0.5       33.00          1  ...   \n...             ...        ...        ...         ...        ...  ...   \n229            0.00          0        0.0        0.00          1  ...   \n5092           7.50          2        1.0        3.00          1  ...   \n2905           1.67          1        0.0       11.00          2  ...   \n1562           4.75          0        0.0        0.00          3  ...   \n1341           0.00          0        0.0        0.00          0  ...   \n\n      redJungleKDA  redMidGP  redMidWR  redMidKDA  redAdcGP  redAdcWR  \\\n1861          1.45         0       0.0       0.00         0      0.00   \n4117          3.55         2       0.5       3.14         3      0.33   \n1901          0.00         0       0.0       0.00         1      1.00   \n2064          0.00         0       0.0       0.00         0      0.00   \n5304          4.80         5       0.2      10.00         1      1.00   \n...            ...       ...       ...        ...       ...       ...   \n229           0.00         1       1.0       9.00         1      1.00   \n5092         10.00        10       0.4       7.00         9      0.56   \n2905          9.00         1       0.0      19.00         0      0.00   \n1562          0.00         1       0.0       2.25         2      0.50   \n1341          0.00         0       0.0       0.00         1      1.00   \n\n      redAdcKDA  redSupportGP  redSupportWR  redSupportKDA  \n1861       0.00             0          0.00           0.00  \n4117       5.57             6          0.17           5.00  \n1901       3.67             1          1.00           0.75  \n2064       0.00             0          0.00           0.00  \n5304       1.50             6          0.33           3.22  \n...         ...           ...           ...            ...  \n229        9.00             0          0.00           0.00  \n5092       4.85             3          0.67           2.14  \n2905       0.00             1          0.00           6.00  \n1562       4.00             2          1.00           4.80  \n1341       3.33             1          0.00          12.00  \n\n[6183 rows x 30 columns]\n"
     ]
    }
   ],
   "source": [
    "def preprocess_input(X,y):\n",
    "    X = X.copy()\n",
    "    X_train,X_test,y_train,y_test = train_test_split(X,y,train_size=0.8,random_state=42, stratify=y)\n",
    "    scaler = StandardScaler()   \n",
    "    print(X_train) \n",
    "    scaler.fit(X_train)\n",
    "    X_train = scaler.transform(X_train)\n",
    "    X_test = scaler.transform(X_test)\n",
    "    return X_train,X_test,y_train,y_test\n",
    "X_train,X_test,y_train,y_test = preprocess_input(X,y)"
   ]
  },
  {
   "cell_type": "code",
   "execution_count": 10,
   "metadata": {},
   "outputs": [
    {
     "output_type": "stream",
     "name": "stdout",
     "text": [
      "Logistic Regression trained\n",
      "C:\\Users\\linco\\AppData\\Local\\Programs\\Python\\Python38\\lib\\site-packages\\sklearn\\svm\\_base.py:976: ConvergenceWarning: Liblinear failed to converge, increase the number of iterations.\n",
      "  warnings.warn(\"Liblinear failed to converge, increase \"\n",
      "Support Vector Machine (Linear Kernel) trained\n",
      "Support Vector Machine (RBF Kernel) trained\n",
      "Decission Tree trained\n",
      "Adaboost trained\n",
      "Random Forest trained\n",
      "Gradient Boosting Classifier trained\n"
     ]
    }
   ],
   "source": [
    "from sklearn.model_selection import train_test_split\n",
    "from sklearn.model_selection import GridSearchCV\n",
    "from sklearn.preprocessing import StandardScaler\n",
    "\n",
    "from sklearn.linear_model import LogisticRegression\n",
    "from sklearn.svm import LinearSVC, SVC\n",
    "from sklearn.tree import DecisionTreeClassifier\n",
    "from sklearn.ensemble import RandomForestClassifier, GradientBoostingClassifier, AdaBoostClassifier\n",
    "\n",
    "models = {\n",
    "    'Logistic Regression': LogisticRegression(max_iter=1000),\n",
    "    'Support Vector Machine (Linear Kernel)': LinearSVC(),\n",
    "    'Support Vector Machine (RBF Kernel)': SVC(),\n",
    "    'Decission Tree': DecisionTreeClassifier(),\n",
    "    'Adaboost': AdaBoostClassifier(),\n",
    "    'Random Forest': RandomForestClassifier(),\n",
    "    'Gradient Boosting Classifier': GradientBoostingClassifier()\n",
    "}\n",
    "\n",
    "GBCmodel = GradientBoostingClassifier()\n",
    "GBCmodel.fit(X_train,y_train)\n",
    "\n",
    "\n",
    "for name, model in models.items():\n",
    "  model.fit(X_train,y_train)\n",
    "  print(name + ' trained')"
   ]
  },
  {
   "cell_type": "code",
   "execution_count": 11,
   "metadata": {},
   "outputs": [],
   "source": [
    "scores_list = []\n",
    "\n",
    "for name,model in models.items():    \n",
    "    scores_list.append({\n",
    "    'Model': name,\n",
    "    'Accuracy': accuracy_score(y_test,model.predict(X_test)),\n",
    "    'Precision':  precision_score(y_test,model.predict(X_test)),\n",
    "    'Recall': recall_score(y_test,model.predict(X_test)),\n",
    "    'F1-Score': f1_score(y_test,model.predict(X_test))\n",
    "    })\n",
    "scores = pd.DataFrame(scores_list)"
   ]
  },
  {
   "cell_type": "code",
   "execution_count": 110,
   "metadata": {},
   "outputs": [
    {
     "output_type": "execute_result",
     "data": {
      "text/plain": [
       "                                    Model  Accuracy  Precision    Recall  \\\n",
       "0                     Logistic Regression  0.926437   0.921182  0.921182   \n",
       "1  Support Vector Machine (Linear Kernel)  0.927586   0.921376  0.923645   \n",
       "2     Support Vector Machine (RBF Kernel)  0.924138   0.912621  0.926108   \n",
       "3                          Decission Tree  0.877011   0.863747  0.874384   \n",
       "4                                Adaboost  0.931034   0.932500  0.918719   \n",
       "5                           Random Forest  0.934483   0.950904  0.906404   \n",
       "6            Gradient Boosting Classifier  0.945977   0.943210  0.940887   \n",
       "\n",
       "   F1-Score  \n",
       "0  0.921182  \n",
       "1  0.922509  \n",
       "2  0.919315  \n",
       "3  0.869033  \n",
       "4  0.925558  \n",
       "5  0.928121  \n",
       "6  0.942047  "
      ],
      "text/html": "<div>\n<style scoped>\n    .dataframe tbody tr th:only-of-type {\n        vertical-align: middle;\n    }\n\n    .dataframe tbody tr th {\n        vertical-align: top;\n    }\n\n    .dataframe thead th {\n        text-align: right;\n    }\n</style>\n<table border=\"1\" class=\"dataframe\">\n  <thead>\n    <tr style=\"text-align: right;\">\n      <th></th>\n      <th>Model</th>\n      <th>Accuracy</th>\n      <th>Precision</th>\n      <th>Recall</th>\n      <th>F1-Score</th>\n    </tr>\n  </thead>\n  <tbody>\n    <tr>\n      <th>0</th>\n      <td>Logistic Regression</td>\n      <td>0.926437</td>\n      <td>0.921182</td>\n      <td>0.921182</td>\n      <td>0.921182</td>\n    </tr>\n    <tr>\n      <th>1</th>\n      <td>Support Vector Machine (Linear Kernel)</td>\n      <td>0.927586</td>\n      <td>0.921376</td>\n      <td>0.923645</td>\n      <td>0.922509</td>\n    </tr>\n    <tr>\n      <th>2</th>\n      <td>Support Vector Machine (RBF Kernel)</td>\n      <td>0.924138</td>\n      <td>0.912621</td>\n      <td>0.926108</td>\n      <td>0.919315</td>\n    </tr>\n    <tr>\n      <th>3</th>\n      <td>Decission Tree</td>\n      <td>0.877011</td>\n      <td>0.863747</td>\n      <td>0.874384</td>\n      <td>0.869033</td>\n    </tr>\n    <tr>\n      <th>4</th>\n      <td>Adaboost</td>\n      <td>0.931034</td>\n      <td>0.932500</td>\n      <td>0.918719</td>\n      <td>0.925558</td>\n    </tr>\n    <tr>\n      <th>5</th>\n      <td>Random Forest</td>\n      <td>0.934483</td>\n      <td>0.950904</td>\n      <td>0.906404</td>\n      <td>0.928121</td>\n    </tr>\n    <tr>\n      <th>6</th>\n      <td>Gradient Boosting Classifier</td>\n      <td>0.945977</td>\n      <td>0.943210</td>\n      <td>0.940887</td>\n      <td>0.942047</td>\n    </tr>\n  </tbody>\n</table>\n</div>"
     },
     "metadata": {},
     "execution_count": 110
    }
   ],
   "source": [
    "scores"
   ]
  }
 ],
 "metadata": {
  "kernelspec": {
   "name": "python3",
   "display_name": "Python 3.8.0 64-bit"
  },
  "language_info": {
   "codemirror_mode": {
    "name": "ipython",
    "version": 3
   },
   "file_extension": ".py",
   "mimetype": "text/x-python",
   "name": "python",
   "nbconvert_exporter": "python",
   "pygments_lexer": "ipython3",
   "version": "3.8.0"
  },
  "interpreter": {
   "hash": "c23d76e2db843e0f747ff48312a954c7457626ae9cc0ad47025b64e4be0ddf11"
  }
 },
 "nbformat": 4,
 "nbformat_minor": 2
}