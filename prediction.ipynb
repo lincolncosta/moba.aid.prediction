{
 "cells": [
  {
   "cell_type": "code",
   "execution_count": 103,
   "metadata": {},
   "outputs": [],
   "source": [
    "import pandas as pd\n",
    "import numpy as np\n",
    "from datetime import datetime\n",
    "\n",
    "from sklearn.model_selection import train_test_split, GridSearchCV, StratifiedKFold\n",
    "from sklearn.preprocessing import StandardScaler\n",
    "from sklearn.feature_selection import SelectKBest,f_classif\n",
    "from sklearn.metrics import accuracy_score, precision_score,recall_score,f1_score"
   ]
  },
  {
   "cell_type": "code",
   "execution_count": 104,
   "metadata": {},
   "outputs": [
    {
     "output_type": "execute_result",
     "data": {
      "text/plain": [
       "                       game  blueTop  blueTopGP  blueTopWR  blueTopKDA  \\\n",
       "0     ESPORTSTMNT03/1632489       82          8       0.50         2.9   \n",
       "1     ESPORTSTMNT03/1632500       79         14       0.36         2.6   \n",
       "2     ESPORTSTMNT03/1632502       79         14       0.36         2.6   \n",
       "3                 6909-9183       43          2       0.00         0.9   \n",
       "4                 6909-9184       24         16       0.56         2.8   \n",
       "...                     ...      ...        ...        ...         ...   \n",
       "4343              7350-9936       58         31       0.32         2.4   \n",
       "4344  ESPORTSTMNT01/1887606       14          4       1.00         7.9   \n",
       "4345  ESPORTSTMNT05/1860602       39          1       0.00         0.4   \n",
       "4346  ESPORTSTMNT05/1860625       58          3       0.33         3.1   \n",
       "4347  ESPORTSTMNT05/1860644       79          3       0.67         2.7   \n",
       "\n",
       "      blueJungle  blueJungleGP  blueJungleWR  blueJungleKDA  blueMid  ...  \\\n",
       "0            104            27          0.85            5.9      142  ...   \n",
       "1            104            63          0.63            5.1       68  ...   \n",
       "2            104            63          0.63            5.1      142  ...   \n",
       "3             80             5          0.60            3.9      134  ...   \n",
       "4            120            11          0.55            3.6       61  ...   \n",
       "...          ...           ...           ...            ...      ...  ...   \n",
       "4343          77            12          0.50            4.1      134  ...   \n",
       "4344         120             6          0.50            2.8      112  ...   \n",
       "4345         141             3          0.00            1.5      134  ...   \n",
       "4346         876             3          0.33            3.6       61  ...   \n",
       "4347           2             4          0.25            2.3      134  ...   \n",
       "\n",
       "      redMidKDA  redAdc  redAdcGP  redAdcWR  redAdcKDA  redSupport  \\\n",
       "0           3.6      81        21      0.57        4.3          89   \n",
       "1           4.9      21        10      0.70        5.3           3   \n",
       "2           4.4      21        10      0.70        5.3           3   \n",
       "3           5.2     145        43      0.60        6.3           3   \n",
       "4           5.2     145        43      0.60        6.3          57   \n",
       "...         ...     ...       ...       ...        ...         ...   \n",
       "4343        4.1      18         4      0.25        3.3          12   \n",
       "4344        2.6      18         0      0.00        0.0         875   \n",
       "4345        3.4     119         1      1.00        7.0          89   \n",
       "4346        0.3     145         3      0.00        1.1          12   \n",
       "4347        6.5      18         4      0.50        3.2          71   \n",
       "\n",
       "      redSupportGP  redSupportWR  redSupportKDA  result  \n",
       "0               10          0.60            2.5       0  \n",
       "1               11          0.55            2.8       1  \n",
       "2               11          0.55            2.8       1  \n",
       "3                4          0.75            4.5       1  \n",
       "4                2          0.50            1.4       1  \n",
       "...            ...           ...            ...     ...  \n",
       "4343             6          0.50            1.9       0  \n",
       "4344             1          0.00            2.5       0  \n",
       "4345             1          1.00           15.0       1  \n",
       "4346             3          0.00            1.2       0  \n",
       "4347             6          0.67            3.6       1  \n",
       "\n",
       "[4348 rows x 42 columns]"
      ],
      "text/html": "<div>\n<style scoped>\n    .dataframe tbody tr th:only-of-type {\n        vertical-align: middle;\n    }\n\n    .dataframe tbody tr th {\n        vertical-align: top;\n    }\n\n    .dataframe thead th {\n        text-align: right;\n    }\n</style>\n<table border=\"1\" class=\"dataframe\">\n  <thead>\n    <tr style=\"text-align: right;\">\n      <th></th>\n      <th>game</th>\n      <th>blueTop</th>\n      <th>blueTopGP</th>\n      <th>blueTopWR</th>\n      <th>blueTopKDA</th>\n      <th>blueJungle</th>\n      <th>blueJungleGP</th>\n      <th>blueJungleWR</th>\n      <th>blueJungleKDA</th>\n      <th>blueMid</th>\n      <th>...</th>\n      <th>redMidKDA</th>\n      <th>redAdc</th>\n      <th>redAdcGP</th>\n      <th>redAdcWR</th>\n      <th>redAdcKDA</th>\n      <th>redSupport</th>\n      <th>redSupportGP</th>\n      <th>redSupportWR</th>\n      <th>redSupportKDA</th>\n      <th>result</th>\n    </tr>\n  </thead>\n  <tbody>\n    <tr>\n      <th>0</th>\n      <td>ESPORTSTMNT03/1632489</td>\n      <td>82</td>\n      <td>8</td>\n      <td>0.50</td>\n      <td>2.9</td>\n      <td>104</td>\n      <td>27</td>\n      <td>0.85</td>\n      <td>5.9</td>\n      <td>142</td>\n      <td>...</td>\n      <td>3.6</td>\n      <td>81</td>\n      <td>21</td>\n      <td>0.57</td>\n      <td>4.3</td>\n      <td>89</td>\n      <td>10</td>\n      <td>0.60</td>\n      <td>2.5</td>\n      <td>0</td>\n    </tr>\n    <tr>\n      <th>1</th>\n      <td>ESPORTSTMNT03/1632500</td>\n      <td>79</td>\n      <td>14</td>\n      <td>0.36</td>\n      <td>2.6</td>\n      <td>104</td>\n      <td>63</td>\n      <td>0.63</td>\n      <td>5.1</td>\n      <td>68</td>\n      <td>...</td>\n      <td>4.9</td>\n      <td>21</td>\n      <td>10</td>\n      <td>0.70</td>\n      <td>5.3</td>\n      <td>3</td>\n      <td>11</td>\n      <td>0.55</td>\n      <td>2.8</td>\n      <td>1</td>\n    </tr>\n    <tr>\n      <th>2</th>\n      <td>ESPORTSTMNT03/1632502</td>\n      <td>79</td>\n      <td>14</td>\n      <td>0.36</td>\n      <td>2.6</td>\n      <td>104</td>\n      <td>63</td>\n      <td>0.63</td>\n      <td>5.1</td>\n      <td>142</td>\n      <td>...</td>\n      <td>4.4</td>\n      <td>21</td>\n      <td>10</td>\n      <td>0.70</td>\n      <td>5.3</td>\n      <td>3</td>\n      <td>11</td>\n      <td>0.55</td>\n      <td>2.8</td>\n      <td>1</td>\n    </tr>\n    <tr>\n      <th>3</th>\n      <td>6909-9183</td>\n      <td>43</td>\n      <td>2</td>\n      <td>0.00</td>\n      <td>0.9</td>\n      <td>80</td>\n      <td>5</td>\n      <td>0.60</td>\n      <td>3.9</td>\n      <td>134</td>\n      <td>...</td>\n      <td>5.2</td>\n      <td>145</td>\n      <td>43</td>\n      <td>0.60</td>\n      <td>6.3</td>\n      <td>3</td>\n      <td>4</td>\n      <td>0.75</td>\n      <td>4.5</td>\n      <td>1</td>\n    </tr>\n    <tr>\n      <th>4</th>\n      <td>6909-9184</td>\n      <td>24</td>\n      <td>16</td>\n      <td>0.56</td>\n      <td>2.8</td>\n      <td>120</td>\n      <td>11</td>\n      <td>0.55</td>\n      <td>3.6</td>\n      <td>61</td>\n      <td>...</td>\n      <td>5.2</td>\n      <td>145</td>\n      <td>43</td>\n      <td>0.60</td>\n      <td>6.3</td>\n      <td>57</td>\n      <td>2</td>\n      <td>0.50</td>\n      <td>1.4</td>\n      <td>1</td>\n    </tr>\n    <tr>\n      <th>...</th>\n      <td>...</td>\n      <td>...</td>\n      <td>...</td>\n      <td>...</td>\n      <td>...</td>\n      <td>...</td>\n      <td>...</td>\n      <td>...</td>\n      <td>...</td>\n      <td>...</td>\n      <td>...</td>\n      <td>...</td>\n      <td>...</td>\n      <td>...</td>\n      <td>...</td>\n      <td>...</td>\n      <td>...</td>\n      <td>...</td>\n      <td>...</td>\n      <td>...</td>\n      <td>...</td>\n    </tr>\n    <tr>\n      <th>4343</th>\n      <td>7350-9936</td>\n      <td>58</td>\n      <td>31</td>\n      <td>0.32</td>\n      <td>2.4</td>\n      <td>77</td>\n      <td>12</td>\n      <td>0.50</td>\n      <td>4.1</td>\n      <td>134</td>\n      <td>...</td>\n      <td>4.1</td>\n      <td>18</td>\n      <td>4</td>\n      <td>0.25</td>\n      <td>3.3</td>\n      <td>12</td>\n      <td>6</td>\n      <td>0.50</td>\n      <td>1.9</td>\n      <td>0</td>\n    </tr>\n    <tr>\n      <th>4344</th>\n      <td>ESPORTSTMNT01/1887606</td>\n      <td>14</td>\n      <td>4</td>\n      <td>1.00</td>\n      <td>7.9</td>\n      <td>120</td>\n      <td>6</td>\n      <td>0.50</td>\n      <td>2.8</td>\n      <td>112</td>\n      <td>...</td>\n      <td>2.6</td>\n      <td>18</td>\n      <td>0</td>\n      <td>0.00</td>\n      <td>0.0</td>\n      <td>875</td>\n      <td>1</td>\n      <td>0.00</td>\n      <td>2.5</td>\n      <td>0</td>\n    </tr>\n    <tr>\n      <th>4345</th>\n      <td>ESPORTSTMNT05/1860602</td>\n      <td>39</td>\n      <td>1</td>\n      <td>0.00</td>\n      <td>0.4</td>\n      <td>141</td>\n      <td>3</td>\n      <td>0.00</td>\n      <td>1.5</td>\n      <td>134</td>\n      <td>...</td>\n      <td>3.4</td>\n      <td>119</td>\n      <td>1</td>\n      <td>1.00</td>\n      <td>7.0</td>\n      <td>89</td>\n      <td>1</td>\n      <td>1.00</td>\n      <td>15.0</td>\n      <td>1</td>\n    </tr>\n    <tr>\n      <th>4346</th>\n      <td>ESPORTSTMNT05/1860625</td>\n      <td>58</td>\n      <td>3</td>\n      <td>0.33</td>\n      <td>3.1</td>\n      <td>876</td>\n      <td>3</td>\n      <td>0.33</td>\n      <td>3.6</td>\n      <td>61</td>\n      <td>...</td>\n      <td>0.3</td>\n      <td>145</td>\n      <td>3</td>\n      <td>0.00</td>\n      <td>1.1</td>\n      <td>12</td>\n      <td>3</td>\n      <td>0.00</td>\n      <td>1.2</td>\n      <td>0</td>\n    </tr>\n    <tr>\n      <th>4347</th>\n      <td>ESPORTSTMNT05/1860644</td>\n      <td>79</td>\n      <td>3</td>\n      <td>0.67</td>\n      <td>2.7</td>\n      <td>2</td>\n      <td>4</td>\n      <td>0.25</td>\n      <td>2.3</td>\n      <td>134</td>\n      <td>...</td>\n      <td>6.5</td>\n      <td>18</td>\n      <td>4</td>\n      <td>0.50</td>\n      <td>3.2</td>\n      <td>71</td>\n      <td>6</td>\n      <td>0.67</td>\n      <td>3.6</td>\n      <td>1</td>\n    </tr>\n  </tbody>\n</table>\n<p>4348 rows × 42 columns</p>\n</div>"
     },
     "metadata": {},
     "execution_count": 104
    }
   ],
   "source": [
    "df = pd.read_csv('outputs/dataset_20210523.csv')\n",
    "df"
   ]
  },
  {
   "cell_type": "code",
   "execution_count": 105,
   "metadata": {},
   "outputs": [
    {
     "output_type": "execute_result",
     "data": {
      "text/plain": [
       "      blueTopGP  blueTopWR  blueTopKDA  blueJungleGP  blueJungleWR  \\\n",
       "0             8       0.50         2.9            27          0.85   \n",
       "1            14       0.36         2.6            63          0.63   \n",
       "2            14       0.36         2.6            63          0.63   \n",
       "3             2       0.00         0.9             5          0.60   \n",
       "4            16       0.56         2.8            11          0.55   \n",
       "...         ...        ...         ...           ...           ...   \n",
       "4343         31       0.32         2.4            12          0.50   \n",
       "4344          4       1.00         7.9             6          0.50   \n",
       "4345          1       0.00         0.4             3          0.00   \n",
       "4346          3       0.33         3.1             3          0.33   \n",
       "4347          3       0.67         2.7             4          0.25   \n",
       "\n",
       "      blueJungleKDA  blueMidGP  blueMidWR  blueMidKDA  blueADCGP  ...  \\\n",
       "0               5.9         59       0.76        10.7         10  ...   \n",
       "1               5.1          1       0.00         1.0         20  ...   \n",
       "2               5.1          5       0.40         2.9          2  ...   \n",
       "3               3.9         36       0.75         6.2          5  ...   \n",
       "4               3.6         50       0.64         6.1          5  ...   \n",
       "...             ...        ...        ...         ...        ...  ...   \n",
       "4343            4.1          4       0.75         4.0          0  ...   \n",
       "4344            2.8          4       0.50         3.6          7  ...   \n",
       "4345            1.5          5       0.20         3.2          2  ...   \n",
       "4346            3.6          5       0.40         2.7          2  ...   \n",
       "4347            2.3          3       0.33         3.3         16  ...   \n",
       "\n",
       "      redJungleKDA  redMidGP  redMidWR  redMidKDA  redAdcGP  redAdcWR  \\\n",
       "0              4.3        13      0.46        3.6        21      0.57   \n",
       "1              4.1        55      0.69        4.9        10      0.70   \n",
       "2              6.4         3      0.67        4.4        10      0.70   \n",
       "3              3.0         6      0.67        5.2        43      0.60   \n",
       "4              2.9         6      0.67        5.2        43      0.60   \n",
       "...            ...       ...       ...        ...       ...       ...   \n",
       "4343           5.4         3      0.67        4.1         4      0.25   \n",
       "4344           3.8        15      0.33        2.6         0      0.00   \n",
       "4345           1.9         3      0.67        3.4         1      1.00   \n",
       "4346           0.1         1      0.00        0.3         3      0.00   \n",
       "4347           3.8         1      1.00        6.5         4      0.50   \n",
       "\n",
       "      redAdcKDA  redSupportGP  redSupportWR  redSupportKDA  \n",
       "0           4.3            10          0.60            2.5  \n",
       "1           5.3            11          0.55            2.8  \n",
       "2           5.3            11          0.55            2.8  \n",
       "3           6.3             4          0.75            4.5  \n",
       "4           6.3             2          0.50            1.4  \n",
       "...         ...           ...           ...            ...  \n",
       "4343        3.3             6          0.50            1.9  \n",
       "4344        0.0             1          0.00            2.5  \n",
       "4345        7.0             1          1.00           15.0  \n",
       "4346        1.1             3          0.00            1.2  \n",
       "4347        3.2             6          0.67            3.6  \n",
       "\n",
       "[4348 rows x 30 columns]"
      ],
      "text/html": "<div>\n<style scoped>\n    .dataframe tbody tr th:only-of-type {\n        vertical-align: middle;\n    }\n\n    .dataframe tbody tr th {\n        vertical-align: top;\n    }\n\n    .dataframe thead th {\n        text-align: right;\n    }\n</style>\n<table border=\"1\" class=\"dataframe\">\n  <thead>\n    <tr style=\"text-align: right;\">\n      <th></th>\n      <th>blueTopGP</th>\n      <th>blueTopWR</th>\n      <th>blueTopKDA</th>\n      <th>blueJungleGP</th>\n      <th>blueJungleWR</th>\n      <th>blueJungleKDA</th>\n      <th>blueMidGP</th>\n      <th>blueMidWR</th>\n      <th>blueMidKDA</th>\n      <th>blueADCGP</th>\n      <th>...</th>\n      <th>redJungleKDA</th>\n      <th>redMidGP</th>\n      <th>redMidWR</th>\n      <th>redMidKDA</th>\n      <th>redAdcGP</th>\n      <th>redAdcWR</th>\n      <th>redAdcKDA</th>\n      <th>redSupportGP</th>\n      <th>redSupportWR</th>\n      <th>redSupportKDA</th>\n    </tr>\n  </thead>\n  <tbody>\n    <tr>\n      <th>0</th>\n      <td>8</td>\n      <td>0.50</td>\n      <td>2.9</td>\n      <td>27</td>\n      <td>0.85</td>\n      <td>5.9</td>\n      <td>59</td>\n      <td>0.76</td>\n      <td>10.7</td>\n      <td>10</td>\n      <td>...</td>\n      <td>4.3</td>\n      <td>13</td>\n      <td>0.46</td>\n      <td>3.6</td>\n      <td>21</td>\n      <td>0.57</td>\n      <td>4.3</td>\n      <td>10</td>\n      <td>0.60</td>\n      <td>2.5</td>\n    </tr>\n    <tr>\n      <th>1</th>\n      <td>14</td>\n      <td>0.36</td>\n      <td>2.6</td>\n      <td>63</td>\n      <td>0.63</td>\n      <td>5.1</td>\n      <td>1</td>\n      <td>0.00</td>\n      <td>1.0</td>\n      <td>20</td>\n      <td>...</td>\n      <td>4.1</td>\n      <td>55</td>\n      <td>0.69</td>\n      <td>4.9</td>\n      <td>10</td>\n      <td>0.70</td>\n      <td>5.3</td>\n      <td>11</td>\n      <td>0.55</td>\n      <td>2.8</td>\n    </tr>\n    <tr>\n      <th>2</th>\n      <td>14</td>\n      <td>0.36</td>\n      <td>2.6</td>\n      <td>63</td>\n      <td>0.63</td>\n      <td>5.1</td>\n      <td>5</td>\n      <td>0.40</td>\n      <td>2.9</td>\n      <td>2</td>\n      <td>...</td>\n      <td>6.4</td>\n      <td>3</td>\n      <td>0.67</td>\n      <td>4.4</td>\n      <td>10</td>\n      <td>0.70</td>\n      <td>5.3</td>\n      <td>11</td>\n      <td>0.55</td>\n      <td>2.8</td>\n    </tr>\n    <tr>\n      <th>3</th>\n      <td>2</td>\n      <td>0.00</td>\n      <td>0.9</td>\n      <td>5</td>\n      <td>0.60</td>\n      <td>3.9</td>\n      <td>36</td>\n      <td>0.75</td>\n      <td>6.2</td>\n      <td>5</td>\n      <td>...</td>\n      <td>3.0</td>\n      <td>6</td>\n      <td>0.67</td>\n      <td>5.2</td>\n      <td>43</td>\n      <td>0.60</td>\n      <td>6.3</td>\n      <td>4</td>\n      <td>0.75</td>\n      <td>4.5</td>\n    </tr>\n    <tr>\n      <th>4</th>\n      <td>16</td>\n      <td>0.56</td>\n      <td>2.8</td>\n      <td>11</td>\n      <td>0.55</td>\n      <td>3.6</td>\n      <td>50</td>\n      <td>0.64</td>\n      <td>6.1</td>\n      <td>5</td>\n      <td>...</td>\n      <td>2.9</td>\n      <td>6</td>\n      <td>0.67</td>\n      <td>5.2</td>\n      <td>43</td>\n      <td>0.60</td>\n      <td>6.3</td>\n      <td>2</td>\n      <td>0.50</td>\n      <td>1.4</td>\n    </tr>\n    <tr>\n      <th>...</th>\n      <td>...</td>\n      <td>...</td>\n      <td>...</td>\n      <td>...</td>\n      <td>...</td>\n      <td>...</td>\n      <td>...</td>\n      <td>...</td>\n      <td>...</td>\n      <td>...</td>\n      <td>...</td>\n      <td>...</td>\n      <td>...</td>\n      <td>...</td>\n      <td>...</td>\n      <td>...</td>\n      <td>...</td>\n      <td>...</td>\n      <td>...</td>\n      <td>...</td>\n      <td>...</td>\n    </tr>\n    <tr>\n      <th>4343</th>\n      <td>31</td>\n      <td>0.32</td>\n      <td>2.4</td>\n      <td>12</td>\n      <td>0.50</td>\n      <td>4.1</td>\n      <td>4</td>\n      <td>0.75</td>\n      <td>4.0</td>\n      <td>0</td>\n      <td>...</td>\n      <td>5.4</td>\n      <td>3</td>\n      <td>0.67</td>\n      <td>4.1</td>\n      <td>4</td>\n      <td>0.25</td>\n      <td>3.3</td>\n      <td>6</td>\n      <td>0.50</td>\n      <td>1.9</td>\n    </tr>\n    <tr>\n      <th>4344</th>\n      <td>4</td>\n      <td>1.00</td>\n      <td>7.9</td>\n      <td>6</td>\n      <td>0.50</td>\n      <td>2.8</td>\n      <td>4</td>\n      <td>0.50</td>\n      <td>3.6</td>\n      <td>7</td>\n      <td>...</td>\n      <td>3.8</td>\n      <td>15</td>\n      <td>0.33</td>\n      <td>2.6</td>\n      <td>0</td>\n      <td>0.00</td>\n      <td>0.0</td>\n      <td>1</td>\n      <td>0.00</td>\n      <td>2.5</td>\n    </tr>\n    <tr>\n      <th>4345</th>\n      <td>1</td>\n      <td>0.00</td>\n      <td>0.4</td>\n      <td>3</td>\n      <td>0.00</td>\n      <td>1.5</td>\n      <td>5</td>\n      <td>0.20</td>\n      <td>3.2</td>\n      <td>2</td>\n      <td>...</td>\n      <td>1.9</td>\n      <td>3</td>\n      <td>0.67</td>\n      <td>3.4</td>\n      <td>1</td>\n      <td>1.00</td>\n      <td>7.0</td>\n      <td>1</td>\n      <td>1.00</td>\n      <td>15.0</td>\n    </tr>\n    <tr>\n      <th>4346</th>\n      <td>3</td>\n      <td>0.33</td>\n      <td>3.1</td>\n      <td>3</td>\n      <td>0.33</td>\n      <td>3.6</td>\n      <td>5</td>\n      <td>0.40</td>\n      <td>2.7</td>\n      <td>2</td>\n      <td>...</td>\n      <td>0.1</td>\n      <td>1</td>\n      <td>0.00</td>\n      <td>0.3</td>\n      <td>3</td>\n      <td>0.00</td>\n      <td>1.1</td>\n      <td>3</td>\n      <td>0.00</td>\n      <td>1.2</td>\n    </tr>\n    <tr>\n      <th>4347</th>\n      <td>3</td>\n      <td>0.67</td>\n      <td>2.7</td>\n      <td>4</td>\n      <td>0.25</td>\n      <td>2.3</td>\n      <td>3</td>\n      <td>0.33</td>\n      <td>3.3</td>\n      <td>16</td>\n      <td>...</td>\n      <td>3.8</td>\n      <td>1</td>\n      <td>1.00</td>\n      <td>6.5</td>\n      <td>4</td>\n      <td>0.50</td>\n      <td>3.2</td>\n      <td>6</td>\n      <td>0.67</td>\n      <td>3.6</td>\n    </tr>\n  </tbody>\n</table>\n<p>4348 rows × 30 columns</p>\n</div>"
     },
     "metadata": {},
     "execution_count": 105
    }
   ],
   "source": [
    "y = df['result'].copy()\n",
    "X = df.drop(['blueTop', 'blueJungle', 'blueMid', 'blueADC', 'blueSupport', 'redTop', 'redJungle', 'redMid', 'redAdc', 'redSupport', 'result', 'game'],axis=1)\n",
    "X"
   ]
  },
  {
   "cell_type": "code",
   "execution_count": 106,
   "metadata": {},
   "outputs": [
    {
     "output_type": "stream",
     "name": "stdout",
     "text": [
      "      blueTopGP  blueTopWR  blueTopKDA  blueJungleGP  blueJungleWR  \\\n1115          1       1.00         7.0             3          0.67   \n4255          8       0.38         2.0             5          0.60   \n4213          2       0.50         2.4            14          0.79   \n2658          5       0.20         3.0            10          0.60   \n432           1       0.00         0.3             6          0.50   \n...         ...        ...         ...           ...           ...   \n79            5       0.40         1.5            10          0.80   \n1957          5       0.60         4.8             6          0.33   \n2115         23       0.74         4.1            22          0.68   \n970           7       0.57         5.1             2          1.00   \n490           2       0.00         0.8             3          0.00   \n\n      blueJungleKDA  blueMidGP  blueMidWR  blueMidKDA  blueADCGP  ...  \\\n1115            3.3          3       1.00         6.1          3  ...   \n4255            9.7          4       0.50         3.7          2  ...   \n4213            7.0         31       0.55         6.6         16  ...   \n2658            4.7         32       0.75         4.0         38  ...   \n432             4.4          7       0.57         2.7          3  ...   \n...             ...        ...        ...         ...        ...  ...   \n79              6.3          8       0.25         3.5         12  ...   \n1957            3.9          2       0.50         3.8         11  ...   \n2115            8.8         23       0.83         5.3         24  ...   \n970            29.0          6       0.50         6.5         14  ...   \n490             1.3          0       0.00         0.0          4  ...   \n\n      redJungleKDA  redMidGP  redMidWR  redMidKDA  redAdcGP  redAdcWR  \\\n1115           1.8         3      0.00        2.0         7      0.29   \n4255           4.6         2      1.00        3.2        28      0.61   \n4213           3.0         2      0.50        0.8         5      0.60   \n2658           1.3        16      0.31        2.5         8      0.38   \n432            4.4         3      0.33        2.9        12      0.50   \n...            ...       ...       ...        ...       ...       ...   \n79             2.1         1      0.00        1.5         3      0.00   \n1957           1.7         1      0.00        1.5         6      0.17   \n2115           3.3        12      0.50        3.5         2      0.50   \n970            3.5         1      0.00        1.2         1      0.00   \n490            6.3         4      0.25        1.6         9      0.33   \n\n      redAdcKDA  redSupportGP  redSupportWR  redSupportKDA  \n1115        2.7             1          0.00            1.4  \n4255        3.7            18          0.67            3.3  \n4213        3.4             3          0.67            2.3  \n2658        2.5            12          0.58            6.3  \n432         4.7             7          0.57            2.9  \n...         ...           ...           ...            ...  \n79          9.5             7          0.43            5.7  \n1957        3.6             6          0.50            3.4  \n2115        3.4             1          1.00            6.7  \n970         2.5             4          0.50            4.2  \n490         3.2             3          0.33            1.8  \n\n[3478 rows x 30 columns]\n"
     ]
    }
   ],
   "source": [
    "def preprocess_input(X,y):\n",
    "    X = X.copy()\n",
    "    X_train,X_test,y_train,y_test = train_test_split(X,y,train_size=0.8,random_state=42, stratify=y)\n",
    "    scaler = StandardScaler()   \n",
    "    print(X_train) \n",
    "    scaler.fit(X_train)\n",
    "    X_train = scaler.transform(X_train)\n",
    "    X_test = scaler.transform(X_test)\n",
    "    return X_train,X_test,y_train,y_test\n",
    "X_train,X_test,y_train,y_test = preprocess_input(X,y)"
   ]
  },
  {
   "cell_type": "code",
   "execution_count": 107,
   "metadata": {},
   "outputs": [
    {
     "output_type": "stream",
     "name": "stdout",
     "text": [
      "Logistic Regression trained\n",
      "Support Vector Machine (Linear Kernel) trained\n",
      "C:\\Users\\linco\\AppData\\Local\\Programs\\Python\\Python38\\lib\\site-packages\\sklearn\\svm\\_base.py:976: ConvergenceWarning: Liblinear failed to converge, increase the number of iterations.\n",
      "  warnings.warn(\"Liblinear failed to converge, increase \"\n",
      "Support Vector Machine (RBF Kernel) trained\n",
      "Decission Tree trained\n",
      "Adaboost trained\n",
      "Random Forest trained\n",
      "Gradient Boosting Classifier trained\n"
     ]
    }
   ],
   "source": [
    "from sklearn.model_selection import train_test_split\n",
    "from sklearn.model_selection import GridSearchCV\n",
    "from sklearn.preprocessing import StandardScaler\n",
    "\n",
    "from sklearn.linear_model import LogisticRegression\n",
    "from sklearn.svm import LinearSVC, SVC\n",
    "from sklearn.tree import DecisionTreeClassifier\n",
    "from sklearn.ensemble import RandomForestClassifier, GradientBoostingClassifier, AdaBoostClassifier\n",
    "\n",
    "models = {\n",
    "    'Logistic Regression': LogisticRegression(max_iter=1000),\n",
    "    'Support Vector Machine (Linear Kernel)': LinearSVC(),\n",
    "    'Support Vector Machine (RBF Kernel)': SVC(),\n",
    "    'Decission Tree': DecisionTreeClassifier(),\n",
    "    'Adaboost': AdaBoostClassifier(),\n",
    "    'Random Forest': RandomForestClassifier(),\n",
    "    'Gradient Boosting Classifier': GradientBoostingClassifier()\n",
    "}\n",
    "\n",
    "GBCmodel = GradientBoostingClassifier()\n",
    "GBCmodel.fit(X_train,y_train)\n",
    "\n",
    "\n",
    "for name, model in models.items():\n",
    "  model.fit(X_train,y_train)\n",
    "  print(name + ' trained')"
   ]
  },
  {
   "cell_type": "code",
   "execution_count": 108,
   "metadata": {},
   "outputs": [],
   "source": [
    "scores_list = []\n",
    "\n",
    "for name,model in models.items():    \n",
    "    scores_list.append({\n",
    "    'Model': name,\n",
    "    'Accuracy': accuracy_score(y_test,model.predict(X_test)),\n",
    "    'Precision':  precision_score(y_test,model.predict(X_test)),\n",
    "    'Recall': recall_score(y_test,model.predict(X_test)),\n",
    "    'F1-Score': f1_score(y_test,model.predict(X_test))\n",
    "    })\n",
    "scores = pd.DataFrame(scores_list)"
   ]
  },
  {
   "cell_type": "code",
   "execution_count": 111,
   "metadata": {},
   "outputs": [
    {
     "output_type": "stream",
     "name": "stdout",
     "text": [
      "Eu errei, a distribuição de probabilidades para FLAMENGO VS PAIN era:\n[[0.56353744 0.43646256]]\n[0]\nEu errei, a distribuição de probabilidades para KABUM VS VORAX era:\n[[0.16119663 0.83880337]]\n[1]\nEu acertei, a distribuição de probabilidades para MINERS VS FURIA era:\n[[0.61289374 0.38710626]]\n[0]\nEu acertei, a distribuição de probabilidades para RENSGA VS INTZ era:\n[[0.20498652 0.79501348]]\n[1]\nEu acertei, a distribuição de probabilidades para LOUD VS RED era:\n[[0.47086256 0.52913744]]\n[1]\n"
     ]
    }
   ],
   "source": [
    "X_train,X_test,y_train,y_test = train_test_split(X,y,train_size=0.8,random_state=42, stratify=y)\n",
    "scaler = StandardScaler()    \n",
    "scaler.fit(X_train)\n",
    "\n",
    "# DIA 1 (05/06)\n",
    "# FLAMENGO VS PAIN\n",
    "match_to_predict = {'blueTopGP': [],'blueTopWR': [],'blueTopKDA': [],'blueJungleGP': [],'blueJungleWR': [],'blueJungleKDA': [],'blueMidGP': [],'blueMidWR': [],'blueMidKDA': [],'blueADCGP': [],'blueADCWR': [],'blueADCKDA': [],'blueSupportGP': [],'blueSupportWR': [],'blueSupportKDA': [],'redTopGP': [],'redTopWR': [],'redTopKDA': [],'redJungleGP': [],'redJungleWR': [],'redJungleKDA': [],'redMidGP': [],'redMidWR': [],'redMidKDA': [],'redAdcGP': [],'redAdcWR': [],'redAdcKDA': [],'redSupportGP': [],'redSupportWR': [],'redSupportKDA': []}\n",
    "dict_match = pd.DataFrame.from_dict(match_to_predict)\n",
    "\n",
    "X_test = scaler.transform(dict_match)\n",
    "print('Eu errei, a distribuição de probabilidades para FLAMENGO VS PAIN era:')\n",
    "print(GBCmodel.predict_proba(X_test))\n",
    "print(GBCmodel.predict(X_test))\n",
    "\n",
    "# KABUM VS VORAX\n",
    "match_to_predict = {'blueTopGP': [],'blueTopWR': [],'blueTopKDA': [],'blueJungleGP': [],'blueJungleWR': [],'blueJungleKDA': [],'blueMidGP': [],'blueMidWR': [],'blueMidKDA': [],'blueADCGP': [],'blueADCWR': [],'blueADCKDA': [],'blueSupportGP': [],'blueSupportWR': [],'blueSupportKDA': [],'redTopGP': [],'redTopWR': [],'redTopKDA': [],'redJungleGP': [],'redJungleWR': [],'redJungleKDA': [],'redMidGP': [],'redMidWR': [],'redMidKDA': [],'redAdcGP': [],'redAdcWR': [],'redAdcKDA': [],'redSupportGP': [],'redSupportWR': [],'redSupportKDA': []}\n",
    "dict_match = pd.DataFrame.from_dict(match_to_predict)\n",
    "\n",
    "X_test = scaler.transform(dict_match)\n",
    "print('Eu errei, a distribuição de probabilidades para KABUM VS VORAX era:')\n",
    "print(GBCmodel.predict_proba(X_test))\n",
    "print(GBCmodel.predict(X_test))\n",
    "\n",
    "# MINERS VS FURIA\n",
    "match_to_predict = {'blueTopGP': [],'blueTopWR': [],'blueTopKDA': [],'blueJungleGP': [],'blueJungleWR': [],'blueJungleKDA': [],'blueMidGP': [],'blueMidWR': [],'blueMidKDA': [],'blueADCGP': [],'blueADCWR': [],'blueADCKDA': [],'blueSupportGP': [],'blueSupportWR': [],'blueSupportKDA': [],'redTopGP': [],'redTopWR': [],'redTopKDA': [],'redJungleGP': [],'redJungleWR': [],'redJungleKDA': [],'redMidGP': [],'redMidWR': [],'redMidKDA': [],'redAdcGP': [],'redAdcWR': [],'redAdcKDA': [],'redSupportGP': [],'redSupportWR': [],'redSupportKDA': []}\n",
    "dict_match = pd.DataFrame.from_dict(match_to_predict)\n",
    "\n",
    "X_test = scaler.transform(dict_match)\n",
    "print('Eu acertei, a distribuição de probabilidades para MINERS VS FURIA era:')\n",
    "print(GBCmodel.predict_proba(X_test))\n",
    "print(GBCmodel.predict(X_test))\n",
    "\n",
    "# RENSGA VS INTZ\n",
    "match_to_predict = {'blueTopGP': [],'blueTopWR': [],'blueTopKDA': [],'blueJungleGP': [],'blueJungleWR': [],'blueJungleKDA': [],'blueMidGP': [],'blueMidWR': [],'blueMidKDA': [],'blueADCGP': [],'blueADCWR': [],'blueADCKDA': [],'blueSupportGP': [],'blueSupportWR': [],'blueSupportKDA': [],'redTopGP': [],'redTopWR': [],'redTopKDA': [],'redJungleGP': [],'redJungleWR': [],'redJungleKDA': [],'redMidGP': [],'redMidWR': [],'redMidKDA': [],'redAdcGP': [],'redAdcWR': [],'redAdcKDA': [],'redSupportGP': [],'redSupportWR': [],'redSupportKDA': []}\n",
    "dict_match = pd.DataFrame.from_dict(match_to_predict)\n",
    "\n",
    "X_test = scaler.transform(dict_match)\n",
    "print('Eu acertei, a distribuição de probabilidades para RENSGA VS INTZ era:')\n",
    "print(GBCmodel.predict_proba(X_test))\n",
    "print(GBCmodel.predict(X_test))\n",
    "\n",
    "# LOUD VS RED\n",
    "match_to_predict = {'blueTopGP': [],'blueTopWR': [],'blueTopKDA': [],'blueJungleGP': [],'blueJungleWR': [],'blueJungleKDA': [],'blueMidGP': [],'blueMidWR': [],'blueMidKDA': [],'blueADCGP': [],'blueADCWR': [],'blueADCKDA': [],'blueSupportGP': [],'blueSupportWR': [],'blueSupportKDA': [],'redTopGP': [],'redTopWR': [],'redTopKDA': [],'redJungleGP': [],'redJungleWR': [],'redJungleKDA': [],'redMidGP': [],'redMidWR': [],'redMidKDA': [],'redAdcGP': [],'redAdcWR': [],'redAdcKDA': [],'redSupportGP': [],'redSupportWR': [],'redSupportKDA': []}\n",
    "dict_match = pd.DataFrame.from_dict(match_to_predict)\n",
    "\n",
    "X_test = scaler.transform(dict_match)\n",
    "print('Eu acertei, a distribuição de probabilidades para LOUD VS RED era:')\n",
    "print(GBCmodel.predict_proba(X_test))\n",
    "print(GBCmodel.predict(X_test))\n",
    "\n",
    "# DIA 2 (06/06)\n",
    "# PAIN VS VORAX\n",
    "match_to_predict = {'blueTopGP': [2],'blueTopWR': [0],'blueTopKDA': [0.9],'blueJungleGP': [0],'blueJungleWR': [0],'blueJungleKDA': [0],'blueMidGP': [6],'blueMidWR': [0.17],'blueMidKDA': [3.2],'blueADCGP': [5],'blueADCWR': [0.4],'blueADCKDA': [1.9],'blueSupportGP': [0],'blueSupportWR': [0],'blueSupportKDA': [0],'redTopGP': [],'redTopWR': [],'redTopKDA': [],'redJungleGP': [],'redJungleWR': [],'redJungleKDA': [],'redMidGP': [],'redMidWR': [],'redMidKDA': [],'redAdcGP': [],'redAdcWR': [],'redAdcKDA': [],'redSupportGP': [],'redSupportWR': [],'redSupportKDA': []}\n",
    "dict_match = pd.DataFrame.from_dict(match_to_predict)\n",
    "\n",
    "X_test = scaler.transform(dict_match)\n",
    "print('Eu acertei, a distribuição de probabilidades para RENSGA VS MINERS era:')\n",
    "print(GBCmodel.predict_proba(X_test))\n",
    "print(GBCmodel.predict(X_test))\n",
    "\n",
    "# RENSGA VS MINERS\n",
    "match_to_predict = {'blueTopGP': [],'blueTopWR': [],'blueTopKDA': [],'blueJungleGP': [],'blueJungleWR': [],'blueJungleKDA': [],'blueMidGP': [],'blueMidWR': [],'blueMidKDA': [],'blueADCGP': [],'blueADCWR': [],'blueADCKDA': [],'blueSupportGP': [],'blueSupportWR': [],'blueSupportKDA': [],'redTopGP': [],'redTopWR': [],'redTopKDA': [],'redJungleGP': [],'redJungleWR': [],'redJungleKDA': [],'redMidGP': [],'redMidWR': [],'redMidKDA': [],'redAdcGP': [],'redAdcWR': [],'redAdcKDA': [],'redSupportGP': [],'redSupportWR': [],'redSupportKDA': []}\n",
    "dict_match = pd.DataFrame.from_dict(match_to_predict)\n",
    "\n",
    "X_test = scaler.transform(dict_match)\n",
    "print('Eu acertei, a distribuição de probabilidades para RENSGA VS MINERS era:')\n",
    "print(GBCmodel.predict_proba(X_test))\n",
    "print(GBCmodel.predict(X_test))"
   ]
  },
  {
   "cell_type": "code",
   "execution_count": 110,
   "metadata": {},
   "outputs": [
    {
     "output_type": "execute_result",
     "data": {
      "text/plain": [
       "                                    Model  Accuracy  Precision    Recall  \\\n",
       "0                     Logistic Regression  0.926437   0.921182  0.921182   \n",
       "1  Support Vector Machine (Linear Kernel)  0.927586   0.921376  0.923645   \n",
       "2     Support Vector Machine (RBF Kernel)  0.924138   0.912621  0.926108   \n",
       "3                          Decission Tree  0.877011   0.863747  0.874384   \n",
       "4                                Adaboost  0.931034   0.932500  0.918719   \n",
       "5                           Random Forest  0.934483   0.950904  0.906404   \n",
       "6            Gradient Boosting Classifier  0.945977   0.943210  0.940887   \n",
       "\n",
       "   F1-Score  \n",
       "0  0.921182  \n",
       "1  0.922509  \n",
       "2  0.919315  \n",
       "3  0.869033  \n",
       "4  0.925558  \n",
       "5  0.928121  \n",
       "6  0.942047  "
      ],
      "text/html": "<div>\n<style scoped>\n    .dataframe tbody tr th:only-of-type {\n        vertical-align: middle;\n    }\n\n    .dataframe tbody tr th {\n        vertical-align: top;\n    }\n\n    .dataframe thead th {\n        text-align: right;\n    }\n</style>\n<table border=\"1\" class=\"dataframe\">\n  <thead>\n    <tr style=\"text-align: right;\">\n      <th></th>\n      <th>Model</th>\n      <th>Accuracy</th>\n      <th>Precision</th>\n      <th>Recall</th>\n      <th>F1-Score</th>\n    </tr>\n  </thead>\n  <tbody>\n    <tr>\n      <th>0</th>\n      <td>Logistic Regression</td>\n      <td>0.926437</td>\n      <td>0.921182</td>\n      <td>0.921182</td>\n      <td>0.921182</td>\n    </tr>\n    <tr>\n      <th>1</th>\n      <td>Support Vector Machine (Linear Kernel)</td>\n      <td>0.927586</td>\n      <td>0.921376</td>\n      <td>0.923645</td>\n      <td>0.922509</td>\n    </tr>\n    <tr>\n      <th>2</th>\n      <td>Support Vector Machine (RBF Kernel)</td>\n      <td>0.924138</td>\n      <td>0.912621</td>\n      <td>0.926108</td>\n      <td>0.919315</td>\n    </tr>\n    <tr>\n      <th>3</th>\n      <td>Decission Tree</td>\n      <td>0.877011</td>\n      <td>0.863747</td>\n      <td>0.874384</td>\n      <td>0.869033</td>\n    </tr>\n    <tr>\n      <th>4</th>\n      <td>Adaboost</td>\n      <td>0.931034</td>\n      <td>0.932500</td>\n      <td>0.918719</td>\n      <td>0.925558</td>\n    </tr>\n    <tr>\n      <th>5</th>\n      <td>Random Forest</td>\n      <td>0.934483</td>\n      <td>0.950904</td>\n      <td>0.906404</td>\n      <td>0.928121</td>\n    </tr>\n    <tr>\n      <th>6</th>\n      <td>Gradient Boosting Classifier</td>\n      <td>0.945977</td>\n      <td>0.943210</td>\n      <td>0.940887</td>\n      <td>0.942047</td>\n    </tr>\n  </tbody>\n</table>\n</div>"
     },
     "metadata": {},
     "execution_count": 110
    }
   ],
   "source": [
    "scores"
   ]
  }
 ],
 "metadata": {
  "kernelspec": {
   "name": "python380jvsc74a57bd0c23d76e2db843e0f747ff48312a954c7457626ae9cc0ad47025b64e4be0ddf11",
   "display_name": "Python 3.8.0 64-bit"
  },
  "language_info": {
   "codemirror_mode": {
    "name": "ipython",
    "version": 3
   },
   "file_extension": ".py",
   "mimetype": "text/x-python",
   "name": "python",
   "nbconvert_exporter": "python",
   "pygments_lexer": "ipython3",
   "version": "3.8.0"
  }
 },
 "nbformat": 4,
 "nbformat_minor": 2
}