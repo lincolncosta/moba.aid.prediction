{
 "cells": [
  {
   "cell_type": "code",
   "execution_count": 8,
   "metadata": {},
   "outputs": [],
   "source": [
    "import pandas as pd\n",
    "import numpy as np\n",
    "from datetime import datetime\n",
    "\n",
    "from sklearn.model_selection import train_test_split, GridSearchCV, StratifiedKFold\n",
    "from sklearn.preprocessing import StandardScaler\n",
    "from sklearn.feature_selection import SelectKBest,f_classif\n",
    "from sklearn.metrics import accuracy_score, precision_score,recall_score,f1_score"
   ]
  },
  {
   "cell_type": "code",
   "execution_count": 9,
   "metadata": {},
   "outputs": [
    {
     "output_type": "execute_result",
     "data": {
      "text/plain": [
       "                       game  blueTop  blueTopGP  blueTopWR  blueTopKDA  \\\n",
       "0     ESPORTSTMNT03/1632489       82          8       0.50         2.9   \n",
       "1     ESPORTSTMNT03/1632500       79         14       0.36         2.6   \n",
       "2     ESPORTSTMNT03/1632502       79         14       0.36         2.6   \n",
       "3                 6909-9183       43          2       0.00         0.9   \n",
       "4                 6909-9184       24         16       0.56         2.8   \n",
       "...                     ...      ...        ...        ...         ...   \n",
       "3824              7336-9851       14          9       0.56         4.9   \n",
       "3825  ESPORTSTMNT01/1886793      164          8       0.50         2.1   \n",
       "3826              7155-9853       14          2       0.50         8.0   \n",
       "3827              7154-9854       58         32       0.38         2.6   \n",
       "3828              7336-9855      150         13       0.46         1.5   \n",
       "\n",
       "      blueJungle  blueJungleGP  blueJungleWR  blueJungleKDA  blueMid  ...  \\\n",
       "0            104            27          0.85            5.9      142  ...   \n",
       "1            104            63          0.63            5.1       68  ...   \n",
       "2            104            63          0.63            5.1      142  ...   \n",
       "3             80             5          0.60            3.9      134  ...   \n",
       "4            120            11          0.55            3.6       61  ...   \n",
       "...          ...           ...           ...            ...      ...  ...   \n",
       "3824         120             9          0.44            4.3       61  ...   \n",
       "3825          77             6          0.83            4.3      112  ...   \n",
       "3826          77            13          0.46            5.7      142  ...   \n",
       "3827          77             7          0.29            3.1      112  ...   \n",
       "3828         876             5          0.40            2.8      268  ...   \n",
       "\n",
       "      redMidKDA  redAdc  redAdcGP  redAdcWR  redAdcKDA  redSupport  \\\n",
       "0           3.6      81        21      0.57        4.3          89   \n",
       "1           4.9      21        10      0.70        5.3           3   \n",
       "2           4.4      21        10      0.70        5.3           3   \n",
       "3           5.2     145        43      0.60        6.3           3   \n",
       "4           5.2     145        43      0.60        6.3          57   \n",
       "...         ...     ...       ...       ...        ...         ...   \n",
       "3824        4.7     429        17      0.12        3.6         111   \n",
       "3825        2.0     429        45      0.71        6.5         412   \n",
       "3826        5.1     145        14      0.57        3.8          79   \n",
       "3827        7.3     523        32      0.44        3.1         412   \n",
       "3828        6.0     498        28      0.79        9.3          89   \n",
       "\n",
       "      redSupportGP  redSupportWR  redSupportKDA  result  \n",
       "0               10          0.60            2.5       0  \n",
       "1               11          0.55            2.8       1  \n",
       "2               11          0.55            2.8       1  \n",
       "3                4          0.75            4.5       1  \n",
       "4                2          0.50            1.4       1  \n",
       "...            ...           ...            ...     ...  \n",
       "3824             9          0.22            1.3       0  \n",
       "3825            20          0.55            4.5       0  \n",
       "3826             3          0.67            1.6       0  \n",
       "3827            21          0.57            3.3       0  \n",
       "3828            37          0.62            3.5       1  \n",
       "\n",
       "[3829 rows x 42 columns]"
      ],
      "text/html": "<div>\n<style scoped>\n    .dataframe tbody tr th:only-of-type {\n        vertical-align: middle;\n    }\n\n    .dataframe tbody tr th {\n        vertical-align: top;\n    }\n\n    .dataframe thead th {\n        text-align: right;\n    }\n</style>\n<table border=\"1\" class=\"dataframe\">\n  <thead>\n    <tr style=\"text-align: right;\">\n      <th></th>\n      <th>game</th>\n      <th>blueTop</th>\n      <th>blueTopGP</th>\n      <th>blueTopWR</th>\n      <th>blueTopKDA</th>\n      <th>blueJungle</th>\n      <th>blueJungleGP</th>\n      <th>blueJungleWR</th>\n      <th>blueJungleKDA</th>\n      <th>blueMid</th>\n      <th>...</th>\n      <th>redMidKDA</th>\n      <th>redAdc</th>\n      <th>redAdcGP</th>\n      <th>redAdcWR</th>\n      <th>redAdcKDA</th>\n      <th>redSupport</th>\n      <th>redSupportGP</th>\n      <th>redSupportWR</th>\n      <th>redSupportKDA</th>\n      <th>result</th>\n    </tr>\n  </thead>\n  <tbody>\n    <tr>\n      <th>0</th>\n      <td>ESPORTSTMNT03/1632489</td>\n      <td>82</td>\n      <td>8</td>\n      <td>0.50</td>\n      <td>2.9</td>\n      <td>104</td>\n      <td>27</td>\n      <td>0.85</td>\n      <td>5.9</td>\n      <td>142</td>\n      <td>...</td>\n      <td>3.6</td>\n      <td>81</td>\n      <td>21</td>\n      <td>0.57</td>\n      <td>4.3</td>\n      <td>89</td>\n      <td>10</td>\n      <td>0.60</td>\n      <td>2.5</td>\n      <td>0</td>\n    </tr>\n    <tr>\n      <th>1</th>\n      <td>ESPORTSTMNT03/1632500</td>\n      <td>79</td>\n      <td>14</td>\n      <td>0.36</td>\n      <td>2.6</td>\n      <td>104</td>\n      <td>63</td>\n      <td>0.63</td>\n      <td>5.1</td>\n      <td>68</td>\n      <td>...</td>\n      <td>4.9</td>\n      <td>21</td>\n      <td>10</td>\n      <td>0.70</td>\n      <td>5.3</td>\n      <td>3</td>\n      <td>11</td>\n      <td>0.55</td>\n      <td>2.8</td>\n      <td>1</td>\n    </tr>\n    <tr>\n      <th>2</th>\n      <td>ESPORTSTMNT03/1632502</td>\n      <td>79</td>\n      <td>14</td>\n      <td>0.36</td>\n      <td>2.6</td>\n      <td>104</td>\n      <td>63</td>\n      <td>0.63</td>\n      <td>5.1</td>\n      <td>142</td>\n      <td>...</td>\n      <td>4.4</td>\n      <td>21</td>\n      <td>10</td>\n      <td>0.70</td>\n      <td>5.3</td>\n      <td>3</td>\n      <td>11</td>\n      <td>0.55</td>\n      <td>2.8</td>\n      <td>1</td>\n    </tr>\n    <tr>\n      <th>3</th>\n      <td>6909-9183</td>\n      <td>43</td>\n      <td>2</td>\n      <td>0.00</td>\n      <td>0.9</td>\n      <td>80</td>\n      <td>5</td>\n      <td>0.60</td>\n      <td>3.9</td>\n      <td>134</td>\n      <td>...</td>\n      <td>5.2</td>\n      <td>145</td>\n      <td>43</td>\n      <td>0.60</td>\n      <td>6.3</td>\n      <td>3</td>\n      <td>4</td>\n      <td>0.75</td>\n      <td>4.5</td>\n      <td>1</td>\n    </tr>\n    <tr>\n      <th>4</th>\n      <td>6909-9184</td>\n      <td>24</td>\n      <td>16</td>\n      <td>0.56</td>\n      <td>2.8</td>\n      <td>120</td>\n      <td>11</td>\n      <td>0.55</td>\n      <td>3.6</td>\n      <td>61</td>\n      <td>...</td>\n      <td>5.2</td>\n      <td>145</td>\n      <td>43</td>\n      <td>0.60</td>\n      <td>6.3</td>\n      <td>57</td>\n      <td>2</td>\n      <td>0.50</td>\n      <td>1.4</td>\n      <td>1</td>\n    </tr>\n    <tr>\n      <th>...</th>\n      <td>...</td>\n      <td>...</td>\n      <td>...</td>\n      <td>...</td>\n      <td>...</td>\n      <td>...</td>\n      <td>...</td>\n      <td>...</td>\n      <td>...</td>\n      <td>...</td>\n      <td>...</td>\n      <td>...</td>\n      <td>...</td>\n      <td>...</td>\n      <td>...</td>\n      <td>...</td>\n      <td>...</td>\n      <td>...</td>\n      <td>...</td>\n      <td>...</td>\n      <td>...</td>\n    </tr>\n    <tr>\n      <th>3824</th>\n      <td>7336-9851</td>\n      <td>14</td>\n      <td>9</td>\n      <td>0.56</td>\n      <td>4.9</td>\n      <td>120</td>\n      <td>9</td>\n      <td>0.44</td>\n      <td>4.3</td>\n      <td>61</td>\n      <td>...</td>\n      <td>4.7</td>\n      <td>429</td>\n      <td>17</td>\n      <td>0.12</td>\n      <td>3.6</td>\n      <td>111</td>\n      <td>9</td>\n      <td>0.22</td>\n      <td>1.3</td>\n      <td>0</td>\n    </tr>\n    <tr>\n      <th>3825</th>\n      <td>ESPORTSTMNT01/1886793</td>\n      <td>164</td>\n      <td>8</td>\n      <td>0.50</td>\n      <td>2.1</td>\n      <td>77</td>\n      <td>6</td>\n      <td>0.83</td>\n      <td>4.3</td>\n      <td>112</td>\n      <td>...</td>\n      <td>2.0</td>\n      <td>429</td>\n      <td>45</td>\n      <td>0.71</td>\n      <td>6.5</td>\n      <td>412</td>\n      <td>20</td>\n      <td>0.55</td>\n      <td>4.5</td>\n      <td>0</td>\n    </tr>\n    <tr>\n      <th>3826</th>\n      <td>7155-9853</td>\n      <td>14</td>\n      <td>2</td>\n      <td>0.50</td>\n      <td>8.0</td>\n      <td>77</td>\n      <td>13</td>\n      <td>0.46</td>\n      <td>5.7</td>\n      <td>142</td>\n      <td>...</td>\n      <td>5.1</td>\n      <td>145</td>\n      <td>14</td>\n      <td>0.57</td>\n      <td>3.8</td>\n      <td>79</td>\n      <td>3</td>\n      <td>0.67</td>\n      <td>1.6</td>\n      <td>0</td>\n    </tr>\n    <tr>\n      <th>3827</th>\n      <td>7154-9854</td>\n      <td>58</td>\n      <td>32</td>\n      <td>0.38</td>\n      <td>2.6</td>\n      <td>77</td>\n      <td>7</td>\n      <td>0.29</td>\n      <td>3.1</td>\n      <td>112</td>\n      <td>...</td>\n      <td>7.3</td>\n      <td>523</td>\n      <td>32</td>\n      <td>0.44</td>\n      <td>3.1</td>\n      <td>412</td>\n      <td>21</td>\n      <td>0.57</td>\n      <td>3.3</td>\n      <td>0</td>\n    </tr>\n    <tr>\n      <th>3828</th>\n      <td>7336-9855</td>\n      <td>150</td>\n      <td>13</td>\n      <td>0.46</td>\n      <td>1.5</td>\n      <td>876</td>\n      <td>5</td>\n      <td>0.40</td>\n      <td>2.8</td>\n      <td>268</td>\n      <td>...</td>\n      <td>6.0</td>\n      <td>498</td>\n      <td>28</td>\n      <td>0.79</td>\n      <td>9.3</td>\n      <td>89</td>\n      <td>37</td>\n      <td>0.62</td>\n      <td>3.5</td>\n      <td>1</td>\n    </tr>\n  </tbody>\n</table>\n<p>3829 rows × 42 columns</p>\n</div>"
     },
     "metadata": {},
     "execution_count": 9
    }
   ],
   "source": [
    "df = pd.read_csv('outputs/dataset_20210523.csv')\n",
    "df_champions = pd.read_csv('data/dataset_champions.csv')\n",
    "df"
   ]
  },
  {
   "cell_type": "code",
   "execution_count": 10,
   "metadata": {},
   "outputs": [
    {
     "output_type": "execute_result",
     "data": {
      "text/plain": [
       "      blueTopGP  blueTopWR  blueTopKDA  blueJungleGP  blueJungleWR  \\\n",
       "0             8       0.50         2.9            27          0.85   \n",
       "1            14       0.36         2.6            63          0.63   \n",
       "2            14       0.36         2.6            63          0.63   \n",
       "3             2       0.00         0.9             5          0.60   \n",
       "4            16       0.56         2.8            11          0.55   \n",
       "...         ...        ...         ...           ...           ...   \n",
       "3824          9       0.56         4.9             9          0.44   \n",
       "3825          8       0.50         2.1             6          0.83   \n",
       "3826          2       0.50         8.0            13          0.46   \n",
       "3827         32       0.38         2.6             7          0.29   \n",
       "3828         13       0.46         1.5             5          0.40   \n",
       "\n",
       "      blueJungleKDA  blueMidGP  blueMidWR  blueMidKDA  blueADCGP  ...  \\\n",
       "0               5.9         59       0.76        10.7         10  ...   \n",
       "1               5.1          1       0.00         1.0         20  ...   \n",
       "2               5.1          5       0.40         2.9          2  ...   \n",
       "3               3.9         36       0.75         6.2          5  ...   \n",
       "4               3.6         50       0.64         6.1          5  ...   \n",
       "...             ...        ...        ...         ...        ...  ...   \n",
       "3824            4.3         31       0.61         6.0         28  ...   \n",
       "3825            4.3          8       0.38         4.5         75  ...   \n",
       "3826            5.7         19       0.53         8.1         10  ...   \n",
       "3827            3.1          9       0.44         4.2          5  ...   \n",
       "3828            2.8         38       0.47         3.0         31  ...   \n",
       "\n",
       "      redJungleKDA  redMidGP  redMidWR  redMidKDA  redAdcGP  redAdcWR  \\\n",
       "0              4.3        13      0.46        3.6        21      0.57   \n",
       "1              4.1        55      0.69        4.9        10      0.70   \n",
       "2              6.4         3      0.67        4.4        10      0.70   \n",
       "3              3.0         6      0.67        5.2        43      0.60   \n",
       "4              2.9         6      0.67        5.2        43      0.60   \n",
       "...            ...       ...       ...        ...       ...       ...   \n",
       "3824           4.2        35      0.54        4.7        17      0.12   \n",
       "3825           2.3         5      0.20        2.0        45      0.71   \n",
       "3826           4.5         9      0.78        5.1        14      0.57   \n",
       "3827           2.7         2      0.50        7.3        32      0.44   \n",
       "3828           8.5        31      0.61        6.0        28      0.79   \n",
       "\n",
       "      redAdcKDA  redSupportGP  redSupportWR  redSupportKDA  \n",
       "0           4.3            10          0.60            2.5  \n",
       "1           5.3            11          0.55            2.8  \n",
       "2           5.3            11          0.55            2.8  \n",
       "3           6.3             4          0.75            4.5  \n",
       "4           6.3             2          0.50            1.4  \n",
       "...         ...           ...           ...            ...  \n",
       "3824        3.6             9          0.22            1.3  \n",
       "3825        6.5            20          0.55            4.5  \n",
       "3826        3.8             3          0.67            1.6  \n",
       "3827        3.1            21          0.57            3.3  \n",
       "3828        9.3            37          0.62            3.5  \n",
       "\n",
       "[3829 rows x 30 columns]"
      ],
      "text/html": "<div>\n<style scoped>\n    .dataframe tbody tr th:only-of-type {\n        vertical-align: middle;\n    }\n\n    .dataframe tbody tr th {\n        vertical-align: top;\n    }\n\n    .dataframe thead th {\n        text-align: right;\n    }\n</style>\n<table border=\"1\" class=\"dataframe\">\n  <thead>\n    <tr style=\"text-align: right;\">\n      <th></th>\n      <th>blueTopGP</th>\n      <th>blueTopWR</th>\n      <th>blueTopKDA</th>\n      <th>blueJungleGP</th>\n      <th>blueJungleWR</th>\n      <th>blueJungleKDA</th>\n      <th>blueMidGP</th>\n      <th>blueMidWR</th>\n      <th>blueMidKDA</th>\n      <th>blueADCGP</th>\n      <th>...</th>\n      <th>redJungleKDA</th>\n      <th>redMidGP</th>\n      <th>redMidWR</th>\n      <th>redMidKDA</th>\n      <th>redAdcGP</th>\n      <th>redAdcWR</th>\n      <th>redAdcKDA</th>\n      <th>redSupportGP</th>\n      <th>redSupportWR</th>\n      <th>redSupportKDA</th>\n    </tr>\n  </thead>\n  <tbody>\n    <tr>\n      <th>0</th>\n      <td>8</td>\n      <td>0.50</td>\n      <td>2.9</td>\n      <td>27</td>\n      <td>0.85</td>\n      <td>5.9</td>\n      <td>59</td>\n      <td>0.76</td>\n      <td>10.7</td>\n      <td>10</td>\n      <td>...</td>\n      <td>4.3</td>\n      <td>13</td>\n      <td>0.46</td>\n      <td>3.6</td>\n      <td>21</td>\n      <td>0.57</td>\n      <td>4.3</td>\n      <td>10</td>\n      <td>0.60</td>\n      <td>2.5</td>\n    </tr>\n    <tr>\n      <th>1</th>\n      <td>14</td>\n      <td>0.36</td>\n      <td>2.6</td>\n      <td>63</td>\n      <td>0.63</td>\n      <td>5.1</td>\n      <td>1</td>\n      <td>0.00</td>\n      <td>1.0</td>\n      <td>20</td>\n      <td>...</td>\n      <td>4.1</td>\n      <td>55</td>\n      <td>0.69</td>\n      <td>4.9</td>\n      <td>10</td>\n      <td>0.70</td>\n      <td>5.3</td>\n      <td>11</td>\n      <td>0.55</td>\n      <td>2.8</td>\n    </tr>\n    <tr>\n      <th>2</th>\n      <td>14</td>\n      <td>0.36</td>\n      <td>2.6</td>\n      <td>63</td>\n      <td>0.63</td>\n      <td>5.1</td>\n      <td>5</td>\n      <td>0.40</td>\n      <td>2.9</td>\n      <td>2</td>\n      <td>...</td>\n      <td>6.4</td>\n      <td>3</td>\n      <td>0.67</td>\n      <td>4.4</td>\n      <td>10</td>\n      <td>0.70</td>\n      <td>5.3</td>\n      <td>11</td>\n      <td>0.55</td>\n      <td>2.8</td>\n    </tr>\n    <tr>\n      <th>3</th>\n      <td>2</td>\n      <td>0.00</td>\n      <td>0.9</td>\n      <td>5</td>\n      <td>0.60</td>\n      <td>3.9</td>\n      <td>36</td>\n      <td>0.75</td>\n      <td>6.2</td>\n      <td>5</td>\n      <td>...</td>\n      <td>3.0</td>\n      <td>6</td>\n      <td>0.67</td>\n      <td>5.2</td>\n      <td>43</td>\n      <td>0.60</td>\n      <td>6.3</td>\n      <td>4</td>\n      <td>0.75</td>\n      <td>4.5</td>\n    </tr>\n    <tr>\n      <th>4</th>\n      <td>16</td>\n      <td>0.56</td>\n      <td>2.8</td>\n      <td>11</td>\n      <td>0.55</td>\n      <td>3.6</td>\n      <td>50</td>\n      <td>0.64</td>\n      <td>6.1</td>\n      <td>5</td>\n      <td>...</td>\n      <td>2.9</td>\n      <td>6</td>\n      <td>0.67</td>\n      <td>5.2</td>\n      <td>43</td>\n      <td>0.60</td>\n      <td>6.3</td>\n      <td>2</td>\n      <td>0.50</td>\n      <td>1.4</td>\n    </tr>\n    <tr>\n      <th>...</th>\n      <td>...</td>\n      <td>...</td>\n      <td>...</td>\n      <td>...</td>\n      <td>...</td>\n      <td>...</td>\n      <td>...</td>\n      <td>...</td>\n      <td>...</td>\n      <td>...</td>\n      <td>...</td>\n      <td>...</td>\n      <td>...</td>\n      <td>...</td>\n      <td>...</td>\n      <td>...</td>\n      <td>...</td>\n      <td>...</td>\n      <td>...</td>\n      <td>...</td>\n      <td>...</td>\n    </tr>\n    <tr>\n      <th>3824</th>\n      <td>9</td>\n      <td>0.56</td>\n      <td>4.9</td>\n      <td>9</td>\n      <td>0.44</td>\n      <td>4.3</td>\n      <td>31</td>\n      <td>0.61</td>\n      <td>6.0</td>\n      <td>28</td>\n      <td>...</td>\n      <td>4.2</td>\n      <td>35</td>\n      <td>0.54</td>\n      <td>4.7</td>\n      <td>17</td>\n      <td>0.12</td>\n      <td>3.6</td>\n      <td>9</td>\n      <td>0.22</td>\n      <td>1.3</td>\n    </tr>\n    <tr>\n      <th>3825</th>\n      <td>8</td>\n      <td>0.50</td>\n      <td>2.1</td>\n      <td>6</td>\n      <td>0.83</td>\n      <td>4.3</td>\n      <td>8</td>\n      <td>0.38</td>\n      <td>4.5</td>\n      <td>75</td>\n      <td>...</td>\n      <td>2.3</td>\n      <td>5</td>\n      <td>0.20</td>\n      <td>2.0</td>\n      <td>45</td>\n      <td>0.71</td>\n      <td>6.5</td>\n      <td>20</td>\n      <td>0.55</td>\n      <td>4.5</td>\n    </tr>\n    <tr>\n      <th>3826</th>\n      <td>2</td>\n      <td>0.50</td>\n      <td>8.0</td>\n      <td>13</td>\n      <td>0.46</td>\n      <td>5.7</td>\n      <td>19</td>\n      <td>0.53</td>\n      <td>8.1</td>\n      <td>10</td>\n      <td>...</td>\n      <td>4.5</td>\n      <td>9</td>\n      <td>0.78</td>\n      <td>5.1</td>\n      <td>14</td>\n      <td>0.57</td>\n      <td>3.8</td>\n      <td>3</td>\n      <td>0.67</td>\n      <td>1.6</td>\n    </tr>\n    <tr>\n      <th>3827</th>\n      <td>32</td>\n      <td>0.38</td>\n      <td>2.6</td>\n      <td>7</td>\n      <td>0.29</td>\n      <td>3.1</td>\n      <td>9</td>\n      <td>0.44</td>\n      <td>4.2</td>\n      <td>5</td>\n      <td>...</td>\n      <td>2.7</td>\n      <td>2</td>\n      <td>0.50</td>\n      <td>7.3</td>\n      <td>32</td>\n      <td>0.44</td>\n      <td>3.1</td>\n      <td>21</td>\n      <td>0.57</td>\n      <td>3.3</td>\n    </tr>\n    <tr>\n      <th>3828</th>\n      <td>13</td>\n      <td>0.46</td>\n      <td>1.5</td>\n      <td>5</td>\n      <td>0.40</td>\n      <td>2.8</td>\n      <td>38</td>\n      <td>0.47</td>\n      <td>3.0</td>\n      <td>31</td>\n      <td>...</td>\n      <td>8.5</td>\n      <td>31</td>\n      <td>0.61</td>\n      <td>6.0</td>\n      <td>28</td>\n      <td>0.79</td>\n      <td>9.3</td>\n      <td>37</td>\n      <td>0.62</td>\n      <td>3.5</td>\n    </tr>\n  </tbody>\n</table>\n<p>3829 rows × 30 columns</p>\n</div>"
     },
     "metadata": {},
     "execution_count": 10
    }
   ],
   "source": [
    "y = df['result'].copy()\n",
    "X = df.drop(['blueTop', 'blueJungle', 'blueMid', 'blueADC', 'blueSupport', 'redTop', 'redJungle', 'redMid', 'redAdc', 'redSupport', 'result', 'game'],axis=1)\n",
    "X"
   ]
  },
  {
   "cell_type": "code",
   "execution_count": 11,
   "metadata": {},
   "outputs": [],
   "source": [
    "def preprocess_input(X,y):\n",
    "    skf = StratifiedKFold(n_splits=10)\n",
    "    X = X.copy()\n",
    "    X_train,X_test,y_train,y_test = train_test_split(X,y,train_size=0.8,random_state=42, stratify=y)\n",
    "    scaler = StandardScaler()\n",
    "    scaler.fit(X_train)\n",
    "    X_train = scaler.transform(X_train)\n",
    "    X_test = scaler.transform(X_test)\n",
    "    return X_train,X_test,y_train,y_test\n",
    "X_train,X_test,y_train,y_test = preprocess_input(X,y)"
   ]
  },
  {
   "cell_type": "code",
   "execution_count": 12,
   "metadata": {},
   "outputs": [
    {
     "output_type": "stream",
     "name": "stdout",
     "text": [
      "Logistic Regression trained\n",
      "Support Vector Machine (Linear Kernel) trained\n",
      "C:\\Users\\linco\\AppData\\Local\\Programs\\Python\\Python38\\lib\\site-packages\\sklearn\\svm\\_base.py:976: ConvergenceWarning: Liblinear failed to converge, increase the number of iterations.\n",
      "  warnings.warn(\"Liblinear failed to converge, increase \"\n",
      "Support Vector Machine (RBF Kernel) trained\n",
      "Decission Tree trained\n",
      "Adaboost trained\n",
      "Random Forest trained\n",
      "Gradient Boosting Classifier trained\n"
     ]
    }
   ],
   "source": [
    "from sklearn.model_selection import train_test_split\n",
    "from sklearn.model_selection import GridSearchCV\n",
    "from sklearn.preprocessing import StandardScaler\n",
    "\n",
    "from sklearn.linear_model import LogisticRegression\n",
    "from sklearn.svm import LinearSVC, SVC\n",
    "from sklearn.tree import DecisionTreeClassifier\n",
    "from sklearn.ensemble import RandomForestClassifier, GradientBoostingClassifier, AdaBoostClassifier\n",
    "\n",
    "models = {\n",
    "    'Logistic Regression': LogisticRegression(max_iter=1000),\n",
    "    'Support Vector Machine (Linear Kernel)': LinearSVC(),\n",
    "    'Support Vector Machine (RBF Kernel)': SVC(),\n",
    "    'Decission Tree': DecisionTreeClassifier(),\n",
    "    'Adaboost': AdaBoostClassifier(),\n",
    "    'Random Forest': RandomForestClassifier(),\n",
    "    'Gradient Boosting Classifier': GradientBoostingClassifier()\n",
    "}\n",
    "\n",
    "for name, model in models.items():\n",
    "  model.fit(X_train,y_train)\n",
    "  print(name + ' trained')"
   ]
  },
  {
   "cell_type": "code",
   "execution_count": 13,
   "metadata": {},
   "outputs": [],
   "source": [
    "scores_list = []\n",
    "for name,model in models.items():\n",
    "    scores_list.append({\n",
    "    'Model': name,\n",
    "    'Accuracy': accuracy_score(y_test,model.predict(X_test)),\n",
    "    'Precision':  precision_score(y_test,model.predict(X_test)),\n",
    "    'Recall': recall_score(y_test,model.predict(X_test)),\n",
    "    'F1-Score': f1_score(y_test,model.predict(X_test))\n",
    "    })\n",
    "scores = pd.DataFrame(scores_list)"
   ]
  },
  {
   "cell_type": "code",
   "execution_count": 14,
   "metadata": {},
   "outputs": [
    {
     "output_type": "execute_result",
     "data": {
      "text/plain": [
       "                                    Model  Accuracy  Precision    Recall  \\\n",
       "0                     Logistic Regression  0.924282   0.923729  0.913408   \n",
       "1  Support Vector Machine (Linear Kernel)  0.925587   0.923944  0.916201   \n",
       "2     Support Vector Machine (RBF Kernel)  0.930809   0.927171  0.924581   \n",
       "3                          Decission Tree  0.886423   0.871233  0.888268   \n",
       "4                                Adaboost  0.939948   0.928571  0.944134   \n",
       "5                           Random Forest  0.939948   0.950867  0.918994   \n",
       "6            Gradient Boosting Classifier  0.949086   0.962319  0.927374   \n",
       "\n",
       "   F1-Score  \n",
       "0  0.918539  \n",
       "1  0.920056  \n",
       "2  0.925874  \n",
       "3  0.879668  \n",
       "4  0.936288  \n",
       "5  0.934659  \n",
       "6  0.944523  "
      ],
      "text/html": "<div>\n<style scoped>\n    .dataframe tbody tr th:only-of-type {\n        vertical-align: middle;\n    }\n\n    .dataframe tbody tr th {\n        vertical-align: top;\n    }\n\n    .dataframe thead th {\n        text-align: right;\n    }\n</style>\n<table border=\"1\" class=\"dataframe\">\n  <thead>\n    <tr style=\"text-align: right;\">\n      <th></th>\n      <th>Model</th>\n      <th>Accuracy</th>\n      <th>Precision</th>\n      <th>Recall</th>\n      <th>F1-Score</th>\n    </tr>\n  </thead>\n  <tbody>\n    <tr>\n      <th>0</th>\n      <td>Logistic Regression</td>\n      <td>0.924282</td>\n      <td>0.923729</td>\n      <td>0.913408</td>\n      <td>0.918539</td>\n    </tr>\n    <tr>\n      <th>1</th>\n      <td>Support Vector Machine (Linear Kernel)</td>\n      <td>0.925587</td>\n      <td>0.923944</td>\n      <td>0.916201</td>\n      <td>0.920056</td>\n    </tr>\n    <tr>\n      <th>2</th>\n      <td>Support Vector Machine (RBF Kernel)</td>\n      <td>0.930809</td>\n      <td>0.927171</td>\n      <td>0.924581</td>\n      <td>0.925874</td>\n    </tr>\n    <tr>\n      <th>3</th>\n      <td>Decission Tree</td>\n      <td>0.886423</td>\n      <td>0.871233</td>\n      <td>0.888268</td>\n      <td>0.879668</td>\n    </tr>\n    <tr>\n      <th>4</th>\n      <td>Adaboost</td>\n      <td>0.939948</td>\n      <td>0.928571</td>\n      <td>0.944134</td>\n      <td>0.936288</td>\n    </tr>\n    <tr>\n      <th>5</th>\n      <td>Random Forest</td>\n      <td>0.939948</td>\n      <td>0.950867</td>\n      <td>0.918994</td>\n      <td>0.934659</td>\n    </tr>\n    <tr>\n      <th>6</th>\n      <td>Gradient Boosting Classifier</td>\n      <td>0.949086</td>\n      <td>0.962319</td>\n      <td>0.927374</td>\n      <td>0.944523</td>\n    </tr>\n  </tbody>\n</table>\n</div>"
     },
     "metadata": {},
     "execution_count": 14
    }
   ],
   "source": [
    "scores"
   ]
  }
 ],
 "metadata": {
  "kernelspec": {
   "name": "python380jvsc74a57bd0c23d76e2db843e0f747ff48312a954c7457626ae9cc0ad47025b64e4be0ddf11",
   "display_name": "Python 3.8.0 64-bit"
  },
  "language_info": {
   "codemirror_mode": {
    "name": "ipython",
    "version": 3
   },
   "file_extension": ".py",
   "mimetype": "text/x-python",
   "name": "python",
   "nbconvert_exporter": "python",
   "pygments_lexer": "ipython3",
   "version": "3.8.0"
  }
 },
 "nbformat": 4,
 "nbformat_minor": 2
}