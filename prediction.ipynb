{
 "cells": [
  {
   "cell_type": "code",
   "execution_count": 71,
   "metadata": {},
   "outputs": [],
   "source": [
    "import pandas as pd\n",
    "import numpy as np\n",
    "from datetime import datetime\n",
    "\n",
    "from sklearn.model_selection import train_test_split, GridSearchCV, StratifiedKFold\n",
    "from sklearn.preprocessing import StandardScaler\n",
    "from sklearn.feature_selection import SelectKBest,f_classif\n",
    "from sklearn.metrics import accuracy_score, precision_score,recall_score,f1_score"
   ]
  },
  {
   "cell_type": "code",
   "execution_count": 72,
   "metadata": {},
   "outputs": [
    {
     "output_type": "execute_result",
     "data": {
      "text/plain": [
       "                       game  blueTop  blueTopGP  blueTopWR  blueTopKDA  \\\n",
       "0     ESPORTSTMNT03/1632489       82          8       0.50         2.9   \n",
       "1     ESPORTSTMNT03/1632500       79         14       0.36         2.6   \n",
       "2     ESPORTSTMNT03/1632502       79         14       0.36         2.6   \n",
       "3                 6909-9183       43          2       0.00         0.9   \n",
       "4                 6909-9184       24         16       0.56         2.8   \n",
       "...                     ...      ...        ...        ...         ...   \n",
       "4055  ESPORTSTMNT01/1887455      266         45       0.64         2.9   \n",
       "4056  ESPORTSTMNT05/1870404      150          7       0.57         2.9   \n",
       "4057  ESPORTSTMNT04/1600494      150          9       0.89         5.8   \n",
       "4058  ESPORTSTMNT02/1722049       79          2       0.00         1.1   \n",
       "4059              7169-9909      164         16       0.63         3.2   \n",
       "\n",
       "      blueJungle  blueJungleGP  blueJungleWR  blueJungleKDA  blueMid  ...  \\\n",
       "0            104            27          0.85            5.9      142  ...   \n",
       "1            104            63          0.63            5.1       68  ...   \n",
       "2            104            63          0.63            5.1      142  ...   \n",
       "3             80             5          0.60            3.9      134  ...   \n",
       "4            120            11          0.55            3.6       61  ...   \n",
       "...          ...           ...           ...            ...      ...  ...   \n",
       "4055          76             0          0.00            0.0       58  ...   \n",
       "4056          48            16          0.56            4.1      245  ...   \n",
       "4057         120             8          0.88            6.2       34  ...   \n",
       "4058          72             3          0.00            0.8       13  ...   \n",
       "4059           2            13          0.54            4.4      134  ...   \n",
       "\n",
       "      redMidKDA  redAdc  redAdcGP  redAdcWR  redAdcKDA  redSupport  \\\n",
       "0           3.6      81        21      0.57        4.3          89   \n",
       "1           4.9      21        10      0.70        5.3           3   \n",
       "2           4.4      21        10      0.70        5.3           3   \n",
       "3           5.2     145        43      0.60        6.3           3   \n",
       "4           5.2     145        43      0.60        6.3          57   \n",
       "...         ...     ...       ...       ...        ...         ...   \n",
       "4055        4.9     145        36      0.75        5.0          79   \n",
       "4056        6.3      18         5      0.60        4.4          12   \n",
       "4057        3.4     222         5      0.40        2.5         201   \n",
       "4058        6.1     145        15      0.40        4.3          12   \n",
       "4059        6.1     135         2      0.50        5.8          71   \n",
       "\n",
       "      redSupportGP  redSupportWR  redSupportKDA  result  \n",
       "0               10          0.60            2.5       0  \n",
       "1               11          0.55            2.8       1  \n",
       "2               11          0.55            2.8       1  \n",
       "3                4          0.75            4.5       1  \n",
       "4                2          0.50            1.4       1  \n",
       "...            ...           ...            ...     ...  \n",
       "4055            14          0.79            3.1       1  \n",
       "4056            16          0.69            4.0       1  \n",
       "4057            23          0.61            3.6       0  \n",
       "4058            14          0.57            3.4       1  \n",
       "4059             9          0.44            2.6       0  \n",
       "\n",
       "[4060 rows x 42 columns]"
      ],
      "text/html": "<div>\n<style scoped>\n    .dataframe tbody tr th:only-of-type {\n        vertical-align: middle;\n    }\n\n    .dataframe tbody tr th {\n        vertical-align: top;\n    }\n\n    .dataframe thead th {\n        text-align: right;\n    }\n</style>\n<table border=\"1\" class=\"dataframe\">\n  <thead>\n    <tr style=\"text-align: right;\">\n      <th></th>\n      <th>game</th>\n      <th>blueTop</th>\n      <th>blueTopGP</th>\n      <th>blueTopWR</th>\n      <th>blueTopKDA</th>\n      <th>blueJungle</th>\n      <th>blueJungleGP</th>\n      <th>blueJungleWR</th>\n      <th>blueJungleKDA</th>\n      <th>blueMid</th>\n      <th>...</th>\n      <th>redMidKDA</th>\n      <th>redAdc</th>\n      <th>redAdcGP</th>\n      <th>redAdcWR</th>\n      <th>redAdcKDA</th>\n      <th>redSupport</th>\n      <th>redSupportGP</th>\n      <th>redSupportWR</th>\n      <th>redSupportKDA</th>\n      <th>result</th>\n    </tr>\n  </thead>\n  <tbody>\n    <tr>\n      <th>0</th>\n      <td>ESPORTSTMNT03/1632489</td>\n      <td>82</td>\n      <td>8</td>\n      <td>0.50</td>\n      <td>2.9</td>\n      <td>104</td>\n      <td>27</td>\n      <td>0.85</td>\n      <td>5.9</td>\n      <td>142</td>\n      <td>...</td>\n      <td>3.6</td>\n      <td>81</td>\n      <td>21</td>\n      <td>0.57</td>\n      <td>4.3</td>\n      <td>89</td>\n      <td>10</td>\n      <td>0.60</td>\n      <td>2.5</td>\n      <td>0</td>\n    </tr>\n    <tr>\n      <th>1</th>\n      <td>ESPORTSTMNT03/1632500</td>\n      <td>79</td>\n      <td>14</td>\n      <td>0.36</td>\n      <td>2.6</td>\n      <td>104</td>\n      <td>63</td>\n      <td>0.63</td>\n      <td>5.1</td>\n      <td>68</td>\n      <td>...</td>\n      <td>4.9</td>\n      <td>21</td>\n      <td>10</td>\n      <td>0.70</td>\n      <td>5.3</td>\n      <td>3</td>\n      <td>11</td>\n      <td>0.55</td>\n      <td>2.8</td>\n      <td>1</td>\n    </tr>\n    <tr>\n      <th>2</th>\n      <td>ESPORTSTMNT03/1632502</td>\n      <td>79</td>\n      <td>14</td>\n      <td>0.36</td>\n      <td>2.6</td>\n      <td>104</td>\n      <td>63</td>\n      <td>0.63</td>\n      <td>5.1</td>\n      <td>142</td>\n      <td>...</td>\n      <td>4.4</td>\n      <td>21</td>\n      <td>10</td>\n      <td>0.70</td>\n      <td>5.3</td>\n      <td>3</td>\n      <td>11</td>\n      <td>0.55</td>\n      <td>2.8</td>\n      <td>1</td>\n    </tr>\n    <tr>\n      <th>3</th>\n      <td>6909-9183</td>\n      <td>43</td>\n      <td>2</td>\n      <td>0.00</td>\n      <td>0.9</td>\n      <td>80</td>\n      <td>5</td>\n      <td>0.60</td>\n      <td>3.9</td>\n      <td>134</td>\n      <td>...</td>\n      <td>5.2</td>\n      <td>145</td>\n      <td>43</td>\n      <td>0.60</td>\n      <td>6.3</td>\n      <td>3</td>\n      <td>4</td>\n      <td>0.75</td>\n      <td>4.5</td>\n      <td>1</td>\n    </tr>\n    <tr>\n      <th>4</th>\n      <td>6909-9184</td>\n      <td>24</td>\n      <td>16</td>\n      <td>0.56</td>\n      <td>2.8</td>\n      <td>120</td>\n      <td>11</td>\n      <td>0.55</td>\n      <td>3.6</td>\n      <td>61</td>\n      <td>...</td>\n      <td>5.2</td>\n      <td>145</td>\n      <td>43</td>\n      <td>0.60</td>\n      <td>6.3</td>\n      <td>57</td>\n      <td>2</td>\n      <td>0.50</td>\n      <td>1.4</td>\n      <td>1</td>\n    </tr>\n    <tr>\n      <th>...</th>\n      <td>...</td>\n      <td>...</td>\n      <td>...</td>\n      <td>...</td>\n      <td>...</td>\n      <td>...</td>\n      <td>...</td>\n      <td>...</td>\n      <td>...</td>\n      <td>...</td>\n      <td>...</td>\n      <td>...</td>\n      <td>...</td>\n      <td>...</td>\n      <td>...</td>\n      <td>...</td>\n      <td>...</td>\n      <td>...</td>\n      <td>...</td>\n      <td>...</td>\n      <td>...</td>\n    </tr>\n    <tr>\n      <th>4055</th>\n      <td>ESPORTSTMNT01/1887455</td>\n      <td>266</td>\n      <td>45</td>\n      <td>0.64</td>\n      <td>2.9</td>\n      <td>76</td>\n      <td>0</td>\n      <td>0.00</td>\n      <td>0.0</td>\n      <td>58</td>\n      <td>...</td>\n      <td>4.9</td>\n      <td>145</td>\n      <td>36</td>\n      <td>0.75</td>\n      <td>5.0</td>\n      <td>79</td>\n      <td>14</td>\n      <td>0.79</td>\n      <td>3.1</td>\n      <td>1</td>\n    </tr>\n    <tr>\n      <th>4056</th>\n      <td>ESPORTSTMNT05/1870404</td>\n      <td>150</td>\n      <td>7</td>\n      <td>0.57</td>\n      <td>2.9</td>\n      <td>48</td>\n      <td>16</td>\n      <td>0.56</td>\n      <td>4.1</td>\n      <td>245</td>\n      <td>...</td>\n      <td>6.3</td>\n      <td>18</td>\n      <td>5</td>\n      <td>0.60</td>\n      <td>4.4</td>\n      <td>12</td>\n      <td>16</td>\n      <td>0.69</td>\n      <td>4.0</td>\n      <td>1</td>\n    </tr>\n    <tr>\n      <th>4057</th>\n      <td>ESPORTSTMNT04/1600494</td>\n      <td>150</td>\n      <td>9</td>\n      <td>0.89</td>\n      <td>5.8</td>\n      <td>120</td>\n      <td>8</td>\n      <td>0.88</td>\n      <td>6.2</td>\n      <td>34</td>\n      <td>...</td>\n      <td>3.4</td>\n      <td>222</td>\n      <td>5</td>\n      <td>0.40</td>\n      <td>2.5</td>\n      <td>201</td>\n      <td>23</td>\n      <td>0.61</td>\n      <td>3.6</td>\n      <td>0</td>\n    </tr>\n    <tr>\n      <th>4058</th>\n      <td>ESPORTSTMNT02/1722049</td>\n      <td>79</td>\n      <td>2</td>\n      <td>0.00</td>\n      <td>1.1</td>\n      <td>72</td>\n      <td>3</td>\n      <td>0.00</td>\n      <td>0.8</td>\n      <td>13</td>\n      <td>...</td>\n      <td>6.1</td>\n      <td>145</td>\n      <td>15</td>\n      <td>0.40</td>\n      <td>4.3</td>\n      <td>12</td>\n      <td>14</td>\n      <td>0.57</td>\n      <td>3.4</td>\n      <td>1</td>\n    </tr>\n    <tr>\n      <th>4059</th>\n      <td>7169-9909</td>\n      <td>164</td>\n      <td>16</td>\n      <td>0.63</td>\n      <td>3.2</td>\n      <td>2</td>\n      <td>13</td>\n      <td>0.54</td>\n      <td>4.4</td>\n      <td>134</td>\n      <td>...</td>\n      <td>6.1</td>\n      <td>135</td>\n      <td>2</td>\n      <td>0.50</td>\n      <td>5.8</td>\n      <td>71</td>\n      <td>9</td>\n      <td>0.44</td>\n      <td>2.6</td>\n      <td>0</td>\n    </tr>\n  </tbody>\n</table>\n<p>4060 rows × 42 columns</p>\n</div>"
     },
     "metadata": {},
     "execution_count": 72
    }
   ],
   "source": [
    "df = pd.read_csv('outputs/dataset_20210523.csv')\n",
    "df_champions = pd.read_csv('data/dataset_champions.csv')\n",
    "df"
   ]
  },
  {
   "cell_type": "code",
   "execution_count": 73,
   "metadata": {},
   "outputs": [
    {
     "output_type": "execute_result",
     "data": {
      "text/plain": [
       "      blueTopGP  blueTopWR  blueTopKDA  blueJungleGP  blueJungleWR  \\\n",
       "0             8       0.50         2.9            27          0.85   \n",
       "1            14       0.36         2.6            63          0.63   \n",
       "2            14       0.36         2.6            63          0.63   \n",
       "3             2       0.00         0.9             5          0.60   \n",
       "4            16       0.56         2.8            11          0.55   \n",
       "...         ...        ...         ...           ...           ...   \n",
       "4055         45       0.64         2.9             0          0.00   \n",
       "4056          7       0.57         2.9            16          0.56   \n",
       "4057          9       0.89         5.8             8          0.88   \n",
       "4058          2       0.00         1.1             3          0.00   \n",
       "4059         16       0.63         3.2            13          0.54   \n",
       "\n",
       "      blueJungleKDA  blueMidGP  blueMidWR  blueMidKDA  blueADCGP  ...  \\\n",
       "0               5.9         59       0.76        10.7         10  ...   \n",
       "1               5.1          1       0.00         1.0         20  ...   \n",
       "2               5.1          5       0.40         2.9          2  ...   \n",
       "3               3.9         36       0.75         6.2          5  ...   \n",
       "4               3.6         50       0.64         6.1          5  ...   \n",
       "...             ...        ...        ...         ...        ...  ...   \n",
       "4055            0.0          3       0.33         2.6          6  ...   \n",
       "4056            4.1          7       0.71         3.4          8  ...   \n",
       "4057            6.2          1       1.00         5.0          9  ...   \n",
       "4058            0.8          6       0.67         3.4          7  ...   \n",
       "4059            4.4          8       0.75         3.2          0  ...   \n",
       "\n",
       "      redJungleKDA  redMidGP  redMidWR  redMidKDA  redAdcGP  redAdcWR  \\\n",
       "0              4.3        13      0.46        3.6        21      0.57   \n",
       "1              4.1        55      0.69        4.9        10      0.70   \n",
       "2              6.4         3      0.67        4.4        10      0.70   \n",
       "3              3.0         6      0.67        5.2        43      0.60   \n",
       "4              2.9         6      0.67        5.2        43      0.60   \n",
       "...            ...       ...       ...        ...       ...       ...   \n",
       "4055           7.9        55      0.69        4.9        36      0.75   \n",
       "4056           9.4        10      0.70        6.3         5      0.60   \n",
       "4057           4.5        36      0.64        3.4         5      0.40   \n",
       "4058           5.1         5      0.80        6.1        15      0.40   \n",
       "4059           3.3         8      0.63        6.1         2      0.50   \n",
       "\n",
       "      redAdcKDA  redSupportGP  redSupportWR  redSupportKDA  \n",
       "0           4.3            10          0.60            2.5  \n",
       "1           5.3            11          0.55            2.8  \n",
       "2           5.3            11          0.55            2.8  \n",
       "3           6.3             4          0.75            4.5  \n",
       "4           6.3             2          0.50            1.4  \n",
       "...         ...           ...           ...            ...  \n",
       "4055        5.0            14          0.79            3.1  \n",
       "4056        4.4            16          0.69            4.0  \n",
       "4057        2.5            23          0.61            3.6  \n",
       "4058        4.3            14          0.57            3.4  \n",
       "4059        5.8             9          0.44            2.6  \n",
       "\n",
       "[4060 rows x 30 columns]"
      ],
      "text/html": "<div>\n<style scoped>\n    .dataframe tbody tr th:only-of-type {\n        vertical-align: middle;\n    }\n\n    .dataframe tbody tr th {\n        vertical-align: top;\n    }\n\n    .dataframe thead th {\n        text-align: right;\n    }\n</style>\n<table border=\"1\" class=\"dataframe\">\n  <thead>\n    <tr style=\"text-align: right;\">\n      <th></th>\n      <th>blueTopGP</th>\n      <th>blueTopWR</th>\n      <th>blueTopKDA</th>\n      <th>blueJungleGP</th>\n      <th>blueJungleWR</th>\n      <th>blueJungleKDA</th>\n      <th>blueMidGP</th>\n      <th>blueMidWR</th>\n      <th>blueMidKDA</th>\n      <th>blueADCGP</th>\n      <th>...</th>\n      <th>redJungleKDA</th>\n      <th>redMidGP</th>\n      <th>redMidWR</th>\n      <th>redMidKDA</th>\n      <th>redAdcGP</th>\n      <th>redAdcWR</th>\n      <th>redAdcKDA</th>\n      <th>redSupportGP</th>\n      <th>redSupportWR</th>\n      <th>redSupportKDA</th>\n    </tr>\n  </thead>\n  <tbody>\n    <tr>\n      <th>0</th>\n      <td>8</td>\n      <td>0.50</td>\n      <td>2.9</td>\n      <td>27</td>\n      <td>0.85</td>\n      <td>5.9</td>\n      <td>59</td>\n      <td>0.76</td>\n      <td>10.7</td>\n      <td>10</td>\n      <td>...</td>\n      <td>4.3</td>\n      <td>13</td>\n      <td>0.46</td>\n      <td>3.6</td>\n      <td>21</td>\n      <td>0.57</td>\n      <td>4.3</td>\n      <td>10</td>\n      <td>0.60</td>\n      <td>2.5</td>\n    </tr>\n    <tr>\n      <th>1</th>\n      <td>14</td>\n      <td>0.36</td>\n      <td>2.6</td>\n      <td>63</td>\n      <td>0.63</td>\n      <td>5.1</td>\n      <td>1</td>\n      <td>0.00</td>\n      <td>1.0</td>\n      <td>20</td>\n      <td>...</td>\n      <td>4.1</td>\n      <td>55</td>\n      <td>0.69</td>\n      <td>4.9</td>\n      <td>10</td>\n      <td>0.70</td>\n      <td>5.3</td>\n      <td>11</td>\n      <td>0.55</td>\n      <td>2.8</td>\n    </tr>\n    <tr>\n      <th>2</th>\n      <td>14</td>\n      <td>0.36</td>\n      <td>2.6</td>\n      <td>63</td>\n      <td>0.63</td>\n      <td>5.1</td>\n      <td>5</td>\n      <td>0.40</td>\n      <td>2.9</td>\n      <td>2</td>\n      <td>...</td>\n      <td>6.4</td>\n      <td>3</td>\n      <td>0.67</td>\n      <td>4.4</td>\n      <td>10</td>\n      <td>0.70</td>\n      <td>5.3</td>\n      <td>11</td>\n      <td>0.55</td>\n      <td>2.8</td>\n    </tr>\n    <tr>\n      <th>3</th>\n      <td>2</td>\n      <td>0.00</td>\n      <td>0.9</td>\n      <td>5</td>\n      <td>0.60</td>\n      <td>3.9</td>\n      <td>36</td>\n      <td>0.75</td>\n      <td>6.2</td>\n      <td>5</td>\n      <td>...</td>\n      <td>3.0</td>\n      <td>6</td>\n      <td>0.67</td>\n      <td>5.2</td>\n      <td>43</td>\n      <td>0.60</td>\n      <td>6.3</td>\n      <td>4</td>\n      <td>0.75</td>\n      <td>4.5</td>\n    </tr>\n    <tr>\n      <th>4</th>\n      <td>16</td>\n      <td>0.56</td>\n      <td>2.8</td>\n      <td>11</td>\n      <td>0.55</td>\n      <td>3.6</td>\n      <td>50</td>\n      <td>0.64</td>\n      <td>6.1</td>\n      <td>5</td>\n      <td>...</td>\n      <td>2.9</td>\n      <td>6</td>\n      <td>0.67</td>\n      <td>5.2</td>\n      <td>43</td>\n      <td>0.60</td>\n      <td>6.3</td>\n      <td>2</td>\n      <td>0.50</td>\n      <td>1.4</td>\n    </tr>\n    <tr>\n      <th>...</th>\n      <td>...</td>\n      <td>...</td>\n      <td>...</td>\n      <td>...</td>\n      <td>...</td>\n      <td>...</td>\n      <td>...</td>\n      <td>...</td>\n      <td>...</td>\n      <td>...</td>\n      <td>...</td>\n      <td>...</td>\n      <td>...</td>\n      <td>...</td>\n      <td>...</td>\n      <td>...</td>\n      <td>...</td>\n      <td>...</td>\n      <td>...</td>\n      <td>...</td>\n      <td>...</td>\n    </tr>\n    <tr>\n      <th>4055</th>\n      <td>45</td>\n      <td>0.64</td>\n      <td>2.9</td>\n      <td>0</td>\n      <td>0.00</td>\n      <td>0.0</td>\n      <td>3</td>\n      <td>0.33</td>\n      <td>2.6</td>\n      <td>6</td>\n      <td>...</td>\n      <td>7.9</td>\n      <td>55</td>\n      <td>0.69</td>\n      <td>4.9</td>\n      <td>36</td>\n      <td>0.75</td>\n      <td>5.0</td>\n      <td>14</td>\n      <td>0.79</td>\n      <td>3.1</td>\n    </tr>\n    <tr>\n      <th>4056</th>\n      <td>7</td>\n      <td>0.57</td>\n      <td>2.9</td>\n      <td>16</td>\n      <td>0.56</td>\n      <td>4.1</td>\n      <td>7</td>\n      <td>0.71</td>\n      <td>3.4</td>\n      <td>8</td>\n      <td>...</td>\n      <td>9.4</td>\n      <td>10</td>\n      <td>0.70</td>\n      <td>6.3</td>\n      <td>5</td>\n      <td>0.60</td>\n      <td>4.4</td>\n      <td>16</td>\n      <td>0.69</td>\n      <td>4.0</td>\n    </tr>\n    <tr>\n      <th>4057</th>\n      <td>9</td>\n      <td>0.89</td>\n      <td>5.8</td>\n      <td>8</td>\n      <td>0.88</td>\n      <td>6.2</td>\n      <td>1</td>\n      <td>1.00</td>\n      <td>5.0</td>\n      <td>9</td>\n      <td>...</td>\n      <td>4.5</td>\n      <td>36</td>\n      <td>0.64</td>\n      <td>3.4</td>\n      <td>5</td>\n      <td>0.40</td>\n      <td>2.5</td>\n      <td>23</td>\n      <td>0.61</td>\n      <td>3.6</td>\n    </tr>\n    <tr>\n      <th>4058</th>\n      <td>2</td>\n      <td>0.00</td>\n      <td>1.1</td>\n      <td>3</td>\n      <td>0.00</td>\n      <td>0.8</td>\n      <td>6</td>\n      <td>0.67</td>\n      <td>3.4</td>\n      <td>7</td>\n      <td>...</td>\n      <td>5.1</td>\n      <td>5</td>\n      <td>0.80</td>\n      <td>6.1</td>\n      <td>15</td>\n      <td>0.40</td>\n      <td>4.3</td>\n      <td>14</td>\n      <td>0.57</td>\n      <td>3.4</td>\n    </tr>\n    <tr>\n      <th>4059</th>\n      <td>16</td>\n      <td>0.63</td>\n      <td>3.2</td>\n      <td>13</td>\n      <td>0.54</td>\n      <td>4.4</td>\n      <td>8</td>\n      <td>0.75</td>\n      <td>3.2</td>\n      <td>0</td>\n      <td>...</td>\n      <td>3.3</td>\n      <td>8</td>\n      <td>0.63</td>\n      <td>6.1</td>\n      <td>2</td>\n      <td>0.50</td>\n      <td>5.8</td>\n      <td>9</td>\n      <td>0.44</td>\n      <td>2.6</td>\n    </tr>\n  </tbody>\n</table>\n<p>4060 rows × 30 columns</p>\n</div>"
     },
     "metadata": {},
     "execution_count": 73
    }
   ],
   "source": [
    "y = df['result'].copy()\n",
    "X = df.drop(['blueTop', 'blueJungle', 'blueMid', 'blueADC', 'blueSupport', 'redTop', 'redJungle', 'redMid', 'redAdc', 'redSupport', 'result', 'game'],axis=1)\n",
    "X"
   ]
  },
  {
   "cell_type": "code",
   "execution_count": 74,
   "metadata": {},
   "outputs": [
    {
     "output_type": "stream",
     "name": "stdout",
     "text": [
      "      blueTopGP  blueTopWR  blueTopKDA  blueJungleGP  blueJungleWR  \\\n23            5       0.60         3.7             5          0.60   \n1819          0       0.00         0.0             1          0.00   \n3712         13       0.38         2.2             1          1.00   \n92            3       0.33         1.1             3          0.33   \n1977          9       0.56         3.6            11          0.64   \n...         ...        ...         ...           ...           ...   \n2977         13       0.38         2.0             7          0.43   \n2430          3       0.33         4.3             1          0.00   \n1805         19       0.63         2.7             5          0.80   \n2414          5       0.80         3.8            12          0.50   \n2513          2       0.50         2.8             2          0.00   \n\n      blueJungleKDA  blueMidGP  blueMidWR  blueMidKDA  blueADCGP  ...  \\\n23              9.7          5       0.40         2.9          4  ...   \n1819            1.6          0       0.00         0.0         12  ...   \n3712            1.4          9       0.44         4.1          1  ...   \n92              2.5          0       0.00         0.0          7  ...   \n1977            4.5          9       0.67         4.6         19  ...   \n...             ...        ...        ...         ...        ...  ...   \n2977            3.6          6       0.33         2.6         33  ...   \n2430            3.0          6       0.50         4.3          2  ...   \n1805            5.7          7       0.29         2.2         43  ...   \n2414            3.5         25       0.68         4.2          0  ...   \n2513            0.8          4       0.50         2.4          2  ...   \n\n      redJungleKDA  redMidGP  redMidWR  redMidKDA  redAdcGP  redAdcWR  \\\n23             3.4         7      0.71        6.5        23      0.43   \n1819           3.3         4      0.50        2.2         7      0.43   \n3712           5.7         7      0.43        4.3         7      0.43   \n92             1.5         0      0.00        0.0         3      0.33   \n1977           3.3        16      0.81        5.2        10      0.60   \n...            ...       ...       ...        ...       ...       ...   \n2977           3.6        11      0.64        6.3        21      0.67   \n2430           2.9         7      0.29        3.1         4      0.50   \n1805           2.8         3      0.33        2.5         8      0.75   \n2414           4.3        13      0.69        4.6         3      0.33   \n2513           2.5         7      0.71        6.1         2      0.50   \n\n      redAdcKDA  redSupportGP  redSupportWR  redSupportKDA  \n23          3.2             7          0.57            3.0  \n1819        2.7             8          0.75            3.6  \n3712        5.8             6          0.33            3.4  \n92          0.9             4          0.25            0.7  \n1977        4.5             6          0.33            2.0  \n...         ...           ...           ...            ...  \n2977        4.7            25          0.68            4.5  \n2430        6.7             9          0.56            2.5  \n1805        4.3            20          0.60            5.1  \n2414        2.9             7          0.57            3.3  \n2513        2.6             8          0.50            2.3  \n\n[3248 rows x 30 columns]\n"
     ]
    }
   ],
   "source": [
    "def preprocess_input(X,y):\n",
    "    X = X.copy()\n",
    "    X_train,X_test,y_train,y_test = train_test_split(X,y,train_size=0.8,random_state=42, stratify=y)\n",
    "    scaler = StandardScaler()   \n",
    "    print(X_train) \n",
    "    scaler.fit(X_train)\n",
    "    X_train = scaler.transform(X_train)\n",
    "    X_test = scaler.transform(X_test)\n",
    "    return X_train,X_test,y_train,y_test\n",
    "X_train,X_test,y_train,y_test = preprocess_input(X,y)"
   ]
  },
  {
   "cell_type": "code",
   "execution_count": 75,
   "metadata": {},
   "outputs": [
    {
     "output_type": "stream",
     "name": "stdout",
     "text": [
      "Logistic Regression trained\n",
      "Support Vector Machine (Linear Kernel) trained\n",
      "C:\\Users\\linco\\AppData\\Local\\Programs\\Python\\Python38\\lib\\site-packages\\sklearn\\svm\\_base.py:976: ConvergenceWarning: Liblinear failed to converge, increase the number of iterations.\n",
      "  warnings.warn(\"Liblinear failed to converge, increase \"\n",
      "Support Vector Machine (RBF Kernel) trained\n",
      "Decission Tree trained\n",
      "Adaboost trained\n",
      "Random Forest trained\n",
      "Gradient Boosting Classifier trained\n"
     ]
    }
   ],
   "source": [
    "from sklearn.model_selection import train_test_split\n",
    "from sklearn.model_selection import GridSearchCV\n",
    "from sklearn.preprocessing import StandardScaler\n",
    "\n",
    "from sklearn.linear_model import LogisticRegression\n",
    "from sklearn.svm import LinearSVC, SVC\n",
    "from sklearn.tree import DecisionTreeClassifier\n",
    "from sklearn.ensemble import RandomForestClassifier, GradientBoostingClassifier, AdaBoostClassifier\n",
    "\n",
    "models = {\n",
    "    'Logistic Regression': LogisticRegression(max_iter=1000),\n",
    "    'Support Vector Machine (Linear Kernel)': LinearSVC(),\n",
    "    'Support Vector Machine (RBF Kernel)': SVC(),\n",
    "    'Decission Tree': DecisionTreeClassifier(),\n",
    "    'Adaboost': AdaBoostClassifier(),\n",
    "    'Random Forest': RandomForestClassifier(),\n",
    "    'Gradient Boosting Classifier': GradientBoostingClassifier()\n",
    "}\n",
    "\n",
    "GBCmodel = GradientBoostingClassifier()\n",
    "GBCmodel.fit(X_train,y_train)\n",
    "\n",
    "\n",
    "for name, model in models.items():\n",
    "  model.fit(X_train,y_train)\n",
    "  print(name + ' trained')"
   ]
  },
  {
   "cell_type": "code",
   "execution_count": 76,
   "metadata": {},
   "outputs": [],
   "source": [
    "scores_list = []\n",
    "\n",
    "for name,model in models.items():    \n",
    "    scores_list.append({\n",
    "    'Model': name,\n",
    "    'Accuracy': accuracy_score(y_test,model.predict(X_test)),\n",
    "    'Precision':  precision_score(y_test,model.predict(X_test)),\n",
    "    'Recall': recall_score(y_test,model.predict(X_test)),\n",
    "    'F1-Score': f1_score(y_test,model.predict(X_test))\n",
    "    })\n",
    "scores = pd.DataFrame(scores_list)"
   ]
  },
  {
   "cell_type": "code",
   "execution_count": 82,
   "metadata": {},
   "outputs": [
    {
     "output_type": "stream",
     "name": "stdout",
     "text": [
      "A distribuição de probabilidades para FLAMENGO VS PAIN é:\n[[0.35430319 0.64569681]]\n[1]\nA distribuição de probabilidades para KABUM VS VORAX é:\n[[0.16961702 0.83038298]]\n[1]\n"
     ]
    }
   ],
   "source": [
    "X_train,X_test,y_train,y_test = train_test_split(X,y,train_size=0.8,random_state=42, stratify=y)\n",
    "scaler = StandardScaler()    \n",
    "scaler.fit(X_train)\n",
    "\n",
    "# FLAMENGO VS PAIN\n",
    "match_to_predict = {'blueTopGP': [0],'blueTopWR': [0],'blueTopKDA': [0],'blueJungleGP': [5],'blueJungleWR': [0.4],'blueJungleKDA': [4],'blueMidGP': [0],'blueMidWR': [0],'blueMidKDA': [0],'blueADCGP': [2],'blueADCWR': [1],'blueADCKDA': [6.8],'blueSupportGP': [12],'blueSupportWR': [0.42],'blueSupportKDA': [3.1],'redTopGP': [0],'redTopWR': [0],'redTopKDA': [0],'redJungleGP': [10],'redJungleWR': [0.6],'redJungleKDA': [5.7],'redMidGP': [10],'redMidWR': [0.5],'redMidKDA': [2.8],'redAdcGP': [27],'redAdcWR': [0.7],'redAdcKDA': [6],'redSupportGP': [9],'redSupportWR': [0.33],'redSupportKDA': [1.8]}\n",
    "dict_match = pd.DataFrame.from_dict(match_to_predict)\n",
    "\n",
    "X_test = scaler.transform(dict_match)\n",
    "print('A distribuição de probabilidades para FLAMENGO VS PAIN é:')\n",
    "print(GBCmodel.predict_proba(X_test))\n",
    "print(GBCmodel.predict(X_test))\n",
    "\n",
    "# KABUM VS VORAX\n",
    "match_to_predict = {'blueTopGP': [12],'blueTopWR': [0.5],'blueTopKDA': [2.7],'blueJungleGP': [2],'blueJungleWR': [0.5],'blueJungleKDA': [2.4],'blueMidGP': [0],'blueMidWR': [0],'blueMidKDA': [0],'blueADCGP': [0],'blueADCWR': [0],'blueADCKDA': [0],'blueSupportGP': [2],'blueSupportWR': [0.5],'blueSupportKDA': [15],'redTopGP': [10],'redTopWR': [0.6],'redTopKDA': [4],'redJungleGP': [16],'redJungleWR': [0.63],'redJungleKDA': [3.8],'redMidGP': [23],'redMidWR': [0.38],'redMidKDA': [4.6],'redAdcGP': [6],'redAdcWR': [0.5],'redAdcKDA': [13.2],'redSupportGP': [20],'redSupportWR': [0.75],'redSupportKDA': [5.5]}\n",
    "dict_match = pd.DataFrame.from_dict(match_to_predict)\n",
    "\n",
    "X_test = scaler.transform(dict_match)\n",
    "print('A distribuição de probabilidades para KABUM VS VORAX é:')\n",
    "print(GBCmodel.predict_proba(X_test))\n",
    "print(GBCmodel.predict(X_test))\n"
   ]
  },
  {
   "cell_type": "code",
   "execution_count": 78,
   "metadata": {},
   "outputs": [
    {
     "output_type": "execute_result",
     "data": {
      "text/plain": [
       "                                    Model  Accuracy  Precision    Recall  \\\n",
       "0                     Logistic Regression  0.937192   0.929134  0.936508   \n",
       "1  Support Vector Machine (Linear Kernel)  0.938424   0.929319  0.939153   \n",
       "2     Support Vector Machine (RBF Kernel)  0.926108   0.918421  0.923280   \n",
       "3                          Decission Tree  0.876847   0.867725  0.867725   \n",
       "4                                Adaboost  0.945813   0.941799  0.941799   \n",
       "5                           Random Forest  0.933498   0.940217  0.915344   \n",
       "6            Gradient Boosting Classifier  0.947044   0.939633  0.947090   \n",
       "\n",
       "   F1-Score  \n",
       "0  0.932806  \n",
       "1  0.934211  \n",
       "2  0.920844  \n",
       "3  0.867725  \n",
       "4  0.941799  \n",
       "5  0.927614  \n",
       "6  0.943347  "
      ],
      "text/html": "<div>\n<style scoped>\n    .dataframe tbody tr th:only-of-type {\n        vertical-align: middle;\n    }\n\n    .dataframe tbody tr th {\n        vertical-align: top;\n    }\n\n    .dataframe thead th {\n        text-align: right;\n    }\n</style>\n<table border=\"1\" class=\"dataframe\">\n  <thead>\n    <tr style=\"text-align: right;\">\n      <th></th>\n      <th>Model</th>\n      <th>Accuracy</th>\n      <th>Precision</th>\n      <th>Recall</th>\n      <th>F1-Score</th>\n    </tr>\n  </thead>\n  <tbody>\n    <tr>\n      <th>0</th>\n      <td>Logistic Regression</td>\n      <td>0.937192</td>\n      <td>0.929134</td>\n      <td>0.936508</td>\n      <td>0.932806</td>\n    </tr>\n    <tr>\n      <th>1</th>\n      <td>Support Vector Machine (Linear Kernel)</td>\n      <td>0.938424</td>\n      <td>0.929319</td>\n      <td>0.939153</td>\n      <td>0.934211</td>\n    </tr>\n    <tr>\n      <th>2</th>\n      <td>Support Vector Machine (RBF Kernel)</td>\n      <td>0.926108</td>\n      <td>0.918421</td>\n      <td>0.923280</td>\n      <td>0.920844</td>\n    </tr>\n    <tr>\n      <th>3</th>\n      <td>Decission Tree</td>\n      <td>0.876847</td>\n      <td>0.867725</td>\n      <td>0.867725</td>\n      <td>0.867725</td>\n    </tr>\n    <tr>\n      <th>4</th>\n      <td>Adaboost</td>\n      <td>0.945813</td>\n      <td>0.941799</td>\n      <td>0.941799</td>\n      <td>0.941799</td>\n    </tr>\n    <tr>\n      <th>5</th>\n      <td>Random Forest</td>\n      <td>0.933498</td>\n      <td>0.940217</td>\n      <td>0.915344</td>\n      <td>0.927614</td>\n    </tr>\n    <tr>\n      <th>6</th>\n      <td>Gradient Boosting Classifier</td>\n      <td>0.947044</td>\n      <td>0.939633</td>\n      <td>0.947090</td>\n      <td>0.943347</td>\n    </tr>\n  </tbody>\n</table>\n</div>"
     },
     "metadata": {},
     "execution_count": 78
    }
   ],
   "source": [
    "scores"
   ]
  }
 ],
 "metadata": {
  "kernelspec": {
   "name": "python380jvsc74a57bd0c23d76e2db843e0f747ff48312a954c7457626ae9cc0ad47025b64e4be0ddf11",
   "display_name": "Python 3.8.0 64-bit"
  },
  "language_info": {
   "codemirror_mode": {
    "name": "ipython",
    "version": 3
   },
   "file_extension": ".py",
   "mimetype": "text/x-python",
   "name": "python",
   "nbconvert_exporter": "python",
   "pygments_lexer": "ipython3",
   "version": "3.8.0"
  }
 },
 "nbformat": 4,
 "nbformat_minor": 2
}