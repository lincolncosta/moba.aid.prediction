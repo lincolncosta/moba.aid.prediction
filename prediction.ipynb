{
 "cells": [
  {
   "cell_type": "code",
   "execution_count": 1,
   "metadata": {},
   "outputs": [],
   "source": [
    "import pandas as pd\n",
    "import numpy as np\n",
    "from datetime import datetime\n",
    "\n",
    "from sklearn.model_selection import train_test_split, GridSearchCV, StratifiedKFold\n",
    "from sklearn.preprocessing import StandardScaler\n",
    "from sklearn.feature_selection import SelectKBest,f_classif\n",
    "from sklearn.metrics import accuracy_score, precision_score,recall_score,f1_score"
   ]
  },
  {
   "cell_type": "code",
   "execution_count": 3,
   "metadata": {},
   "outputs": [
    {
     "output_type": "execute_result",
     "data": {
      "text/plain": [
       "                       game  blueTop  blueTopGP  blueTopWR  blueTopKDA  \\\n",
       "0     ESPORTSTMNT03/1632489       82          8       0.50         2.9   \n",
       "1     ESPORTSTMNT03/1632500       79         14       0.36         2.6   \n",
       "2     ESPORTSTMNT03/1632502       79         14       0.36         2.6   \n",
       "3                 6909-9183       43          2       0.00         0.9   \n",
       "4                 6909-9184       24         16       0.56         2.8   \n",
       "...                     ...      ...        ...        ...         ...   \n",
       "3674  ESPORTSTMNT02/1720376      122          5       0.40         3.0   \n",
       "3675  ESPORTSTMNT02/1720377       79          3       0.00         0.6   \n",
       "3676  ESPORTSTMNT02/1720384      150         10       0.50         2.8   \n",
       "3677  ESPORTSTMNT02/1720392      517          1       0.00         1.3   \n",
       "3678  ESPORTSTMNT01/1895691      150          4       0.50         5.1   \n",
       "\n",
       "      blueJungle  blueJungleGP  blueJungleWR  blueJungleKDA  blueMid  ...  \\\n",
       "0            104            27          0.85            5.9      142  ...   \n",
       "1            104            63          0.63            5.1       68  ...   \n",
       "2            104            63          0.63            5.1      142  ...   \n",
       "3             80             5          0.60            3.9      134  ...   \n",
       "4            120            11          0.55            3.6       61  ...   \n",
       "...          ...           ...           ...            ...      ...  ...   \n",
       "3674          77            11          0.73            4.1      112  ...   \n",
       "3675         421             1          0.00            1.4      134  ...   \n",
       "3676          77             9          0.56            2.4      112  ...   \n",
       "3677         120             4          0.00            1.9      134  ...   \n",
       "3678         120             2          0.50            4.0       61  ...   \n",
       "\n",
       "      redMidKDA  redAdc  redAdcGP  redAdcWR  redAdcKDA  redSupport  \\\n",
       "0           3.6      81        21      0.57        4.3          89   \n",
       "1           4.9      21        10      0.70        5.3           3   \n",
       "2           4.4      21        10      0.70        5.3           3   \n",
       "3           5.2     145        43      0.60        6.3           3   \n",
       "4           5.2     145        43      0.60        6.3          57   \n",
       "...         ...     ...       ...       ...        ...         ...   \n",
       "3674        4.1     236         3      1.00       18.5          12   \n",
       "3675        0.0     498        15      0.67        6.5         412   \n",
       "3676        2.4     523         6      0.33        4.1          79   \n",
       "3677        2.8      18        11      0.64        4.3          12   \n",
       "3678        1.2     145         7      0.14        2.7          12   \n",
       "\n",
       "      redSupportGP  redSupportWR  redSupportKDA  result  \n",
       "0               10          0.60            2.5       0  \n",
       "1               11          0.55            2.8       1  \n",
       "2               11          0.55            2.8       1  \n",
       "3                4          0.75            4.5       1  \n",
       "4                2          0.50            1.4       1  \n",
       "...            ...           ...            ...     ...  \n",
       "3674            17          0.59            3.9       1  \n",
       "3675            14          0.57            3.2       1  \n",
       "3676             2          0.50            3.2       0  \n",
       "3677            24          0.63            2.8       1  \n",
       "3678             4          0.50            2.5       0  \n",
       "\n",
       "[3679 rows x 42 columns]"
      ],
      "text/html": "<div>\n<style scoped>\n    .dataframe tbody tr th:only-of-type {\n        vertical-align: middle;\n    }\n\n    .dataframe tbody tr th {\n        vertical-align: top;\n    }\n\n    .dataframe thead th {\n        text-align: right;\n    }\n</style>\n<table border=\"1\" class=\"dataframe\">\n  <thead>\n    <tr style=\"text-align: right;\">\n      <th></th>\n      <th>game</th>\n      <th>blueTop</th>\n      <th>blueTopGP</th>\n      <th>blueTopWR</th>\n      <th>blueTopKDA</th>\n      <th>blueJungle</th>\n      <th>blueJungleGP</th>\n      <th>blueJungleWR</th>\n      <th>blueJungleKDA</th>\n      <th>blueMid</th>\n      <th>...</th>\n      <th>redMidKDA</th>\n      <th>redAdc</th>\n      <th>redAdcGP</th>\n      <th>redAdcWR</th>\n      <th>redAdcKDA</th>\n      <th>redSupport</th>\n      <th>redSupportGP</th>\n      <th>redSupportWR</th>\n      <th>redSupportKDA</th>\n      <th>result</th>\n    </tr>\n  </thead>\n  <tbody>\n    <tr>\n      <th>0</th>\n      <td>ESPORTSTMNT03/1632489</td>\n      <td>82</td>\n      <td>8</td>\n      <td>0.50</td>\n      <td>2.9</td>\n      <td>104</td>\n      <td>27</td>\n      <td>0.85</td>\n      <td>5.9</td>\n      <td>142</td>\n      <td>...</td>\n      <td>3.6</td>\n      <td>81</td>\n      <td>21</td>\n      <td>0.57</td>\n      <td>4.3</td>\n      <td>89</td>\n      <td>10</td>\n      <td>0.60</td>\n      <td>2.5</td>\n      <td>0</td>\n    </tr>\n    <tr>\n      <th>1</th>\n      <td>ESPORTSTMNT03/1632500</td>\n      <td>79</td>\n      <td>14</td>\n      <td>0.36</td>\n      <td>2.6</td>\n      <td>104</td>\n      <td>63</td>\n      <td>0.63</td>\n      <td>5.1</td>\n      <td>68</td>\n      <td>...</td>\n      <td>4.9</td>\n      <td>21</td>\n      <td>10</td>\n      <td>0.70</td>\n      <td>5.3</td>\n      <td>3</td>\n      <td>11</td>\n      <td>0.55</td>\n      <td>2.8</td>\n      <td>1</td>\n    </tr>\n    <tr>\n      <th>2</th>\n      <td>ESPORTSTMNT03/1632502</td>\n      <td>79</td>\n      <td>14</td>\n      <td>0.36</td>\n      <td>2.6</td>\n      <td>104</td>\n      <td>63</td>\n      <td>0.63</td>\n      <td>5.1</td>\n      <td>142</td>\n      <td>...</td>\n      <td>4.4</td>\n      <td>21</td>\n      <td>10</td>\n      <td>0.70</td>\n      <td>5.3</td>\n      <td>3</td>\n      <td>11</td>\n      <td>0.55</td>\n      <td>2.8</td>\n      <td>1</td>\n    </tr>\n    <tr>\n      <th>3</th>\n      <td>6909-9183</td>\n      <td>43</td>\n      <td>2</td>\n      <td>0.00</td>\n      <td>0.9</td>\n      <td>80</td>\n      <td>5</td>\n      <td>0.60</td>\n      <td>3.9</td>\n      <td>134</td>\n      <td>...</td>\n      <td>5.2</td>\n      <td>145</td>\n      <td>43</td>\n      <td>0.60</td>\n      <td>6.3</td>\n      <td>3</td>\n      <td>4</td>\n      <td>0.75</td>\n      <td>4.5</td>\n      <td>1</td>\n    </tr>\n    <tr>\n      <th>4</th>\n      <td>6909-9184</td>\n      <td>24</td>\n      <td>16</td>\n      <td>0.56</td>\n      <td>2.8</td>\n      <td>120</td>\n      <td>11</td>\n      <td>0.55</td>\n      <td>3.6</td>\n      <td>61</td>\n      <td>...</td>\n      <td>5.2</td>\n      <td>145</td>\n      <td>43</td>\n      <td>0.60</td>\n      <td>6.3</td>\n      <td>57</td>\n      <td>2</td>\n      <td>0.50</td>\n      <td>1.4</td>\n      <td>1</td>\n    </tr>\n    <tr>\n      <th>...</th>\n      <td>...</td>\n      <td>...</td>\n      <td>...</td>\n      <td>...</td>\n      <td>...</td>\n      <td>...</td>\n      <td>...</td>\n      <td>...</td>\n      <td>...</td>\n      <td>...</td>\n      <td>...</td>\n      <td>...</td>\n      <td>...</td>\n      <td>...</td>\n      <td>...</td>\n      <td>...</td>\n      <td>...</td>\n      <td>...</td>\n      <td>...</td>\n      <td>...</td>\n      <td>...</td>\n    </tr>\n    <tr>\n      <th>3674</th>\n      <td>ESPORTSTMNT02/1720376</td>\n      <td>122</td>\n      <td>5</td>\n      <td>0.40</td>\n      <td>3.0</td>\n      <td>77</td>\n      <td>11</td>\n      <td>0.73</td>\n      <td>4.1</td>\n      <td>112</td>\n      <td>...</td>\n      <td>4.1</td>\n      <td>236</td>\n      <td>3</td>\n      <td>1.00</td>\n      <td>18.5</td>\n      <td>12</td>\n      <td>17</td>\n      <td>0.59</td>\n      <td>3.9</td>\n      <td>1</td>\n    </tr>\n    <tr>\n      <th>3675</th>\n      <td>ESPORTSTMNT02/1720377</td>\n      <td>79</td>\n      <td>3</td>\n      <td>0.00</td>\n      <td>0.6</td>\n      <td>421</td>\n      <td>1</td>\n      <td>0.00</td>\n      <td>1.4</td>\n      <td>134</td>\n      <td>...</td>\n      <td>0.0</td>\n      <td>498</td>\n      <td>15</td>\n      <td>0.67</td>\n      <td>6.5</td>\n      <td>412</td>\n      <td>14</td>\n      <td>0.57</td>\n      <td>3.2</td>\n      <td>1</td>\n    </tr>\n    <tr>\n      <th>3676</th>\n      <td>ESPORTSTMNT02/1720384</td>\n      <td>150</td>\n      <td>10</td>\n      <td>0.50</td>\n      <td>2.8</td>\n      <td>77</td>\n      <td>9</td>\n      <td>0.56</td>\n      <td>2.4</td>\n      <td>112</td>\n      <td>...</td>\n      <td>2.4</td>\n      <td>523</td>\n      <td>6</td>\n      <td>0.33</td>\n      <td>4.1</td>\n      <td>79</td>\n      <td>2</td>\n      <td>0.50</td>\n      <td>3.2</td>\n      <td>0</td>\n    </tr>\n    <tr>\n      <th>3677</th>\n      <td>ESPORTSTMNT02/1720392</td>\n      <td>517</td>\n      <td>1</td>\n      <td>0.00</td>\n      <td>1.3</td>\n      <td>120</td>\n      <td>4</td>\n      <td>0.00</td>\n      <td>1.9</td>\n      <td>134</td>\n      <td>...</td>\n      <td>2.8</td>\n      <td>18</td>\n      <td>11</td>\n      <td>0.64</td>\n      <td>4.3</td>\n      <td>12</td>\n      <td>24</td>\n      <td>0.63</td>\n      <td>2.8</td>\n      <td>1</td>\n    </tr>\n    <tr>\n      <th>3678</th>\n      <td>ESPORTSTMNT01/1895691</td>\n      <td>150</td>\n      <td>4</td>\n      <td>0.50</td>\n      <td>5.1</td>\n      <td>120</td>\n      <td>2</td>\n      <td>0.50</td>\n      <td>4.0</td>\n      <td>61</td>\n      <td>...</td>\n      <td>1.2</td>\n      <td>145</td>\n      <td>7</td>\n      <td>0.14</td>\n      <td>2.7</td>\n      <td>12</td>\n      <td>4</td>\n      <td>0.50</td>\n      <td>2.5</td>\n      <td>0</td>\n    </tr>\n  </tbody>\n</table>\n<p>3679 rows × 42 columns</p>\n</div>"
     },
     "metadata": {},
     "execution_count": 3
    }
   ],
   "source": [
    "df = pd.read_csv('outputs/dataset_20210523.csv')\n",
    "df_champions = pd.read_csv('data/dataset_champions.csv')\n",
    "df"
   ]
  },
  {
   "cell_type": "code",
   "execution_count": 15,
   "metadata": {},
   "outputs": [
    {
     "output_type": "execute_result",
     "data": {
      "text/plain": [
       "      blueTopGP  blueTopWR  blueTopKDA  blueJungleGP  blueJungleWR  \\\n",
       "0             8       0.50         2.9            27          0.85   \n",
       "1            14       0.36         2.6            63          0.63   \n",
       "2            14       0.36         2.6            63          0.63   \n",
       "3             2       0.00         0.9             5          0.60   \n",
       "4            16       0.56         2.8            11          0.55   \n",
       "...         ...        ...         ...           ...           ...   \n",
       "3674          5       0.40         3.0            11          0.73   \n",
       "3675          3       0.00         0.6             1          0.00   \n",
       "3676         10       0.50         2.8             9          0.56   \n",
       "3677          1       0.00         1.3             4          0.00   \n",
       "3678          4       0.50         5.1             2          0.50   \n",
       "\n",
       "      blueJungleKDA  blueMidGP  blueMidWR  blueMidKDA  blueADCGP  ...  \\\n",
       "0               5.9         59       0.76        10.7         10  ...   \n",
       "1               5.1          1       0.00         1.0         20  ...   \n",
       "2               5.1          5       0.40         2.9          2  ...   \n",
       "3               3.9         36       0.75         6.2          5  ...   \n",
       "4               3.6         50       0.64         6.1          5  ...   \n",
       "...             ...        ...        ...         ...        ...  ...   \n",
       "3674            4.1          0       0.00         0.0          8  ...   \n",
       "3675            1.4         12       0.50         4.1         26  ...   \n",
       "3676            2.4         15       0.67         3.6         21  ...   \n",
       "3677            1.9          3       0.00         1.5          7  ...   \n",
       "3678            4.0          2       0.50         4.1         10  ...   \n",
       "\n",
       "      redJungleKDA  redMidGP  redMidWR  redMidKDA  redAdcGP  redAdcWR  \\\n",
       "0              4.3        13      0.46        3.6        21      0.57   \n",
       "1              4.1        55      0.69        4.9        10      0.70   \n",
       "2              6.4         3      0.67        4.4        10      0.70   \n",
       "3              3.0         6      0.67        5.2        43      0.60   \n",
       "4              2.9         6      0.67        5.2        43      0.60   \n",
       "...            ...       ...       ...        ...       ...       ...   \n",
       "3674          10.3        12      0.50        4.1         3      1.00   \n",
       "3675           4.1         0      0.00        0.0        15      0.67   \n",
       "3676           3.3        12      0.42        2.4         6      0.33   \n",
       "3677           4.9        38      0.32        2.8        11      0.64   \n",
       "3678           5.8         1      0.00        1.2         7      0.14   \n",
       "\n",
       "      redAdcKDA  redSupportGP  redSupportWR  redSupportKDA  \n",
       "0           4.3            10          0.60            2.5  \n",
       "1           5.3            11          0.55            2.8  \n",
       "2           5.3            11          0.55            2.8  \n",
       "3           6.3             4          0.75            4.5  \n",
       "4           6.3             2          0.50            1.4  \n",
       "...         ...           ...           ...            ...  \n",
       "3674       18.5            17          0.59            3.9  \n",
       "3675        6.5            14          0.57            3.2  \n",
       "3676        4.1             2          0.50            3.2  \n",
       "3677        4.3            24          0.63            2.8  \n",
       "3678        2.7             4          0.50            2.5  \n",
       "\n",
       "[3679 rows x 30 columns]"
      ],
      "text/html": "<div>\n<style scoped>\n    .dataframe tbody tr th:only-of-type {\n        vertical-align: middle;\n    }\n\n    .dataframe tbody tr th {\n        vertical-align: top;\n    }\n\n    .dataframe thead th {\n        text-align: right;\n    }\n</style>\n<table border=\"1\" class=\"dataframe\">\n  <thead>\n    <tr style=\"text-align: right;\">\n      <th></th>\n      <th>blueTopGP</th>\n      <th>blueTopWR</th>\n      <th>blueTopKDA</th>\n      <th>blueJungleGP</th>\n      <th>blueJungleWR</th>\n      <th>blueJungleKDA</th>\n      <th>blueMidGP</th>\n      <th>blueMidWR</th>\n      <th>blueMidKDA</th>\n      <th>blueADCGP</th>\n      <th>...</th>\n      <th>redJungleKDA</th>\n      <th>redMidGP</th>\n      <th>redMidWR</th>\n      <th>redMidKDA</th>\n      <th>redAdcGP</th>\n      <th>redAdcWR</th>\n      <th>redAdcKDA</th>\n      <th>redSupportGP</th>\n      <th>redSupportWR</th>\n      <th>redSupportKDA</th>\n    </tr>\n  </thead>\n  <tbody>\n    <tr>\n      <th>0</th>\n      <td>8</td>\n      <td>0.50</td>\n      <td>2.9</td>\n      <td>27</td>\n      <td>0.85</td>\n      <td>5.9</td>\n      <td>59</td>\n      <td>0.76</td>\n      <td>10.7</td>\n      <td>10</td>\n      <td>...</td>\n      <td>4.3</td>\n      <td>13</td>\n      <td>0.46</td>\n      <td>3.6</td>\n      <td>21</td>\n      <td>0.57</td>\n      <td>4.3</td>\n      <td>10</td>\n      <td>0.60</td>\n      <td>2.5</td>\n    </tr>\n    <tr>\n      <th>1</th>\n      <td>14</td>\n      <td>0.36</td>\n      <td>2.6</td>\n      <td>63</td>\n      <td>0.63</td>\n      <td>5.1</td>\n      <td>1</td>\n      <td>0.00</td>\n      <td>1.0</td>\n      <td>20</td>\n      <td>...</td>\n      <td>4.1</td>\n      <td>55</td>\n      <td>0.69</td>\n      <td>4.9</td>\n      <td>10</td>\n      <td>0.70</td>\n      <td>5.3</td>\n      <td>11</td>\n      <td>0.55</td>\n      <td>2.8</td>\n    </tr>\n    <tr>\n      <th>2</th>\n      <td>14</td>\n      <td>0.36</td>\n      <td>2.6</td>\n      <td>63</td>\n      <td>0.63</td>\n      <td>5.1</td>\n      <td>5</td>\n      <td>0.40</td>\n      <td>2.9</td>\n      <td>2</td>\n      <td>...</td>\n      <td>6.4</td>\n      <td>3</td>\n      <td>0.67</td>\n      <td>4.4</td>\n      <td>10</td>\n      <td>0.70</td>\n      <td>5.3</td>\n      <td>11</td>\n      <td>0.55</td>\n      <td>2.8</td>\n    </tr>\n    <tr>\n      <th>3</th>\n      <td>2</td>\n      <td>0.00</td>\n      <td>0.9</td>\n      <td>5</td>\n      <td>0.60</td>\n      <td>3.9</td>\n      <td>36</td>\n      <td>0.75</td>\n      <td>6.2</td>\n      <td>5</td>\n      <td>...</td>\n      <td>3.0</td>\n      <td>6</td>\n      <td>0.67</td>\n      <td>5.2</td>\n      <td>43</td>\n      <td>0.60</td>\n      <td>6.3</td>\n      <td>4</td>\n      <td>0.75</td>\n      <td>4.5</td>\n    </tr>\n    <tr>\n      <th>4</th>\n      <td>16</td>\n      <td>0.56</td>\n      <td>2.8</td>\n      <td>11</td>\n      <td>0.55</td>\n      <td>3.6</td>\n      <td>50</td>\n      <td>0.64</td>\n      <td>6.1</td>\n      <td>5</td>\n      <td>...</td>\n      <td>2.9</td>\n      <td>6</td>\n      <td>0.67</td>\n      <td>5.2</td>\n      <td>43</td>\n      <td>0.60</td>\n      <td>6.3</td>\n      <td>2</td>\n      <td>0.50</td>\n      <td>1.4</td>\n    </tr>\n    <tr>\n      <th>...</th>\n      <td>...</td>\n      <td>...</td>\n      <td>...</td>\n      <td>...</td>\n      <td>...</td>\n      <td>...</td>\n      <td>...</td>\n      <td>...</td>\n      <td>...</td>\n      <td>...</td>\n      <td>...</td>\n      <td>...</td>\n      <td>...</td>\n      <td>...</td>\n      <td>...</td>\n      <td>...</td>\n      <td>...</td>\n      <td>...</td>\n      <td>...</td>\n      <td>...</td>\n      <td>...</td>\n    </tr>\n    <tr>\n      <th>3674</th>\n      <td>5</td>\n      <td>0.40</td>\n      <td>3.0</td>\n      <td>11</td>\n      <td>0.73</td>\n      <td>4.1</td>\n      <td>0</td>\n      <td>0.00</td>\n      <td>0.0</td>\n      <td>8</td>\n      <td>...</td>\n      <td>10.3</td>\n      <td>12</td>\n      <td>0.50</td>\n      <td>4.1</td>\n      <td>3</td>\n      <td>1.00</td>\n      <td>18.5</td>\n      <td>17</td>\n      <td>0.59</td>\n      <td>3.9</td>\n    </tr>\n    <tr>\n      <th>3675</th>\n      <td>3</td>\n      <td>0.00</td>\n      <td>0.6</td>\n      <td>1</td>\n      <td>0.00</td>\n      <td>1.4</td>\n      <td>12</td>\n      <td>0.50</td>\n      <td>4.1</td>\n      <td>26</td>\n      <td>...</td>\n      <td>4.1</td>\n      <td>0</td>\n      <td>0.00</td>\n      <td>0.0</td>\n      <td>15</td>\n      <td>0.67</td>\n      <td>6.5</td>\n      <td>14</td>\n      <td>0.57</td>\n      <td>3.2</td>\n    </tr>\n    <tr>\n      <th>3676</th>\n      <td>10</td>\n      <td>0.50</td>\n      <td>2.8</td>\n      <td>9</td>\n      <td>0.56</td>\n      <td>2.4</td>\n      <td>15</td>\n      <td>0.67</td>\n      <td>3.6</td>\n      <td>21</td>\n      <td>...</td>\n      <td>3.3</td>\n      <td>12</td>\n      <td>0.42</td>\n      <td>2.4</td>\n      <td>6</td>\n      <td>0.33</td>\n      <td>4.1</td>\n      <td>2</td>\n      <td>0.50</td>\n      <td>3.2</td>\n    </tr>\n    <tr>\n      <th>3677</th>\n      <td>1</td>\n      <td>0.00</td>\n      <td>1.3</td>\n      <td>4</td>\n      <td>0.00</td>\n      <td>1.9</td>\n      <td>3</td>\n      <td>0.00</td>\n      <td>1.5</td>\n      <td>7</td>\n      <td>...</td>\n      <td>4.9</td>\n      <td>38</td>\n      <td>0.32</td>\n      <td>2.8</td>\n      <td>11</td>\n      <td>0.64</td>\n      <td>4.3</td>\n      <td>24</td>\n      <td>0.63</td>\n      <td>2.8</td>\n    </tr>\n    <tr>\n      <th>3678</th>\n      <td>4</td>\n      <td>0.50</td>\n      <td>5.1</td>\n      <td>2</td>\n      <td>0.50</td>\n      <td>4.0</td>\n      <td>2</td>\n      <td>0.50</td>\n      <td>4.1</td>\n      <td>10</td>\n      <td>...</td>\n      <td>5.8</td>\n      <td>1</td>\n      <td>0.00</td>\n      <td>1.2</td>\n      <td>7</td>\n      <td>0.14</td>\n      <td>2.7</td>\n      <td>4</td>\n      <td>0.50</td>\n      <td>2.5</td>\n    </tr>\n  </tbody>\n</table>\n<p>3679 rows × 30 columns</p>\n</div>"
     },
     "metadata": {},
     "execution_count": 15
    }
   ],
   "source": [
    "y = df['result'].copy()\n",
    "X = df.drop(['blueTop', 'blueJungle', 'blueMid', 'blueADC', 'blueSupport', 'redTop', 'redJungle', 'redMid', 'redAdc', 'redSupport', 'result', 'game'],axis=1)\n",
    "X"
   ]
  },
  {
   "cell_type": "code",
   "execution_count": 16,
   "metadata": {},
   "outputs": [],
   "source": [
    "def preprocess_input(X,y):\n",
    "    skf = StratifiedKFold(n_splits=10)\n",
    "    X = X.copy()\n",
    "    X_train,X_test,y_train,y_test = train_test_split(X,y,train_size=0.8,random_state=42, stratify=y)\n",
    "    scaler = StandardScaler()\n",
    "    scaler.fit(X_train)\n",
    "    X_train = scaler.transform(X_train)\n",
    "    X_test = scaler.transform(X_test)\n",
    "    return X_train,X_test,y_train,y_test\n",
    "X_train,X_test,y_train,y_test = preprocess_input(X,y)"
   ]
  },
  {
   "cell_type": "code",
   "execution_count": 17,
   "metadata": {},
   "outputs": [
    {
     "output_type": "stream",
     "name": "stdout",
     "text": [
      "Logistic Regression trained\n",
      "Support Vector Machine (Linear Kernel) trained\n",
      "C:\\Users\\linco\\AppData\\Local\\Programs\\Python\\Python38\\lib\\site-packages\\sklearn\\svm\\_base.py:976: ConvergenceWarning: Liblinear failed to converge, increase the number of iterations.\n",
      "  warnings.warn(\"Liblinear failed to converge, increase \"\n",
      "Support Vector Machine (RBF Kernel) trained\n",
      "Decission Tree trained\n",
      "Adaboost trained\n",
      "Random Forest trained\n",
      "Gradient Boosting Classifier trained\n"
     ]
    }
   ],
   "source": [
    "from sklearn.model_selection import train_test_split\n",
    "from sklearn.model_selection import GridSearchCV\n",
    "from sklearn.preprocessing import StandardScaler\n",
    "\n",
    "from sklearn.linear_model import LogisticRegression\n",
    "from sklearn.svm import LinearSVC, SVC\n",
    "from sklearn.tree import DecisionTreeClassifier\n",
    "from sklearn.ensemble import RandomForestClassifier, GradientBoostingClassifier, AdaBoostClassifier\n",
    "\n",
    "models = {\n",
    "    'Logistic Regression': LogisticRegression(max_iter=1000),\n",
    "    'Support Vector Machine (Linear Kernel)': LinearSVC(),\n",
    "    'Support Vector Machine (RBF Kernel)': SVC(),\n",
    "    'Decission Tree': DecisionTreeClassifier(),\n",
    "    'Adaboost': AdaBoostClassifier(),\n",
    "    'Random Forest': RandomForestClassifier(),\n",
    "    'Gradient Boosting Classifier': GradientBoostingClassifier()\n",
    "}\n",
    "\n",
    "for name, model in models.items():\n",
    "  model.fit(X_train,y_train)\n",
    "  print(name + ' trained')"
   ]
  },
  {
   "cell_type": "code",
   "execution_count": 18,
   "metadata": {},
   "outputs": [],
   "source": [
    "scores_list = []\n",
    "for name,model in models.items():\n",
    "    scores_list.append({\n",
    "    'Model': name,\n",
    "    'Accuracy': accuracy_score(y_test,model.predict(X_test)),\n",
    "    'Precision':  precision_score(y_test,model.predict(X_test)),\n",
    "    'Recall': recall_score(y_test,model.predict(X_test)),\n",
    "    'F1-Score': f1_score(y_test,model.predict(X_test))\n",
    "    })\n",
    "scores = pd.DataFrame(scores_list)"
   ]
  },
  {
   "cell_type": "code",
   "execution_count": 19,
   "metadata": {},
   "outputs": [
    {
     "output_type": "execute_result",
     "data": {
      "text/plain": [
       "                                    Model  Accuracy  Precision    Recall  \\\n",
       "0                     Logistic Regression  0.922554   0.920118  0.912023   \n",
       "1  Support Vector Machine (Linear Kernel)  0.923913   0.920354  0.914956   \n",
       "2     Support Vector Machine (RBF Kernel)  0.927989   0.921053  0.923754   \n",
       "3                          Decission Tree  0.851902   0.853659  0.821114   \n",
       "4                                Adaboost  0.932065   0.924198  0.929619   \n",
       "5                           Random Forest  0.938859   0.948485  0.917889   \n",
       "6            Gradient Boosting Classifier  0.937500   0.945619  0.917889   \n",
       "\n",
       "   F1-Score  \n",
       "0  0.916053  \n",
       "1  0.917647  \n",
       "2  0.922401  \n",
       "3  0.837070  \n",
       "4  0.926901  \n",
       "5  0.932936  \n",
       "6  0.931548  "
      ],
      "text/html": "<div>\n<style scoped>\n    .dataframe tbody tr th:only-of-type {\n        vertical-align: middle;\n    }\n\n    .dataframe tbody tr th {\n        vertical-align: top;\n    }\n\n    .dataframe thead th {\n        text-align: right;\n    }\n</style>\n<table border=\"1\" class=\"dataframe\">\n  <thead>\n    <tr style=\"text-align: right;\">\n      <th></th>\n      <th>Model</th>\n      <th>Accuracy</th>\n      <th>Precision</th>\n      <th>Recall</th>\n      <th>F1-Score</th>\n    </tr>\n  </thead>\n  <tbody>\n    <tr>\n      <th>0</th>\n      <td>Logistic Regression</td>\n      <td>0.922554</td>\n      <td>0.920118</td>\n      <td>0.912023</td>\n      <td>0.916053</td>\n    </tr>\n    <tr>\n      <th>1</th>\n      <td>Support Vector Machine (Linear Kernel)</td>\n      <td>0.923913</td>\n      <td>0.920354</td>\n      <td>0.914956</td>\n      <td>0.917647</td>\n    </tr>\n    <tr>\n      <th>2</th>\n      <td>Support Vector Machine (RBF Kernel)</td>\n      <td>0.927989</td>\n      <td>0.921053</td>\n      <td>0.923754</td>\n      <td>0.922401</td>\n    </tr>\n    <tr>\n      <th>3</th>\n      <td>Decission Tree</td>\n      <td>0.851902</td>\n      <td>0.853659</td>\n      <td>0.821114</td>\n      <td>0.837070</td>\n    </tr>\n    <tr>\n      <th>4</th>\n      <td>Adaboost</td>\n      <td>0.932065</td>\n      <td>0.924198</td>\n      <td>0.929619</td>\n      <td>0.926901</td>\n    </tr>\n    <tr>\n      <th>5</th>\n      <td>Random Forest</td>\n      <td>0.938859</td>\n      <td>0.948485</td>\n      <td>0.917889</td>\n      <td>0.932936</td>\n    </tr>\n    <tr>\n      <th>6</th>\n      <td>Gradient Boosting Classifier</td>\n      <td>0.937500</td>\n      <td>0.945619</td>\n      <td>0.917889</td>\n      <td>0.931548</td>\n    </tr>\n  </tbody>\n</table>\n</div>"
     },
     "metadata": {},
     "execution_count": 19
    }
   ],
   "source": [
    "scores"
   ]
  }
 ],
 "metadata": {
  "kernelspec": {
   "name": "python380jvsc74a57bd0c23d76e2db843e0f747ff48312a954c7457626ae9cc0ad47025b64e4be0ddf11",
   "display_name": "Python 3.8.0 64-bit"
  },
  "language_info": {
   "codemirror_mode": {
    "name": "ipython",
    "version": 3
   },
   "file_extension": ".py",
   "mimetype": "text/x-python",
   "name": "python",
   "nbconvert_exporter": "python",
   "pygments_lexer": "ipython3",
   "version": "3.8.0"
  }
 },
 "nbformat": 4,
 "nbformat_minor": 2
}