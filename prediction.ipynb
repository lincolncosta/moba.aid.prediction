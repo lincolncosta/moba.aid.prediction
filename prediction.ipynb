{
 "cells": [
  {
   "cell_type": "code",
   "execution_count": null,
   "metadata": {},
   "outputs": [],
   "source": [
    "import pandas as pd\n",
    "import numpy as np\n",
    "from datetime import datetime\n",
    "\n",
    "from sklearn.model_selection import train_test_split, GridSearchCV\n",
    "from sklearn.preprocessing import StandardScaler\n",
    "from sklearn.feature_selection import SelectKBest,f_classif\n",
    "from sklearn.metrics import accuracy_score, precision_score,recall_score,f1_score"
   ]
  },
  {
   "cell_type": "code",
   "execution_count": null,
   "metadata": {},
   "outputs": [],
   "source": [
    "df = pd.read_csv('data/dataset_20210515.csv')\n",
    "df_champions = pd.read_csv('data/dataset-champions.csv')\n",
    "df"
   ]
  },
  {
   "cell_type": "code",
   "execution_count": null,
   "metadata": {},
   "outputs": [],
   "source": [
    "y = df['result'].copy()\n",
    "X = df.drop('result',axis=1)\n",
    "X"
   ]
  },
  {
   "cell_type": "code",
   "execution_count": null,
   "metadata": {
    "tags": []
   },
   "outputs": [],
   "source": [
    "best_features_list = ['bluetop','bluetopgp','bluetopwr','bluetopkda','bluejungle','bluejunglegp','bluejunglewr','bluejunglekda','bluemid','bluemidgp','bluemidwr','bluemidkda','blueadc','blueadcgp','blueadcwr','blueadckda','bluesupport','bluesupportgp','bluesupportwr','bluesupportkda','redtop','redtopgp','redtopwr','redtopkda','redjungle','redjunglegp','redjunglewr','redjunglekda','redmid','redmidgp','redmidwr','redmidkda','redadc','redadcgp','redadcwr','redadckda','redsupport','redsupportgp','redsupportwr','redsupportkda']\n",
    "new_X = X[best_features_list]\n",
    "\n",
    "new_X['bluetopwr'] = new_X['bluetopwr'].str.rstrip('%').astype('float') / 100.0 if isinstance(new_X['bluetopwr'], str) else 0\n",
    "new_X['bluejunglewr'] = new_X['bluejunglewr'].str.rstrip('%').astype('float') / 100.0 if isinstance(new_X['bluejunglewr'], str) else 0\n",
    "new_X['bluemidwr'] = new_X['bluemidwr'].str.rstrip('%').astype('float') / 100.0 if isinstance(new_X['bluemidwr'], str) else 0\n",
    "new_X['blueadcwr'] = new_X['blueadcwr'].str.rstrip('%').astype('float') / 100.0 if isinstance(new_X['blueadcwr'], str) else 0\n",
    "new_X['bluesupportwr'] = new_X['bluesupportwr'].str.rstrip('%').astype('float') / 100.0 if isinstance(new_X['bluesupportwr'], str) else 0\n",
    "\n",
    "new_X['redtopwr'] = new_X['redtopwr'].str.rstrip('%').astype('float') / 100.0 if isinstance(new_X['redtopwr'], str) else 0\n",
    "new_X['redjunglewr'] = new_X['redjunglewr'].str.rstrip('%').astype('float') / 100.0 if isinstance(new_X['redjunglewr'], str) else 0\n",
    "new_X['redmidwr'] = new_X['redmidwr'].str.rstrip('%').astype('float') / 100.0 if isinstance(new_X['redmidwr'], str) else 0\n",
    "new_X['redadcwr'] = new_X['redadcwr'].str.rstrip('%').astype('float') / 100.0 if isinstance(new_X['redadcwr'], str) else 0\n",
    "new_X['redsupportwr'] = new_X['redsupportwr'].str.rstrip('%').astype('float') / 100.0 if isinstance(new_X['redsupportwr'], str) else 0\n",
    "\n",
    "for index, row in new_X.iterrows():\n",
    "    new_X.loc[index, 'bluetop'] = int(df_champions.loc[df_champions['id'] == row['bluetop']]['key'])    \n",
    "    new_X.loc[index, 'bluejungle'] = int(df_champions.loc[df_champions['id'] == row['bluejungle']]['key'])\n",
    "    new_X.loc[index, 'bluemid'] = int(df_champions.loc[df_champions['id'] == row['bluemid']]['key'])    \n",
    "    new_X.loc[index, 'blueadc'] = int(df_champions.loc[df_champions['id'] == row['blueadc']]['key'])\n",
    "    new_X.loc[index, 'bluesupport'] = int(df_champions.loc[df_champions['id'] == row['bluesupport']]['key'])\n",
    "\n",
    "    new_X.loc[index, 'redtop'] = int(df_champions.loc[df_champions['id'] == row['redtop']]['key'])\n",
    "    new_X.loc[index, 'redjungle'] = int(df_champions.loc[df_champions['id'] == row['redjungle']]['key'])\n",
    "    new_X.loc[index, 'redmid'] = int(df_champions.loc[df_champions['id'] == row['redmid']]['key'])\n",
    "    new_X.loc[index, 'redadc'] = int(df_champions.loc[df_champions['id'] == row['redadc']]['key'])\n",
    "    new_X.loc[index, 'redsupport'] = int(df_champions.loc[df_champions['id'] == row['redsupport']]['key'])\n",
    "\n",
    "\n",
    "# blue_team = new_X[['bluetop','bluejungle', 'bluemid', 'blueadc', 'bluesupport']].values\n",
    "# red_team = new_X[['redtop', 'redjungle', 'redmid', 'redadc', 'redsupport']].values\n",
    "new_X"
   ]
  },
  {
   "cell_type": "code",
   "execution_count": null,
   "metadata": {},
   "outputs": [],
   "source": [
    "def preprocess_input(X,y):\n",
    "    X = X.copy()\n",
    "    X_train,X_test,y_train,y_test = train_test_split(X,y,train_size=0.8,random_state=42)\n",
    "    scaler = StandardScaler()\n",
    "    scaler.fit(X_train)\n",
    "    X_train = scaler.transform(X_train)\n",
    "    X_test = scaler.transform(X_test)\n",
    "    return X_train,X_test,y_train,y_test\n",
    "X_train,X_test,y_train,y_test = preprocess_input(new_X,y)"
   ]
  },
  {
   "cell_type": "code",
   "execution_count": null,
   "metadata": {},
   "outputs": [],
   "source": [
    "from sklearn.model_selection import train_test_split\n",
    "from sklearn.model_selection import GridSearchCV\n",
    "from sklearn.preprocessing import StandardScaler\n",
    "\n",
    "from sklearn.linear_model import LogisticRegression\n",
    "from sklearn.svm import LinearSVC, SVC\n",
    "from sklearn.tree import DecisionTreeClassifier\n",
    "from sklearn.ensemble import RandomForestClassifier, GradientBoostingClassifier, AdaBoostClassifier\n",
    "\n",
    "models = {\n",
    "    'Logistic Regression': LogisticRegression(max_iter=1000),\n",
    "    'Support Vector Machine (Linear Kernel)': LinearSVC(),\n",
    "    'Support Vector Machine (RBF Kernel)': SVC(),\n",
    "    'Decission Tree': DecisionTreeClassifier(),\n",
    "    'Adaboost': AdaBoostClassifier(),\n",
    "    'Random Forest': RandomForestClassifier(),\n",
    "    'Gradient Boosting Classifier': GradientBoostingClassifier()\n",
    "}\n",
    "\n",
    "for name, model in models.items():\n",
    "  model.fit(X_train,y_train)\n",
    "  print(name + ' trained')"
   ]
  },
  {
   "cell_type": "code",
   "execution_count": null,
   "metadata": {},
   "outputs": [],
   "source": [
    "scores_list = []\n",
    "for name,model in models.items():\n",
    "    scores_list.append({\n",
    "    'Model': name,\n",
    "    'Accuracy': accuracy_score(y_test,model.predict(X_test)),\n",
    "    'Precision':  precision_score(y_test,model.predict(X_test)),\n",
    "    'Recall': recall_score(y_test,model.predict(X_test)),\n",
    "    'F1-Score': f1_score(y_test,model.predict(X_test))\n",
    "    })\n",
    "scores = pd.DataFrame(scores_list)"
   ]
  },
  {
   "cell_type": "code",
   "execution_count": null,
   "metadata": {},
   "outputs": [],
   "source": [
    "scores"
   ]
  }
 ],
 "metadata": {
  "kernelspec": {
   "name": "python3",
   "display_name": "Python 3.8.0 64-bit"
  },
  "language_info": {
   "codemirror_mode": {
    "name": "ipython",
    "version": 3
   },
   "file_extension": ".py",
   "mimetype": "text/x-python",
   "name": "python",
   "nbconvert_exporter": "python",
   "pygments_lexer": "ipython3",
   "version": "3.8.0"
  }
 },
 "nbformat": 4,
 "nbformat_minor": 2
}