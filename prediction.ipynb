{
 "cells": [
  {
   "cell_type": "code",
   "execution_count": 1,
   "metadata": {},
   "outputs": [],
   "source": [
    "import pandas as pd\n",
    "import numpy as np\n",
    "from datetime import datetime\n",
    "\n",
    "from sklearn.model_selection import train_test_split, GridSearchCV\n",
    "from sklearn.preprocessing import StandardScaler\n",
    "from sklearn.feature_selection import SelectKBest,f_classif\n",
    "from sklearn.metrics import accuracy_score, precision_score,recall_score,f1_score"
   ]
  },
  {
   "cell_type": "code",
   "execution_count": 2,
   "metadata": {},
   "outputs": [
    {
     "output_type": "execute_result",
     "data": {
      "text/plain": [
       "                       game      bluetop  bluetopgp bluetopwr  bluetopkda  \\\n",
       "0     ESPORTSTMNT03/1632489  Mordekaiser          8       50%         2.9   \n",
       "1     ESPORTSTMNT03/1632500       Gragas         14       36%         2.6   \n",
       "2     ESPORTSTMNT03/1632502       Gragas         14       36%         2.6   \n",
       "3                 6909-9183        Karma          2        0%         0.9   \n",
       "4                 6909-9184          Jax         16       56%         2.8   \n",
       "...                     ...          ...        ...       ...         ...   \n",
       "2357  ESPORTSTMNT01/1895874         Ornn         32       63%         3.0   \n",
       "2358  ESPORTSTMNT01/1886169         Lulu          2       50%         3.2   \n",
       "2359  ESPORTSTMNT01/1895880         Sion         10       80%         8.3   \n",
       "2360  ESPORTSTMNT01/1886180         Gnar         17       59%         3.7   \n",
       "2361  ESPORTSTMNT01/1895899    Gangplank          4       25%         2.1   \n",
       "\n",
       "     bluejungle  bluejunglegp bluejunglewr  bluejunglekda  bluemid  ...  \\\n",
       "0        Graves            27          85%            5.9      Zoe  ...   \n",
       "1        Graves            63          63%            5.1   Rumble  ...   \n",
       "2        Graves            63          63%            5.1      Zoe  ...   \n",
       "3      Pantheon             5          60%            3.9   Syndra  ...   \n",
       "4       Hecarim            11          55%            3.6  Orianna  ...   \n",
       "...         ...           ...          ...            ...      ...  ...   \n",
       "2357  Dr. Mundo             2          50%            3.6   Lucian  ...   \n",
       "2358       Olaf            10          70%            4.6  Orianna  ...   \n",
       "2359       Olaf            10          40%            2.5    Corki  ...   \n",
       "2360    Hecarim             6          33%            4.5   Zilean  ...   \n",
       "2361     Lillia             0            0            0.0     Azir  ...   \n",
       "\n",
       "      redmidkda        redadc  redadcgp redadcwr  redadckda redsupport  \\\n",
       "0           3.6        Ezreal        21      57%        4.3      Leona   \n",
       "1           5.0  Miss Fortune        10      70%        5.3      Galio   \n",
       "2           3.8  Miss Fortune        10      70%        5.3      Galio   \n",
       "3           5.2        Kai'Sa        43      60%        6.3      Galio   \n",
       "4           5.2        Kai'Sa        43      60%        6.3     Maokai   \n",
       "...         ...           ...       ...      ...        ...        ...   \n",
       "2357        8.2         Vayne         2      50%        6.8       Lulu   \n",
       "2358        3.1      Tristana         2       0%        2.0       Rell   \n",
       "2359        5.1        Kai'Sa        10      60%        3.2       Bard   \n",
       "2360        2.6      Aphelios         2      50%        2.1       Rell   \n",
       "2361        3.3         Xayah        21      29%        3.2      Rakan   \n",
       "\n",
       "      redsupportgp redsupportwr  redsupportkda result  \n",
       "0               10          60%            2.5      0  \n",
       "1               11          55%            2.8      1  \n",
       "2               11          55%            2.8      1  \n",
       "3                4          75%            4.5      1  \n",
       "4                2          50%            1.4      1  \n",
       "...            ...          ...            ...    ...  \n",
       "2357             1           0%            5.0      0  \n",
       "2358             4          50%            3.0      0  \n",
       "2359             3          67%            4.0      0  \n",
       "2360             7          14%            1.2      0  \n",
       "2361             2          50%            2.6      1  \n",
       "\n",
       "[2362 rows x 42 columns]"
      ],
      "text/html": "<div>\n<style scoped>\n    .dataframe tbody tr th:only-of-type {\n        vertical-align: middle;\n    }\n\n    .dataframe tbody tr th {\n        vertical-align: top;\n    }\n\n    .dataframe thead th {\n        text-align: right;\n    }\n</style>\n<table border=\"1\" class=\"dataframe\">\n  <thead>\n    <tr style=\"text-align: right;\">\n      <th></th>\n      <th>game</th>\n      <th>bluetop</th>\n      <th>bluetopgp</th>\n      <th>bluetopwr</th>\n      <th>bluetopkda</th>\n      <th>bluejungle</th>\n      <th>bluejunglegp</th>\n      <th>bluejunglewr</th>\n      <th>bluejunglekda</th>\n      <th>bluemid</th>\n      <th>...</th>\n      <th>redmidkda</th>\n      <th>redadc</th>\n      <th>redadcgp</th>\n      <th>redadcwr</th>\n      <th>redadckda</th>\n      <th>redsupport</th>\n      <th>redsupportgp</th>\n      <th>redsupportwr</th>\n      <th>redsupportkda</th>\n      <th>result</th>\n    </tr>\n  </thead>\n  <tbody>\n    <tr>\n      <th>0</th>\n      <td>ESPORTSTMNT03/1632489</td>\n      <td>Mordekaiser</td>\n      <td>8</td>\n      <td>50%</td>\n      <td>2.9</td>\n      <td>Graves</td>\n      <td>27</td>\n      <td>85%</td>\n      <td>5.9</td>\n      <td>Zoe</td>\n      <td>...</td>\n      <td>3.6</td>\n      <td>Ezreal</td>\n      <td>21</td>\n      <td>57%</td>\n      <td>4.3</td>\n      <td>Leona</td>\n      <td>10</td>\n      <td>60%</td>\n      <td>2.5</td>\n      <td>0</td>\n    </tr>\n    <tr>\n      <th>1</th>\n      <td>ESPORTSTMNT03/1632500</td>\n      <td>Gragas</td>\n      <td>14</td>\n      <td>36%</td>\n      <td>2.6</td>\n      <td>Graves</td>\n      <td>63</td>\n      <td>63%</td>\n      <td>5.1</td>\n      <td>Rumble</td>\n      <td>...</td>\n      <td>5.0</td>\n      <td>Miss Fortune</td>\n      <td>10</td>\n      <td>70%</td>\n      <td>5.3</td>\n      <td>Galio</td>\n      <td>11</td>\n      <td>55%</td>\n      <td>2.8</td>\n      <td>1</td>\n    </tr>\n    <tr>\n      <th>2</th>\n      <td>ESPORTSTMNT03/1632502</td>\n      <td>Gragas</td>\n      <td>14</td>\n      <td>36%</td>\n      <td>2.6</td>\n      <td>Graves</td>\n      <td>63</td>\n      <td>63%</td>\n      <td>5.1</td>\n      <td>Zoe</td>\n      <td>...</td>\n      <td>3.8</td>\n      <td>Miss Fortune</td>\n      <td>10</td>\n      <td>70%</td>\n      <td>5.3</td>\n      <td>Galio</td>\n      <td>11</td>\n      <td>55%</td>\n      <td>2.8</td>\n      <td>1</td>\n    </tr>\n    <tr>\n      <th>3</th>\n      <td>6909-9183</td>\n      <td>Karma</td>\n      <td>2</td>\n      <td>0%</td>\n      <td>0.9</td>\n      <td>Pantheon</td>\n      <td>5</td>\n      <td>60%</td>\n      <td>3.9</td>\n      <td>Syndra</td>\n      <td>...</td>\n      <td>5.2</td>\n      <td>Kai'Sa</td>\n      <td>43</td>\n      <td>60%</td>\n      <td>6.3</td>\n      <td>Galio</td>\n      <td>4</td>\n      <td>75%</td>\n      <td>4.5</td>\n      <td>1</td>\n    </tr>\n    <tr>\n      <th>4</th>\n      <td>6909-9184</td>\n      <td>Jax</td>\n      <td>16</td>\n      <td>56%</td>\n      <td>2.8</td>\n      <td>Hecarim</td>\n      <td>11</td>\n      <td>55%</td>\n      <td>3.6</td>\n      <td>Orianna</td>\n      <td>...</td>\n      <td>5.2</td>\n      <td>Kai'Sa</td>\n      <td>43</td>\n      <td>60%</td>\n      <td>6.3</td>\n      <td>Maokai</td>\n      <td>2</td>\n      <td>50%</td>\n      <td>1.4</td>\n      <td>1</td>\n    </tr>\n    <tr>\n      <th>...</th>\n      <td>...</td>\n      <td>...</td>\n      <td>...</td>\n      <td>...</td>\n      <td>...</td>\n      <td>...</td>\n      <td>...</td>\n      <td>...</td>\n      <td>...</td>\n      <td>...</td>\n      <td>...</td>\n      <td>...</td>\n      <td>...</td>\n      <td>...</td>\n      <td>...</td>\n      <td>...</td>\n      <td>...</td>\n      <td>...</td>\n      <td>...</td>\n      <td>...</td>\n      <td>...</td>\n    </tr>\n    <tr>\n      <th>2357</th>\n      <td>ESPORTSTMNT01/1895874</td>\n      <td>Ornn</td>\n      <td>32</td>\n      <td>63%</td>\n      <td>3.0</td>\n      <td>Dr. Mundo</td>\n      <td>2</td>\n      <td>50%</td>\n      <td>3.6</td>\n      <td>Lucian</td>\n      <td>...</td>\n      <td>8.2</td>\n      <td>Vayne</td>\n      <td>2</td>\n      <td>50%</td>\n      <td>6.8</td>\n      <td>Lulu</td>\n      <td>1</td>\n      <td>0%</td>\n      <td>5.0</td>\n      <td>0</td>\n    </tr>\n    <tr>\n      <th>2358</th>\n      <td>ESPORTSTMNT01/1886169</td>\n      <td>Lulu</td>\n      <td>2</td>\n      <td>50%</td>\n      <td>3.2</td>\n      <td>Olaf</td>\n      <td>10</td>\n      <td>70%</td>\n      <td>4.6</td>\n      <td>Orianna</td>\n      <td>...</td>\n      <td>3.1</td>\n      <td>Tristana</td>\n      <td>2</td>\n      <td>0%</td>\n      <td>2.0</td>\n      <td>Rell</td>\n      <td>4</td>\n      <td>50%</td>\n      <td>3.0</td>\n      <td>0</td>\n    </tr>\n    <tr>\n      <th>2359</th>\n      <td>ESPORTSTMNT01/1895880</td>\n      <td>Sion</td>\n      <td>10</td>\n      <td>80%</td>\n      <td>8.3</td>\n      <td>Olaf</td>\n      <td>10</td>\n      <td>40%</td>\n      <td>2.5</td>\n      <td>Corki</td>\n      <td>...</td>\n      <td>5.1</td>\n      <td>Kai'Sa</td>\n      <td>10</td>\n      <td>60%</td>\n      <td>3.2</td>\n      <td>Bard</td>\n      <td>3</td>\n      <td>67%</td>\n      <td>4.0</td>\n      <td>0</td>\n    </tr>\n    <tr>\n      <th>2360</th>\n      <td>ESPORTSTMNT01/1886180</td>\n      <td>Gnar</td>\n      <td>17</td>\n      <td>59%</td>\n      <td>3.7</td>\n      <td>Hecarim</td>\n      <td>6</td>\n      <td>33%</td>\n      <td>4.5</td>\n      <td>Zilean</td>\n      <td>...</td>\n      <td>2.6</td>\n      <td>Aphelios</td>\n      <td>2</td>\n      <td>50%</td>\n      <td>2.1</td>\n      <td>Rell</td>\n      <td>7</td>\n      <td>14%</td>\n      <td>1.2</td>\n      <td>0</td>\n    </tr>\n    <tr>\n      <th>2361</th>\n      <td>ESPORTSTMNT01/1895899</td>\n      <td>Gangplank</td>\n      <td>4</td>\n      <td>25%</td>\n      <td>2.1</td>\n      <td>Lillia</td>\n      <td>0</td>\n      <td>0</td>\n      <td>0.0</td>\n      <td>Azir</td>\n      <td>...</td>\n      <td>3.3</td>\n      <td>Xayah</td>\n      <td>21</td>\n      <td>29%</td>\n      <td>3.2</td>\n      <td>Rakan</td>\n      <td>2</td>\n      <td>50%</td>\n      <td>2.6</td>\n      <td>1</td>\n    </tr>\n  </tbody>\n</table>\n<p>2362 rows × 42 columns</p>\n</div>"
     },
     "metadata": {},
     "execution_count": 2
    }
   ],
   "source": [
    "df = pd.read_csv('data/dataset_20210515.csv')\n",
    "df_champions = pd.read_csv('data/dataset-champions.csv')\n",
    "df"
   ]
  },
  {
   "cell_type": "code",
   "execution_count": 3,
   "metadata": {},
   "outputs": [
    {
     "output_type": "execute_result",
     "data": {
      "text/plain": [
       "                       game      bluetop  bluetopgp bluetopwr  bluetopkda  \\\n",
       "0     ESPORTSTMNT03/1632489  Mordekaiser          8       50%         2.9   \n",
       "1     ESPORTSTMNT03/1632500       Gragas         14       36%         2.6   \n",
       "2     ESPORTSTMNT03/1632502       Gragas         14       36%         2.6   \n",
       "3                 6909-9183        Karma          2        0%         0.9   \n",
       "4                 6909-9184          Jax         16       56%         2.8   \n",
       "...                     ...          ...        ...       ...         ...   \n",
       "2357  ESPORTSTMNT01/1895874         Ornn         32       63%         3.0   \n",
       "2358  ESPORTSTMNT01/1886169         Lulu          2       50%         3.2   \n",
       "2359  ESPORTSTMNT01/1895880         Sion         10       80%         8.3   \n",
       "2360  ESPORTSTMNT01/1886180         Gnar         17       59%         3.7   \n",
       "2361  ESPORTSTMNT01/1895899    Gangplank          4       25%         2.1   \n",
       "\n",
       "     bluejungle  bluejunglegp bluejunglewr  bluejunglekda  bluemid  ...  \\\n",
       "0        Graves            27          85%            5.9      Zoe  ...   \n",
       "1        Graves            63          63%            5.1   Rumble  ...   \n",
       "2        Graves            63          63%            5.1      Zoe  ...   \n",
       "3      Pantheon             5          60%            3.9   Syndra  ...   \n",
       "4       Hecarim            11          55%            3.6  Orianna  ...   \n",
       "...         ...           ...          ...            ...      ...  ...   \n",
       "2357  Dr. Mundo             2          50%            3.6   Lucian  ...   \n",
       "2358       Olaf            10          70%            4.6  Orianna  ...   \n",
       "2359       Olaf            10          40%            2.5    Corki  ...   \n",
       "2360    Hecarim             6          33%            4.5   Zilean  ...   \n",
       "2361     Lillia             0            0            0.0     Azir  ...   \n",
       "\n",
       "      redmidwr redmidkda        redadc redadcgp  redadcwr redadckda  \\\n",
       "0          46%       3.6        Ezreal       21       57%       4.3   \n",
       "1          70%       5.0  Miss Fortune       10       70%       5.3   \n",
       "2          50%       3.8  Miss Fortune       10       70%       5.3   \n",
       "3          67%       5.2        Kai'Sa       43       60%       6.3   \n",
       "4          67%       5.2        Kai'Sa       43       60%       6.3   \n",
       "...        ...       ...           ...      ...       ...       ...   \n",
       "2357       63%       8.2         Vayne        2       50%       6.8   \n",
       "2358       29%       3.1      Tristana        2        0%       2.0   \n",
       "2359       55%       5.1        Kai'Sa       10       60%       3.2   \n",
       "2360       50%       2.6      Aphelios        2       50%       2.1   \n",
       "2361       50%       3.3         Xayah       21       29%       3.2   \n",
       "\n",
       "      redsupport redsupportgp  redsupportwr redsupportkda  \n",
       "0          Leona           10           60%           2.5  \n",
       "1          Galio           11           55%           2.8  \n",
       "2          Galio           11           55%           2.8  \n",
       "3          Galio            4           75%           4.5  \n",
       "4         Maokai            2           50%           1.4  \n",
       "...          ...          ...           ...           ...  \n",
       "2357        Lulu            1            0%           5.0  \n",
       "2358        Rell            4           50%           3.0  \n",
       "2359        Bard            3           67%           4.0  \n",
       "2360        Rell            7           14%           1.2  \n",
       "2361       Rakan            2           50%           2.6  \n",
       "\n",
       "[2362 rows x 41 columns]"
      ],
      "text/html": "<div>\n<style scoped>\n    .dataframe tbody tr th:only-of-type {\n        vertical-align: middle;\n    }\n\n    .dataframe tbody tr th {\n        vertical-align: top;\n    }\n\n    .dataframe thead th {\n        text-align: right;\n    }\n</style>\n<table border=\"1\" class=\"dataframe\">\n  <thead>\n    <tr style=\"text-align: right;\">\n      <th></th>\n      <th>game</th>\n      <th>bluetop</th>\n      <th>bluetopgp</th>\n      <th>bluetopwr</th>\n      <th>bluetopkda</th>\n      <th>bluejungle</th>\n      <th>bluejunglegp</th>\n      <th>bluejunglewr</th>\n      <th>bluejunglekda</th>\n      <th>bluemid</th>\n      <th>...</th>\n      <th>redmidwr</th>\n      <th>redmidkda</th>\n      <th>redadc</th>\n      <th>redadcgp</th>\n      <th>redadcwr</th>\n      <th>redadckda</th>\n      <th>redsupport</th>\n      <th>redsupportgp</th>\n      <th>redsupportwr</th>\n      <th>redsupportkda</th>\n    </tr>\n  </thead>\n  <tbody>\n    <tr>\n      <th>0</th>\n      <td>ESPORTSTMNT03/1632489</td>\n      <td>Mordekaiser</td>\n      <td>8</td>\n      <td>50%</td>\n      <td>2.9</td>\n      <td>Graves</td>\n      <td>27</td>\n      <td>85%</td>\n      <td>5.9</td>\n      <td>Zoe</td>\n      <td>...</td>\n      <td>46%</td>\n      <td>3.6</td>\n      <td>Ezreal</td>\n      <td>21</td>\n      <td>57%</td>\n      <td>4.3</td>\n      <td>Leona</td>\n      <td>10</td>\n      <td>60%</td>\n      <td>2.5</td>\n    </tr>\n    <tr>\n      <th>1</th>\n      <td>ESPORTSTMNT03/1632500</td>\n      <td>Gragas</td>\n      <td>14</td>\n      <td>36%</td>\n      <td>2.6</td>\n      <td>Graves</td>\n      <td>63</td>\n      <td>63%</td>\n      <td>5.1</td>\n      <td>Rumble</td>\n      <td>...</td>\n      <td>70%</td>\n      <td>5.0</td>\n      <td>Miss Fortune</td>\n      <td>10</td>\n      <td>70%</td>\n      <td>5.3</td>\n      <td>Galio</td>\n      <td>11</td>\n      <td>55%</td>\n      <td>2.8</td>\n    </tr>\n    <tr>\n      <th>2</th>\n      <td>ESPORTSTMNT03/1632502</td>\n      <td>Gragas</td>\n      <td>14</td>\n      <td>36%</td>\n      <td>2.6</td>\n      <td>Graves</td>\n      <td>63</td>\n      <td>63%</td>\n      <td>5.1</td>\n      <td>Zoe</td>\n      <td>...</td>\n      <td>50%</td>\n      <td>3.8</td>\n      <td>Miss Fortune</td>\n      <td>10</td>\n      <td>70%</td>\n      <td>5.3</td>\n      <td>Galio</td>\n      <td>11</td>\n      <td>55%</td>\n      <td>2.8</td>\n    </tr>\n    <tr>\n      <th>3</th>\n      <td>6909-9183</td>\n      <td>Karma</td>\n      <td>2</td>\n      <td>0%</td>\n      <td>0.9</td>\n      <td>Pantheon</td>\n      <td>5</td>\n      <td>60%</td>\n      <td>3.9</td>\n      <td>Syndra</td>\n      <td>...</td>\n      <td>67%</td>\n      <td>5.2</td>\n      <td>Kai'Sa</td>\n      <td>43</td>\n      <td>60%</td>\n      <td>6.3</td>\n      <td>Galio</td>\n      <td>4</td>\n      <td>75%</td>\n      <td>4.5</td>\n    </tr>\n    <tr>\n      <th>4</th>\n      <td>6909-9184</td>\n      <td>Jax</td>\n      <td>16</td>\n      <td>56%</td>\n      <td>2.8</td>\n      <td>Hecarim</td>\n      <td>11</td>\n      <td>55%</td>\n      <td>3.6</td>\n      <td>Orianna</td>\n      <td>...</td>\n      <td>67%</td>\n      <td>5.2</td>\n      <td>Kai'Sa</td>\n      <td>43</td>\n      <td>60%</td>\n      <td>6.3</td>\n      <td>Maokai</td>\n      <td>2</td>\n      <td>50%</td>\n      <td>1.4</td>\n    </tr>\n    <tr>\n      <th>...</th>\n      <td>...</td>\n      <td>...</td>\n      <td>...</td>\n      <td>...</td>\n      <td>...</td>\n      <td>...</td>\n      <td>...</td>\n      <td>...</td>\n      <td>...</td>\n      <td>...</td>\n      <td>...</td>\n      <td>...</td>\n      <td>...</td>\n      <td>...</td>\n      <td>...</td>\n      <td>...</td>\n      <td>...</td>\n      <td>...</td>\n      <td>...</td>\n      <td>...</td>\n      <td>...</td>\n    </tr>\n    <tr>\n      <th>2357</th>\n      <td>ESPORTSTMNT01/1895874</td>\n      <td>Ornn</td>\n      <td>32</td>\n      <td>63%</td>\n      <td>3.0</td>\n      <td>Dr. Mundo</td>\n      <td>2</td>\n      <td>50%</td>\n      <td>3.6</td>\n      <td>Lucian</td>\n      <td>...</td>\n      <td>63%</td>\n      <td>8.2</td>\n      <td>Vayne</td>\n      <td>2</td>\n      <td>50%</td>\n      <td>6.8</td>\n      <td>Lulu</td>\n      <td>1</td>\n      <td>0%</td>\n      <td>5.0</td>\n    </tr>\n    <tr>\n      <th>2358</th>\n      <td>ESPORTSTMNT01/1886169</td>\n      <td>Lulu</td>\n      <td>2</td>\n      <td>50%</td>\n      <td>3.2</td>\n      <td>Olaf</td>\n      <td>10</td>\n      <td>70%</td>\n      <td>4.6</td>\n      <td>Orianna</td>\n      <td>...</td>\n      <td>29%</td>\n      <td>3.1</td>\n      <td>Tristana</td>\n      <td>2</td>\n      <td>0%</td>\n      <td>2.0</td>\n      <td>Rell</td>\n      <td>4</td>\n      <td>50%</td>\n      <td>3.0</td>\n    </tr>\n    <tr>\n      <th>2359</th>\n      <td>ESPORTSTMNT01/1895880</td>\n      <td>Sion</td>\n      <td>10</td>\n      <td>80%</td>\n      <td>8.3</td>\n      <td>Olaf</td>\n      <td>10</td>\n      <td>40%</td>\n      <td>2.5</td>\n      <td>Corki</td>\n      <td>...</td>\n      <td>55%</td>\n      <td>5.1</td>\n      <td>Kai'Sa</td>\n      <td>10</td>\n      <td>60%</td>\n      <td>3.2</td>\n      <td>Bard</td>\n      <td>3</td>\n      <td>67%</td>\n      <td>4.0</td>\n    </tr>\n    <tr>\n      <th>2360</th>\n      <td>ESPORTSTMNT01/1886180</td>\n      <td>Gnar</td>\n      <td>17</td>\n      <td>59%</td>\n      <td>3.7</td>\n      <td>Hecarim</td>\n      <td>6</td>\n      <td>33%</td>\n      <td>4.5</td>\n      <td>Zilean</td>\n      <td>...</td>\n      <td>50%</td>\n      <td>2.6</td>\n      <td>Aphelios</td>\n      <td>2</td>\n      <td>50%</td>\n      <td>2.1</td>\n      <td>Rell</td>\n      <td>7</td>\n      <td>14%</td>\n      <td>1.2</td>\n    </tr>\n    <tr>\n      <th>2361</th>\n      <td>ESPORTSTMNT01/1895899</td>\n      <td>Gangplank</td>\n      <td>4</td>\n      <td>25%</td>\n      <td>2.1</td>\n      <td>Lillia</td>\n      <td>0</td>\n      <td>0</td>\n      <td>0.0</td>\n      <td>Azir</td>\n      <td>...</td>\n      <td>50%</td>\n      <td>3.3</td>\n      <td>Xayah</td>\n      <td>21</td>\n      <td>29%</td>\n      <td>3.2</td>\n      <td>Rakan</td>\n      <td>2</td>\n      <td>50%</td>\n      <td>2.6</td>\n    </tr>\n  </tbody>\n</table>\n<p>2362 rows × 41 columns</p>\n</div>"
     },
     "metadata": {},
     "execution_count": 3
    }
   ],
   "source": [
    "y = df['result'].copy()\n",
    "X = df.drop('result',axis=1)\n",
    "X"
   ]
  },
  {
   "cell_type": "code",
   "execution_count": 4,
   "metadata": {
    "tags": []
   },
   "outputs": [
    {
     "output_type": "stream",
     "name": "stderr",
     "text": [
      "<ipython-input-4-1cad4ef12b29>:4: SettingWithCopyWarning: \nA value is trying to be set on a copy of a slice from a DataFrame.\nTry using .loc[row_indexer,col_indexer] = value instead\n\nSee the caveats in the documentation: https://pandas.pydata.org/pandas-docs/stable/user_guide/indexing.html#returning-a-view-versus-a-copy\n  new_X['bluetopwr'] = new_X['bluetopwr'].str.rstrip('%').astype('float') / 100.0 if isinstance(new_X['bluetopwr'], str) else 0\n<ipython-input-4-1cad4ef12b29>:5: SettingWithCopyWarning: \nA value is trying to be set on a copy of a slice from a DataFrame.\nTry using .loc[row_indexer,col_indexer] = value instead\n\nSee the caveats in the documentation: https://pandas.pydata.org/pandas-docs/stable/user_guide/indexing.html#returning-a-view-versus-a-copy\n  new_X['bluejunglewr'] = new_X['bluejunglewr'].str.rstrip('%').astype('float') / 100.0 if isinstance(new_X['bluejunglewr'], str) else 0\n<ipython-input-4-1cad4ef12b29>:6: SettingWithCopyWarning: \nA value is trying to be set on a copy of a slice from a DataFrame.\nTry using .loc[row_indexer,col_indexer] = value instead\n\nSee the caveats in the documentation: https://pandas.pydata.org/pandas-docs/stable/user_guide/indexing.html#returning-a-view-versus-a-copy\n  new_X['bluemidwr'] = new_X['bluemidwr'].str.rstrip('%').astype('float') / 100.0 if isinstance(new_X['bluemidwr'], str) else 0\n<ipython-input-4-1cad4ef12b29>:7: SettingWithCopyWarning: \nA value is trying to be set on a copy of a slice from a DataFrame.\nTry using .loc[row_indexer,col_indexer] = value instead\n\nSee the caveats in the documentation: https://pandas.pydata.org/pandas-docs/stable/user_guide/indexing.html#returning-a-view-versus-a-copy\n  new_X['blueadcwr'] = new_X['blueadcwr'].str.rstrip('%').astype('float') / 100.0 if isinstance(new_X['blueadcwr'], str) else 0\n<ipython-input-4-1cad4ef12b29>:8: SettingWithCopyWarning: \nA value is trying to be set on a copy of a slice from a DataFrame.\nTry using .loc[row_indexer,col_indexer] = value instead\n\nSee the caveats in the documentation: https://pandas.pydata.org/pandas-docs/stable/user_guide/indexing.html#returning-a-view-versus-a-copy\n  new_X['bluesupportwr'] = new_X['bluesupportwr'].str.rstrip('%').astype('float') / 100.0 if isinstance(new_X['bluesupportwr'], str) else 0\n<ipython-input-4-1cad4ef12b29>:10: SettingWithCopyWarning: \nA value is trying to be set on a copy of a slice from a DataFrame.\nTry using .loc[row_indexer,col_indexer] = value instead\n\nSee the caveats in the documentation: https://pandas.pydata.org/pandas-docs/stable/user_guide/indexing.html#returning-a-view-versus-a-copy\n  new_X['redtopwr'] = new_X['redtopwr'].str.rstrip('%').astype('float') / 100.0 if isinstance(new_X['redtopwr'], str) else 0\n<ipython-input-4-1cad4ef12b29>:11: SettingWithCopyWarning: \nA value is trying to be set on a copy of a slice from a DataFrame.\nTry using .loc[row_indexer,col_indexer] = value instead\n\nSee the caveats in the documentation: https://pandas.pydata.org/pandas-docs/stable/user_guide/indexing.html#returning-a-view-versus-a-copy\n  new_X['redjunglewr'] = new_X['redjunglewr'].str.rstrip('%').astype('float') / 100.0 if isinstance(new_X['redjunglewr'], str) else 0\n<ipython-input-4-1cad4ef12b29>:12: SettingWithCopyWarning: \nA value is trying to be set on a copy of a slice from a DataFrame.\nTry using .loc[row_indexer,col_indexer] = value instead\n\nSee the caveats in the documentation: https://pandas.pydata.org/pandas-docs/stable/user_guide/indexing.html#returning-a-view-versus-a-copy\n  new_X['redmidwr'] = new_X['redmidwr'].str.rstrip('%').astype('float') / 100.0 if isinstance(new_X['redmidwr'], str) else 0\n<ipython-input-4-1cad4ef12b29>:13: SettingWithCopyWarning: \nA value is trying to be set on a copy of a slice from a DataFrame.\nTry using .loc[row_indexer,col_indexer] = value instead\n\nSee the caveats in the documentation: https://pandas.pydata.org/pandas-docs/stable/user_guide/indexing.html#returning-a-view-versus-a-copy\n  new_X['redadcwr'] = new_X['redadcwr'].str.rstrip('%').astype('float') / 100.0 if isinstance(new_X['redadcwr'], str) else 0\n<ipython-input-4-1cad4ef12b29>:14: SettingWithCopyWarning: \nA value is trying to be set on a copy of a slice from a DataFrame.\nTry using .loc[row_indexer,col_indexer] = value instead\n\nSee the caveats in the documentation: https://pandas.pydata.org/pandas-docs/stable/user_guide/indexing.html#returning-a-view-versus-a-copy\n  new_X['redsupportwr'] = new_X['redsupportwr'].str.rstrip('%').astype('float') / 100.0 if isinstance(new_X['redsupportwr'], str) else 0\nC:\\Users\\linco\\AppData\\Local\\Programs\\Python\\Python38\\lib\\site-packages\\pandas\\core\\indexing.py:1765: SettingWithCopyWarning: \nA value is trying to be set on a copy of a slice from a DataFrame.\nTry using .loc[row_indexer,col_indexer] = value instead\n\nSee the caveats in the documentation: https://pandas.pydata.org/pandas-docs/stable/user_guide/indexing.html#returning-a-view-versus-a-copy\n  isetter(loc, value)\n"
     ]
    },
    {
     "output_type": "execute_result",
     "data": {
      "text/plain": [
       "     bluetop  bluetopgp  bluetopwr  bluetopkda bluejungle  bluejunglegp  \\\n",
       "0         82          8          0         2.9        104            27   \n",
       "1         79         14          0         2.6        104            63   \n",
       "2         79         14          0         2.6        104            63   \n",
       "3         43          2          0         0.9         80             5   \n",
       "4         24         16          0         2.8        120            11   \n",
       "...      ...        ...        ...         ...        ...           ...   \n",
       "2357     516         32          0         3.0         36             2   \n",
       "2358     117          2          0         3.2          2            10   \n",
       "2359      14         10          0         8.3          2            10   \n",
       "2360     150         17          0         3.7        120             6   \n",
       "2361      41          4          0         2.1        876             0   \n",
       "\n",
       "      bluejunglewr  bluejunglekda bluemid  bluemidgp  ...  redmidwr  \\\n",
       "0                0            5.9     142         54  ...         0   \n",
       "1                0            5.1      68          1  ...         0   \n",
       "2                0            5.1     142          4  ...         0   \n",
       "3                0            3.9     134         36  ...         0   \n",
       "4                0            3.6      61         50  ...         0   \n",
       "...            ...            ...     ...        ...  ...       ...   \n",
       "2357             0            3.6     236          8  ...         0   \n",
       "2358             0            4.6      61         18  ...         0   \n",
       "2359             0            2.5      42         14  ...         0   \n",
       "2360             0            4.5      26          6  ...         0   \n",
       "2361             0            0.0     268          4  ...         0   \n",
       "\n",
       "      redmidkda redadc  redadcgp  redadcwr  redadckda redsupport  \\\n",
       "0           3.6     81        21         0        4.3         89   \n",
       "1           5.0     21        10         0        5.3          3   \n",
       "2           3.8     21        10         0        5.3          3   \n",
       "3           5.2    145        43         0        6.3          3   \n",
       "4           5.2    145        43         0        6.3         57   \n",
       "...         ...    ...       ...       ...        ...        ...   \n",
       "2357        8.2     67         2         0        6.8        117   \n",
       "2358        3.1     18         2         0        2.0         71   \n",
       "2359        5.1    145        10         0        3.2        432   \n",
       "2360        2.6    523         2         0        2.1         71   \n",
       "2361        3.3    498        21         0        3.2        497   \n",
       "\n",
       "      redsupportgp  redsupportwr  redsupportkda  \n",
       "0               10             0            2.5  \n",
       "1               11             0            2.8  \n",
       "2               11             0            2.8  \n",
       "3                4             0            4.5  \n",
       "4                2             0            1.4  \n",
       "...            ...           ...            ...  \n",
       "2357             1             0            5.0  \n",
       "2358             4             0            3.0  \n",
       "2359             3             0            4.0  \n",
       "2360             7             0            1.2  \n",
       "2361             2             0            2.6  \n",
       "\n",
       "[2362 rows x 40 columns]"
      ],
      "text/html": "<div>\n<style scoped>\n    .dataframe tbody tr th:only-of-type {\n        vertical-align: middle;\n    }\n\n    .dataframe tbody tr th {\n        vertical-align: top;\n    }\n\n    .dataframe thead th {\n        text-align: right;\n    }\n</style>\n<table border=\"1\" class=\"dataframe\">\n  <thead>\n    <tr style=\"text-align: right;\">\n      <th></th>\n      <th>bluetop</th>\n      <th>bluetopgp</th>\n      <th>bluetopwr</th>\n      <th>bluetopkda</th>\n      <th>bluejungle</th>\n      <th>bluejunglegp</th>\n      <th>bluejunglewr</th>\n      <th>bluejunglekda</th>\n      <th>bluemid</th>\n      <th>bluemidgp</th>\n      <th>...</th>\n      <th>redmidwr</th>\n      <th>redmidkda</th>\n      <th>redadc</th>\n      <th>redadcgp</th>\n      <th>redadcwr</th>\n      <th>redadckda</th>\n      <th>redsupport</th>\n      <th>redsupportgp</th>\n      <th>redsupportwr</th>\n      <th>redsupportkda</th>\n    </tr>\n  </thead>\n  <tbody>\n    <tr>\n      <th>0</th>\n      <td>82</td>\n      <td>8</td>\n      <td>0</td>\n      <td>2.9</td>\n      <td>104</td>\n      <td>27</td>\n      <td>0</td>\n      <td>5.9</td>\n      <td>142</td>\n      <td>54</td>\n      <td>...</td>\n      <td>0</td>\n      <td>3.6</td>\n      <td>81</td>\n      <td>21</td>\n      <td>0</td>\n      <td>4.3</td>\n      <td>89</td>\n      <td>10</td>\n      <td>0</td>\n      <td>2.5</td>\n    </tr>\n    <tr>\n      <th>1</th>\n      <td>79</td>\n      <td>14</td>\n      <td>0</td>\n      <td>2.6</td>\n      <td>104</td>\n      <td>63</td>\n      <td>0</td>\n      <td>5.1</td>\n      <td>68</td>\n      <td>1</td>\n      <td>...</td>\n      <td>0</td>\n      <td>5.0</td>\n      <td>21</td>\n      <td>10</td>\n      <td>0</td>\n      <td>5.3</td>\n      <td>3</td>\n      <td>11</td>\n      <td>0</td>\n      <td>2.8</td>\n    </tr>\n    <tr>\n      <th>2</th>\n      <td>79</td>\n      <td>14</td>\n      <td>0</td>\n      <td>2.6</td>\n      <td>104</td>\n      <td>63</td>\n      <td>0</td>\n      <td>5.1</td>\n      <td>142</td>\n      <td>4</td>\n      <td>...</td>\n      <td>0</td>\n      <td>3.8</td>\n      <td>21</td>\n      <td>10</td>\n      <td>0</td>\n      <td>5.3</td>\n      <td>3</td>\n      <td>11</td>\n      <td>0</td>\n      <td>2.8</td>\n    </tr>\n    <tr>\n      <th>3</th>\n      <td>43</td>\n      <td>2</td>\n      <td>0</td>\n      <td>0.9</td>\n      <td>80</td>\n      <td>5</td>\n      <td>0</td>\n      <td>3.9</td>\n      <td>134</td>\n      <td>36</td>\n      <td>...</td>\n      <td>0</td>\n      <td>5.2</td>\n      <td>145</td>\n      <td>43</td>\n      <td>0</td>\n      <td>6.3</td>\n      <td>3</td>\n      <td>4</td>\n      <td>0</td>\n      <td>4.5</td>\n    </tr>\n    <tr>\n      <th>4</th>\n      <td>24</td>\n      <td>16</td>\n      <td>0</td>\n      <td>2.8</td>\n      <td>120</td>\n      <td>11</td>\n      <td>0</td>\n      <td>3.6</td>\n      <td>61</td>\n      <td>50</td>\n      <td>...</td>\n      <td>0</td>\n      <td>5.2</td>\n      <td>145</td>\n      <td>43</td>\n      <td>0</td>\n      <td>6.3</td>\n      <td>57</td>\n      <td>2</td>\n      <td>0</td>\n      <td>1.4</td>\n    </tr>\n    <tr>\n      <th>...</th>\n      <td>...</td>\n      <td>...</td>\n      <td>...</td>\n      <td>...</td>\n      <td>...</td>\n      <td>...</td>\n      <td>...</td>\n      <td>...</td>\n      <td>...</td>\n      <td>...</td>\n      <td>...</td>\n      <td>...</td>\n      <td>...</td>\n      <td>...</td>\n      <td>...</td>\n      <td>...</td>\n      <td>...</td>\n      <td>...</td>\n      <td>...</td>\n      <td>...</td>\n      <td>...</td>\n    </tr>\n    <tr>\n      <th>2357</th>\n      <td>516</td>\n      <td>32</td>\n      <td>0</td>\n      <td>3.0</td>\n      <td>36</td>\n      <td>2</td>\n      <td>0</td>\n      <td>3.6</td>\n      <td>236</td>\n      <td>8</td>\n      <td>...</td>\n      <td>0</td>\n      <td>8.2</td>\n      <td>67</td>\n      <td>2</td>\n      <td>0</td>\n      <td>6.8</td>\n      <td>117</td>\n      <td>1</td>\n      <td>0</td>\n      <td>5.0</td>\n    </tr>\n    <tr>\n      <th>2358</th>\n      <td>117</td>\n      <td>2</td>\n      <td>0</td>\n      <td>3.2</td>\n      <td>2</td>\n      <td>10</td>\n      <td>0</td>\n      <td>4.6</td>\n      <td>61</td>\n      <td>18</td>\n      <td>...</td>\n      <td>0</td>\n      <td>3.1</td>\n      <td>18</td>\n      <td>2</td>\n      <td>0</td>\n      <td>2.0</td>\n      <td>71</td>\n      <td>4</td>\n      <td>0</td>\n      <td>3.0</td>\n    </tr>\n    <tr>\n      <th>2359</th>\n      <td>14</td>\n      <td>10</td>\n      <td>0</td>\n      <td>8.3</td>\n      <td>2</td>\n      <td>10</td>\n      <td>0</td>\n      <td>2.5</td>\n      <td>42</td>\n      <td>14</td>\n      <td>...</td>\n      <td>0</td>\n      <td>5.1</td>\n      <td>145</td>\n      <td>10</td>\n      <td>0</td>\n      <td>3.2</td>\n      <td>432</td>\n      <td>3</td>\n      <td>0</td>\n      <td>4.0</td>\n    </tr>\n    <tr>\n      <th>2360</th>\n      <td>150</td>\n      <td>17</td>\n      <td>0</td>\n      <td>3.7</td>\n      <td>120</td>\n      <td>6</td>\n      <td>0</td>\n      <td>4.5</td>\n      <td>26</td>\n      <td>6</td>\n      <td>...</td>\n      <td>0</td>\n      <td>2.6</td>\n      <td>523</td>\n      <td>2</td>\n      <td>0</td>\n      <td>2.1</td>\n      <td>71</td>\n      <td>7</td>\n      <td>0</td>\n      <td>1.2</td>\n    </tr>\n    <tr>\n      <th>2361</th>\n      <td>41</td>\n      <td>4</td>\n      <td>0</td>\n      <td>2.1</td>\n      <td>876</td>\n      <td>0</td>\n      <td>0</td>\n      <td>0.0</td>\n      <td>268</td>\n      <td>4</td>\n      <td>...</td>\n      <td>0</td>\n      <td>3.3</td>\n      <td>498</td>\n      <td>21</td>\n      <td>0</td>\n      <td>3.2</td>\n      <td>497</td>\n      <td>2</td>\n      <td>0</td>\n      <td>2.6</td>\n    </tr>\n  </tbody>\n</table>\n<p>2362 rows × 40 columns</p>\n</div>"
     },
     "metadata": {},
     "execution_count": 4
    }
   ],
   "source": [
    "best_features_list = ['bluetop','bluetopgp','bluetopwr','bluetopkda','bluejungle','bluejunglegp','bluejunglewr','bluejunglekda','bluemid','bluemidgp','bluemidwr','bluemidkda','blueadc','blueadcgp','blueadcwr','blueadckda','bluesupport','bluesupportgp','bluesupportwr','bluesupportkda','redtop','redtopgp','redtopwr','redtopkda','redjungle','redjunglegp','redjunglewr','redjunglekda','redmid','redmidgp','redmidwr','redmidkda','redadc','redadcgp','redadcwr','redadckda','redsupport','redsupportgp','redsupportwr','redsupportkda']\n",
    "new_X = X[best_features_list]\n",
    "\n",
    "new_X['bluetopwr'] = new_X['bluetopwr'].str.rstrip('%').astype('float') / 100.0 if isinstance(new_X['bluetopwr'], str) else 0\n",
    "new_X['bluejunglewr'] = new_X['bluejunglewr'].str.rstrip('%').astype('float') / 100.0 if isinstance(new_X['bluejunglewr'], str) else 0\n",
    "new_X['bluemidwr'] = new_X['bluemidwr'].str.rstrip('%').astype('float') / 100.0 if isinstance(new_X['bluemidwr'], str) else 0\n",
    "new_X['blueadcwr'] = new_X['blueadcwr'].str.rstrip('%').astype('float') / 100.0 if isinstance(new_X['blueadcwr'], str) else 0\n",
    "new_X['bluesupportwr'] = new_X['bluesupportwr'].str.rstrip('%').astype('float') / 100.0 if isinstance(new_X['bluesupportwr'], str) else 0\n",
    "\n",
    "new_X['redtopwr'] = new_X['redtopwr'].str.rstrip('%').astype('float') / 100.0 if isinstance(new_X['redtopwr'], str) else 0\n",
    "new_X['redjunglewr'] = new_X['redjunglewr'].str.rstrip('%').astype('float') / 100.0 if isinstance(new_X['redjunglewr'], str) else 0\n",
    "new_X['redmidwr'] = new_X['redmidwr'].str.rstrip('%').astype('float') / 100.0 if isinstance(new_X['redmidwr'], str) else 0\n",
    "new_X['redadcwr'] = new_X['redadcwr'].str.rstrip('%').astype('float') / 100.0 if isinstance(new_X['redadcwr'], str) else 0\n",
    "new_X['redsupportwr'] = new_X['redsupportwr'].str.rstrip('%').astype('float') / 100.0 if isinstance(new_X['redsupportwr'], str) else 0\n",
    "\n",
    "for index, row in new_X.iterrows():\n",
    "    new_X.loc[index, 'bluetop'] = int(df_champions.loc[df_champions['id'] == row['bluetop']]['key'])    \n",
    "    new_X.loc[index, 'bluejungle'] = int(df_champions.loc[df_champions['id'] == row['bluejungle']]['key'])\n",
    "    new_X.loc[index, 'bluemid'] = int(df_champions.loc[df_champions['id'] == row['bluemid']]['key'])    \n",
    "    new_X.loc[index, 'blueadc'] = int(df_champions.loc[df_champions['id'] == row['blueadc']]['key'])\n",
    "    new_X.loc[index, 'bluesupport'] = int(df_champions.loc[df_champions['id'] == row['bluesupport']]['key'])\n",
    "\n",
    "    new_X.loc[index, 'redtop'] = int(df_champions.loc[df_champions['id'] == row['redtop']]['key'])\n",
    "    new_X.loc[index, 'redjungle'] = int(df_champions.loc[df_champions['id'] == row['redjungle']]['key'])\n",
    "    new_X.loc[index, 'redmid'] = int(df_champions.loc[df_champions['id'] == row['redmid']]['key'])\n",
    "    new_X.loc[index, 'redadc'] = int(df_champions.loc[df_champions['id'] == row['redadc']]['key'])\n",
    "    new_X.loc[index, 'redsupport'] = int(df_champions.loc[df_champions['id'] == row['redsupport']]['key'])\n",
    "\n",
    "\n",
    "# blue_team = new_X[['bluetop','bluejungle', 'bluemid', 'blueadc', 'bluesupport']].values\n",
    "# red_team = new_X[['redtop', 'redjungle', 'redmid', 'redadc', 'redsupport']].values\n",
    "new_X"
   ]
  },
  {
   "cell_type": "code",
   "execution_count": 5,
   "metadata": {},
   "outputs": [],
   "source": [
    "def preprocess_input(X,y):\n",
    "    X = X.copy()\n",
    "    X_train,X_test,y_train,y_test = train_test_split(X,y,train_size=0.8,random_state=42)\n",
    "    scaler = StandardScaler()\n",
    "    scaler.fit(X_train)\n",
    "    X_train = scaler.transform(X_train)\n",
    "    X_test = scaler.transform(X_test)\n",
    "    return X_train,X_test,y_train,y_test\n",
    "X_train,X_test,y_train,y_test = preprocess_input(new_X,y)"
   ]
  },
  {
   "cell_type": "code",
   "execution_count": 6,
   "metadata": {},
   "outputs": [
    {
     "output_type": "stream",
     "name": "stdout",
     "text": [
      "Logistic Regression trained\n",
      "Support Vector Machine (Linear Kernel) trained\n",
      "C:\\Users\\linco\\AppData\\Local\\Programs\\Python\\Python38\\lib\\site-packages\\sklearn\\svm\\_base.py:976: ConvergenceWarning: Liblinear failed to converge, increase the number of iterations.\n",
      "  warnings.warn(\"Liblinear failed to converge, increase \"\n",
      "Support Vector Machine (RBF Kernel) trained\n",
      "Decission Tree trained\n",
      "Adaboost trained\n",
      "Random Forest trained\n",
      "Gradient Boosting Classifier trained\n"
     ]
    }
   ],
   "source": [
    "from sklearn.model_selection import train_test_split\n",
    "from sklearn.model_selection import GridSearchCV\n",
    "from sklearn.preprocessing import StandardScaler\n",
    "\n",
    "from sklearn.linear_model import LogisticRegression\n",
    "from sklearn.svm import LinearSVC, SVC\n",
    "from sklearn.tree import DecisionTreeClassifier\n",
    "from sklearn.ensemble import RandomForestClassifier, GradientBoostingClassifier, AdaBoostClassifier\n",
    "\n",
    "models = {\n",
    "    'Logistic Regression': LogisticRegression(max_iter=1000),\n",
    "    'Support Vector Machine (Linear Kernel)': LinearSVC(),\n",
    "    'Support Vector Machine (RBF Kernel)': SVC(),\n",
    "    'Decission Tree': DecisionTreeClassifier(),\n",
    "    'Adaboost': AdaBoostClassifier(),\n",
    "    'Random Forest': RandomForestClassifier(),\n",
    "    'Gradient Boosting Classifier': GradientBoostingClassifier()\n",
    "}\n",
    "\n",
    "for name, model in models.items():\n",
    "  model.fit(X_train,y_train)\n",
    "  print(name + ' trained')"
   ]
  },
  {
   "cell_type": "code",
   "execution_count": 7,
   "metadata": {},
   "outputs": [],
   "source": [
    "scores_list = []\n",
    "for name,model in models.items():\n",
    "    scores_list.append({\n",
    "    'Model': name,\n",
    "    'Accuracy': accuracy_score(y_test,model.predict(X_test)),\n",
    "    'Precision':  precision_score(y_test,model.predict(X_test)),\n",
    "    'Recall': recall_score(y_test,model.predict(X_test)),\n",
    "    'F1-Score': f1_score(y_test,model.predict(X_test))\n",
    "    })\n",
    "scores = pd.DataFrame(scores_list)"
   ]
  },
  {
   "cell_type": "code",
   "execution_count": 8,
   "metadata": {},
   "outputs": [
    {
     "output_type": "execute_result",
     "data": {
      "text/plain": [
       "                                    Model  Accuracy  Precision    Recall  \\\n",
       "0                     Logistic Regression  0.835095   0.806931  0.806931   \n",
       "1  Support Vector Machine (Linear Kernel)  0.830867   0.801980  0.801980   \n",
       "2     Support Vector Machine (RBF Kernel)  0.820296   0.791045  0.787129   \n",
       "3                          Decission Tree  0.718816   0.653333  0.727723   \n",
       "4                                Adaboost  0.820296   0.767123  0.831683   \n",
       "5                           Random Forest  0.835095   0.819588  0.787129   \n",
       "6            Gradient Boosting Classifier  0.835095   0.800971  0.816832   \n",
       "\n",
       "   F1-Score  \n",
       "0  0.806931  \n",
       "1  0.801980  \n",
       "2  0.789082  \n",
       "3  0.688525  \n",
       "4  0.798100  \n",
       "5  0.803030  \n",
       "6  0.808824  "
      ],
      "text/html": "<div>\n<style scoped>\n    .dataframe tbody tr th:only-of-type {\n        vertical-align: middle;\n    }\n\n    .dataframe tbody tr th {\n        vertical-align: top;\n    }\n\n    .dataframe thead th {\n        text-align: right;\n    }\n</style>\n<table border=\"1\" class=\"dataframe\">\n  <thead>\n    <tr style=\"text-align: right;\">\n      <th></th>\n      <th>Model</th>\n      <th>Accuracy</th>\n      <th>Precision</th>\n      <th>Recall</th>\n      <th>F1-Score</th>\n    </tr>\n  </thead>\n  <tbody>\n    <tr>\n      <th>0</th>\n      <td>Logistic Regression</td>\n      <td>0.835095</td>\n      <td>0.806931</td>\n      <td>0.806931</td>\n      <td>0.806931</td>\n    </tr>\n    <tr>\n      <th>1</th>\n      <td>Support Vector Machine (Linear Kernel)</td>\n      <td>0.830867</td>\n      <td>0.801980</td>\n      <td>0.801980</td>\n      <td>0.801980</td>\n    </tr>\n    <tr>\n      <th>2</th>\n      <td>Support Vector Machine (RBF Kernel)</td>\n      <td>0.820296</td>\n      <td>0.791045</td>\n      <td>0.787129</td>\n      <td>0.789082</td>\n    </tr>\n    <tr>\n      <th>3</th>\n      <td>Decission Tree</td>\n      <td>0.718816</td>\n      <td>0.653333</td>\n      <td>0.727723</td>\n      <td>0.688525</td>\n    </tr>\n    <tr>\n      <th>4</th>\n      <td>Adaboost</td>\n      <td>0.820296</td>\n      <td>0.767123</td>\n      <td>0.831683</td>\n      <td>0.798100</td>\n    </tr>\n    <tr>\n      <th>5</th>\n      <td>Random Forest</td>\n      <td>0.835095</td>\n      <td>0.819588</td>\n      <td>0.787129</td>\n      <td>0.803030</td>\n    </tr>\n    <tr>\n      <th>6</th>\n      <td>Gradient Boosting Classifier</td>\n      <td>0.835095</td>\n      <td>0.800971</td>\n      <td>0.816832</td>\n      <td>0.808824</td>\n    </tr>\n  </tbody>\n</table>\n</div>"
     },
     "metadata": {},
     "execution_count": 8
    }
   ],
   "source": [
    "scores"
   ]
  }
 ],
 "metadata": {
  "kernelspec": {
   "name": "python380jvsc74a57bd0c23d76e2db843e0f747ff48312a954c7457626ae9cc0ad47025b64e4be0ddf11",
   "display_name": "Python 3.8.0 64-bit"
  },
  "language_info": {
   "codemirror_mode": {
    "name": "ipython",
    "version": 3
   },
   "file_extension": ".py",
   "mimetype": "text/x-python",
   "name": "python",
   "nbconvert_exporter": "python",
   "pygments_lexer": "ipython3",
   "version": "3.8.0"
  }
 },
 "nbformat": 4,
 "nbformat_minor": 2
}