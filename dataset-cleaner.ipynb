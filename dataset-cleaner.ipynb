{
 "metadata": {
  "language_info": {
   "codemirror_mode": {
    "name": "ipython",
    "version": 3
   },
   "file_extension": ".py",
   "mimetype": "text/x-python",
   "name": "python",
   "nbconvert_exporter": "python",
   "pygments_lexer": "ipython3",
   "version": "3.8.0"
  },
  "orig_nbformat": 2,
  "kernelspec": {
   "name": "python380jvsc74a57bd0c23d76e2db843e0f747ff48312a954c7457626ae9cc0ad47025b64e4be0ddf11",
   "display_name": "Python 3.8.0 64-bit"
  }
 },
 "nbformat": 4,
 "nbformat_minor": 2,
 "cells": [
  {
   "cell_type": "code",
   "execution_count": 65,
   "metadata": {},
   "outputs": [],
   "source": [
    "import pandas as pd\n",
    "\n",
    "import csv\n",
    "import datetime\n",
    "import time\n",
    "\n",
    "from selenium import webdriver\n",
    "from selenium.webdriver.chrome.options import Options\n",
    "from selenium.webdriver.common.by import By\n",
    "from selenium.webdriver.support.ui import WebDriverWait\n",
    "from selenium.webdriver.support import expected_conditions as ec"
   ]
  },
  {
   "cell_type": "code",
   "execution_count": null,
   "metadata": {},
   "outputs": [],
   "source": [
    "chrome_path = r'dependency/chromedriver'\n",
    "chrome_options = Options()\n",
    "chrome_options.add_argument(\"--headless\")\n",
    "driver = webdriver.Chrome(executable_path=chrome_path, options=chrome_options)\n",
    "now = datetime.datetime.now()\n",
    "date_csv = \"{}{:02d}{:02d}\".format(now.year,now.month,now.day)"
   ]
  },
  {
   "cell_type": "code",
   "execution_count": 66,
   "metadata": {
    "tags": []
   },
   "outputs": [],
   "source": [
    "df = pd.read_csv(\"https://oracleselixir-downloadable-match-data.s3-us-west-2.amazonaws.com/2021_LoL_esports_match_data_from_OraclesElixir_{}.csv\".format(date_csv))\n",
    "games = df.gameid.drop_duplicates()\n",
    "\n",
    "header = 'bluetop,bluejungle,bluemid,blueadc,bluesupport,redtop,redjungle,redmid,redadc,redsupport,result\\n'\n",
    "with open('dataset_{}.csv'.format(date_csv), mode='a') as dataset2021:\n",
    "    dataset2021.write(header)\n",
    "\n",
    "for game in games:\n",
    "\n",
    "    if isinstance(game, str):\n",
    "\n",
    "        blueTop = df[(df['gameid']==game) & (df['side']=='Blue') & (df['position']=='top')].champion.values[0]\n",
    "        blueJungle = df[(df['gameid']==game) & (df['side']=='Blue') & (df['position']=='jng')].champion.values[0]\n",
    "        blueMid = df[(df['gameid']==game) & (df['side']=='Blue') & (df['position']=='mid')].champion.values[0]\n",
    "        blueCarry = df[(df['gameid']==game) & (df['side']=='Blue') & (df['position']=='bot')].champion.values[0]\n",
    "        blueSupp = df[(df['gameid']==game) & (df['side']=='Blue') & (df['position']=='sup')].champion.values[0]\n",
    "\n",
    "        redTop = df[(df['gameid']==game) & (df['side']=='Red') & (df['position']=='top')].champion.values[0]\n",
    "        redJungle = df[(df['gameid']==game) & (df['side']=='Red') & (df['position']=='jng')].champion.values[0]\n",
    "        redMid = df[(df['gameid']==game) & (df['side']=='Red') & (df['position']=='mid')].champion.values[0]\n",
    "        redCarry = df[(df['gameid']==game) & (df['side']=='Red') & (df['position']=='bot')].champion.values[0]\n",
    "        redSupp = df[(df['gameid']==game) & (df['side']=='Red') & (df['position']=='sup')].champion.values[0]\n",
    "\n",
    "        result = df[(df['gameid']==game) & (df['side']=='Red') & (df['position']=='sup')].result.values[0]\n",
    "\n",
    "        with open('dataset_{}.csv'.format(date_csv), mode='a', newline=\"\") as dataset2021:\n",
    "            datasetWriter = csv.writer(dataset2021, delimiter=',')\n",
    "            datasetWriter.writerow([blueTop, blueJungle, blueMid, blueCarry, blueSupp, redTop, redJungle, redMid, redCarry, redSupp, result])"
   ]
  },
  {
   "cell_type": "code",
   "execution_count": null,
   "metadata": {},
   "outputs": [],
   "source": []
  }
 ]
}