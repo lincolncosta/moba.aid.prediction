{
 "metadata": {
  "language_info": {
   "codemirror_mode": {
    "name": "ipython",
    "version": 3
   },
   "file_extension": ".py",
   "mimetype": "text/x-python",
   "name": "python",
   "nbconvert_exporter": "python",
   "pygments_lexer": "ipython3",
   "version": "3.8.0"
  },
  "orig_nbformat": 2,
  "kernelspec": {
   "name": "python380jvsc74a57bd0c23d76e2db843e0f747ff48312a954c7457626ae9cc0ad47025b64e4be0ddf11",
   "display_name": "Python 3.8.0 64-bit"
  }
 },
 "nbformat": 4,
 "nbformat_minor": 2,
 "cells": [
  {
   "cell_type": "code",
   "execution_count": 1,
   "metadata": {},
   "outputs": [],
   "source": [
    "from selenium import webdriver\n",
    "from selenium.webdriver.chrome.options import Options\n",
    "from selenium.webdriver.common.by import By\n",
    "from selenium.webdriver.support.ui import WebDriverWait\n",
    "from selenium.webdriver.support import expected_conditions as ec\n",
    "\n",
    "import datetime\n",
    "import time"
   ]
  },
  {
   "cell_type": "code",
   "execution_count": 2,
   "metadata": {},
   "outputs": [],
   "source": [
    "chrome_path = r'dependency/chromedriver'\n",
    "chrome_options = Options()\n",
    "chrome_options.add_argument(\"--headless\")\n",
    "driver = webdriver.Chrome(executable_path=chrome_path, options=chrome_options)"
   ]
  },
  {
   "cell_type": "code",
   "execution_count": 3,
   "metadata": {},
   "outputs": [
    {
     "output_type": "stream",
     "name": "stdout",
     "text": [
      "GP:1\nWR:0%\nKDA:8.0\n"
     ]
    }
   ],
   "source": [
    "driver.get(\"https://oracleselixir.com/player/BrTT/championPool\")\n",
    "\n",
    "now = datetime.datetime.now()\n",
    "date_csv = \"{:02d}/{:02d}/{}\".format(now.day,now.month,now.year)\n",
    "\n",
    "wait = WebDriverWait(driver, 5)\n",
    "start_date_input = wait.until(ec.presence_of_element_located(\n",
    "        (By.XPATH, '//*[@id=\"start_date\"]')), message='Campo \"Start Date\" era esperado e não foi encontrado.')\n",
    "start_date_input.send_keys('01/01/2021')\n",
    "\n",
    "time.sleep(3)\n",
    "\n",
    "end_date_input = driver.find_element_by_xpath('//*[@id=\"end_date\"]')\n",
    "end_date_input.send_keys(date_csv)\n",
    "\n",
    "time.sleep(3)\n",
    "\n",
    "games_played_element = driver.find_elements_by_xpath(\"//*[contains(text(), 'Sivir')]/following::div/following::div\")[0]\n",
    "win_rate_element = driver.find_elements_by_xpath(\"//*[contains(text(), 'Sivir')]/following::div/following::div/following::div\")[0]\n",
    "kda_element = driver.find_elements_by_xpath(\"//*[contains(text(), 'Sivir')]/following::div/following::div/following::div/following::div/following::div\")[0]\n",
    "\n",
    "print('GP: ' + games_played_element.text)\n",
    "print('WR: ' + win_rate_element.text)\n",
    "print('KDA :' + kda_element.text)\n",
    "\n",
    "driver.quit()"
   ]
  }
 ]
}