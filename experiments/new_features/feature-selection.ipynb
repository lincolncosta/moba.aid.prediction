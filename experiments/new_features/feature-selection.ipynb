{
 "metadata": {
  "language_info": {
   "codemirror_mode": {
    "name": "ipython",
    "version": 3
   },
   "file_extension": ".py",
   "mimetype": "text/x-python",
   "name": "python",
   "nbconvert_exporter": "python",
   "pygments_lexer": "ipython3",
   "version": 3
  },
  "orig_nbformat": 2
 },
 "nbformat": 4,
 "nbformat_minor": 2,
 "cells": [
  {
   "cell_type": "code",
   "execution_count": null,
   "metadata": {},
   "outputs": [],
   "source": [
    "import pandas as pd\n",
    "\n",
    "import graphviz\n",
    "\n",
    "from sklearn.model_selection import train_test_split, KFold, cross_val_score, RepeatedKFold\n",
    "from sklearn.linear_model import LogisticRegression\n",
    "from sklearn.svm import LinearSVC, SVC\n",
    "from sklearn.tree import DecisionTreeClassifier\n",
    "from sklearn.ensemble import RandomForestClassifier, GradientBoostingClassifier, AdaBoostClassifier\n",
    "from sklearn import tree\n",
    "from string import ascii_letters\n",
    "import numpy as np\n",
    "import pandas as pd\n",
    "import seaborn as sns\n",
    "import matplotlib.pyplot as plt"
   ]
  },
  {
   "cell_type": "code",
   "execution_count": null,
   "metadata": {},
   "outputs": [],
   "source": [
    "models = {\n",
    "    'Decision Tree': DecisionTreeClassifier(),\n",
    "    'Random Forest': RandomForestClassifier(),\n",
    "}"
   ]
  },
  {
   "cell_type": "code",
   "execution_count": null,
   "metadata": {},
   "outputs": [],
   "source": [
    "dataset = pd.read_csv('../../data/dataset_new_features.csv')\n",
    "df_champions = pd.read_csv('dataset-champions.csv')\n",
    "X = dataset.drop('game', axis=1)\n",
    "X = X.drop('result', axis=1)\n",
    "y = dataset['result']"
   ]
  },
  {
   "cell_type": "code",
   "execution_count": null,
   "metadata": {},
   "outputs": [],
   "source": [
    "X_train, X_test, y_train, y_test = train_test_split(X, y, train_size=0.8)\n",
    "kfold10 = RepeatedKFold(n_splits=10,n_repeats=5)\n",
    "for name, model in models.items():\n",
    "    scoresCV10 = cross_val_score(model, X, y, cv=kfold10)\n",
    "    print('RESULTADOS DO MODELO {}:'.format(name))\n",
    "    print(scoresCV10)"
   ]
  },
  {
   "cell_type": "code",
   "execution_count": null,
   "metadata": {},
   "outputs": [],
   "source": [
    "model = models['Decision Tree'].fit(X,y)\n",
    "dot_data = tree.export_graphviz(models['Decision Tree'], out_file=None,\n",
    "                                filled=True)\n",
    "\n",
    "# Draw graph\n",
    "graph = graphviz.Source(dot_data, format=\"png\")\n",
    "filename = graph.render('outputs/decision-tree',view=True)"
   ]
  },
  {
   "cell_type": "code",
   "execution_count": null,
   "metadata": {},
   "outputs": [],
   "source": [
    "model = models['Random Forest'].fit(X,y)\n",
    "\n",
    "# Extract single tree\n",
    "estimator = model.estimators_[5]\n",
    "\n",
    "# Export as dot file\n",
    "export_graphviz(estimator, out_file='outputs/random-forest.dot', \n",
    "                rounded = True, proportion = False, \n",
    "                precision = 2, filled = True)\n",
    "\n",
    "# Convert to png using system command (requires Graphviz)\n",
    "\n",
    "call(['dot', '-Tpng', 'outputs/random-forest.dot', '-o', 'outputs/random-forest.png', '-Gdpi=600'])"
   ]
  }
 ]
}