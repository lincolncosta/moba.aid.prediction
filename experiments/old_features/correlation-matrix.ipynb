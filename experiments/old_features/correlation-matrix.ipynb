{
 "metadata": {
  "language_info": {
   "codemirror_mode": {
    "name": "ipython",
    "version": 3
   },
   "file_extension": ".py",
   "mimetype": "text/x-python",
   "name": "python",
   "nbconvert_exporter": "python",
   "pygments_lexer": "ipython3",
   "version": 3
  },
  "orig_nbformat": 2
 },
 "nbformat": 4,
 "nbformat_minor": 2,
 "cells": [
  {
   "cell_type": "code",
   "execution_count": null,
   "metadata": {},
   "outputs": [],
   "source": [
    "from string import ascii_letters\n",
    "import numpy as np\n",
    "import pandas as pd\n",
    "import seaborn as sns\n",
    "import matplotlib.pyplot as plt"
   ]
  },
  {
   "cell_type": "code",
   "execution_count": null,
   "metadata": {},
   "outputs": [],
   "source": [
    "df = pd.read_csv('../../data/dataset_old_features.csv')\n",
    "df_champions = pd.read_csv('../../data/dataset-champions.csv')\n",
    "\n",
    "X = df.drop('result',axis=1)\n",
    "X = X.drop('game', axis=1)\n",
    "\n",
    "for index, row in X.iterrows():\n",
    "    X.loc[index, 'bluetop'] = int(df_champions.loc[df_champions['id'] == row['bluetop']]['key'])    \n",
    "    X.loc[index, 'bluejungle'] = int(df_champions.loc[df_champions['id'] == row['bluejungle']]['key'])\n",
    "    X.loc[index, 'bluemid'] = int(df_champions.loc[df_champions['id'] == row['bluemid']]['key'])    \n",
    "    X.loc[index, 'blueadc'] = int(df_champions.loc[df_champions['id'] == row['blueadc']]['key'])\n",
    "    X.loc[index, 'bluesupport'] = int(df_champions.loc[df_champions['id'] == row['bluesupport']]['key'])\n",
    "\n",
    "    X.loc[index, 'redtop'] = int(df_champions.loc[df_champions['id'] == row['redtop']]['key'])\n",
    "    X.loc[index, 'redjungle'] = int(df_champions.loc[df_champions['id'] == row['redjungle']]['key'])\n",
    "    X.loc[index, 'redmid'] = int(df_champions.loc[df_champions['id'] == row['redmid']]['key'])\n",
    "    X.loc[index, 'redadc'] = int(df_champions.loc[df_champions['id'] == row['redadc']]['key'])\n",
    "    X.loc[index, 'redsupport'] = int(df_champions.loc[df_champions['id'] == row['redsupport']]['key'])\n",
    "\n",
    "# Compute the correlation matrix\n",
    "corr = X.corr()\n",
    "\n",
    "# Generate a mask for the upper triangle\n",
    "mask = np.triu(np.ones_like(corr, dtype=bool))\n",
    "\n",
    "# Set up the matplotlib figure\n",
    "f, ax = plt.subplots(figsize=(11, 9))\n",
    "\n",
    "# Generate a custom diverging colormap\n",
    "cmap = sns.diverging_palette(230, 20, as_cmap=True)\n",
    "\n",
    "# Draw the heatmap with the mask and correct aspect ratio\n",
    "sns.heatmap(corr, mask=mask, cmap=cmap, vmax=.3, center=0,\n",
    "            square=True, linewidths=.5, cbar_kws={\"shrink\": .5})"
   ]
  }
 ]
}